{
 "cells": [
  {
   "cell_type": "markdown",
   "id": "97985785",
   "metadata": {},
   "source": [
    "# Guión 2\n",
    "Antonio Ruiz Molero"
   ]
  },
  {
   "cell_type": "code",
   "execution_count": 5,
   "id": "2efb750c",
   "metadata": {},
   "outputs": [],
   "source": [
    "import pandas as pd\n",
    "import numpy as np\n",
    "white = pd.read_csv(\"winequality-white.csv\", sep = \";\")\n",
    "\n",
    "red = pd.read_csv(\"winequality-red.csv\", sep = \";\")\n",
    "\n",
    "red['type'] = 1\n",
    "\n",
    "white['type'] = 0\n",
    "\n",
    "wines = red.append(white, ignore_index = True)"
   ]
  },
  {
   "cell_type": "code",
   "execution_count": 2,
   "id": "e9d02a5d",
   "metadata": {},
   "outputs": [
    {
     "data": {
      "text/html": [
       "<div>\n",
       "<style scoped>\n",
       "    .dataframe tbody tr th:only-of-type {\n",
       "        vertical-align: middle;\n",
       "    }\n",
       "\n",
       "    .dataframe tbody tr th {\n",
       "        vertical-align: top;\n",
       "    }\n",
       "\n",
       "    .dataframe thead th {\n",
       "        text-align: right;\n",
       "    }\n",
       "</style>\n",
       "<table border=\"1\" class=\"dataframe\">\n",
       "  <thead>\n",
       "    <tr style=\"text-align: right;\">\n",
       "      <th></th>\n",
       "      <th>fixed acidity</th>\n",
       "      <th>volatile acidity</th>\n",
       "      <th>citric acid</th>\n",
       "      <th>residual sugar</th>\n",
       "      <th>chlorides</th>\n",
       "      <th>free sulfur dioxide</th>\n",
       "      <th>total sulfur dioxide</th>\n",
       "      <th>density</th>\n",
       "      <th>pH</th>\n",
       "      <th>sulphates</th>\n",
       "      <th>alcohol</th>\n",
       "      <th>quality</th>\n",
       "      <th>type</th>\n",
       "    </tr>\n",
       "  </thead>\n",
       "  <tbody>\n",
       "    <tr>\n",
       "      <th>count</th>\n",
       "      <td>6497.000000</td>\n",
       "      <td>6497.000000</td>\n",
       "      <td>6497.000000</td>\n",
       "      <td>6497.000000</td>\n",
       "      <td>6497.000000</td>\n",
       "      <td>6497.000000</td>\n",
       "      <td>6497.000000</td>\n",
       "      <td>6497.000000</td>\n",
       "      <td>6497.000000</td>\n",
       "      <td>6497.000000</td>\n",
       "      <td>6497.000000</td>\n",
       "      <td>6497.000000</td>\n",
       "      <td>6497.000000</td>\n",
       "    </tr>\n",
       "    <tr>\n",
       "      <th>mean</th>\n",
       "      <td>7.215307</td>\n",
       "      <td>0.339666</td>\n",
       "      <td>0.318633</td>\n",
       "      <td>5.443235</td>\n",
       "      <td>0.056034</td>\n",
       "      <td>30.525319</td>\n",
       "      <td>115.744574</td>\n",
       "      <td>0.994697</td>\n",
       "      <td>3.218501</td>\n",
       "      <td>0.531268</td>\n",
       "      <td>10.491801</td>\n",
       "      <td>5.818378</td>\n",
       "      <td>0.246114</td>\n",
       "    </tr>\n",
       "    <tr>\n",
       "      <th>std</th>\n",
       "      <td>1.296434</td>\n",
       "      <td>0.164636</td>\n",
       "      <td>0.145318</td>\n",
       "      <td>4.757804</td>\n",
       "      <td>0.035034</td>\n",
       "      <td>17.749400</td>\n",
       "      <td>56.521855</td>\n",
       "      <td>0.002999</td>\n",
       "      <td>0.160787</td>\n",
       "      <td>0.148806</td>\n",
       "      <td>1.192712</td>\n",
       "      <td>0.873255</td>\n",
       "      <td>0.430779</td>\n",
       "    </tr>\n",
       "    <tr>\n",
       "      <th>min</th>\n",
       "      <td>3.800000</td>\n",
       "      <td>0.080000</td>\n",
       "      <td>0.000000</td>\n",
       "      <td>0.600000</td>\n",
       "      <td>0.009000</td>\n",
       "      <td>1.000000</td>\n",
       "      <td>6.000000</td>\n",
       "      <td>0.987110</td>\n",
       "      <td>2.720000</td>\n",
       "      <td>0.220000</td>\n",
       "      <td>8.000000</td>\n",
       "      <td>3.000000</td>\n",
       "      <td>0.000000</td>\n",
       "    </tr>\n",
       "    <tr>\n",
       "      <th>25%</th>\n",
       "      <td>6.400000</td>\n",
       "      <td>0.230000</td>\n",
       "      <td>0.250000</td>\n",
       "      <td>1.800000</td>\n",
       "      <td>0.038000</td>\n",
       "      <td>17.000000</td>\n",
       "      <td>77.000000</td>\n",
       "      <td>0.992340</td>\n",
       "      <td>3.110000</td>\n",
       "      <td>0.430000</td>\n",
       "      <td>9.500000</td>\n",
       "      <td>5.000000</td>\n",
       "      <td>0.000000</td>\n",
       "    </tr>\n",
       "    <tr>\n",
       "      <th>50%</th>\n",
       "      <td>7.000000</td>\n",
       "      <td>0.290000</td>\n",
       "      <td>0.310000</td>\n",
       "      <td>3.000000</td>\n",
       "      <td>0.047000</td>\n",
       "      <td>29.000000</td>\n",
       "      <td>118.000000</td>\n",
       "      <td>0.994890</td>\n",
       "      <td>3.210000</td>\n",
       "      <td>0.510000</td>\n",
       "      <td>10.300000</td>\n",
       "      <td>6.000000</td>\n",
       "      <td>0.000000</td>\n",
       "    </tr>\n",
       "    <tr>\n",
       "      <th>75%</th>\n",
       "      <td>7.700000</td>\n",
       "      <td>0.400000</td>\n",
       "      <td>0.390000</td>\n",
       "      <td>8.100000</td>\n",
       "      <td>0.065000</td>\n",
       "      <td>41.000000</td>\n",
       "      <td>156.000000</td>\n",
       "      <td>0.996990</td>\n",
       "      <td>3.320000</td>\n",
       "      <td>0.600000</td>\n",
       "      <td>11.300000</td>\n",
       "      <td>6.000000</td>\n",
       "      <td>0.000000</td>\n",
       "    </tr>\n",
       "    <tr>\n",
       "      <th>max</th>\n",
       "      <td>15.900000</td>\n",
       "      <td>1.580000</td>\n",
       "      <td>1.660000</td>\n",
       "      <td>65.800000</td>\n",
       "      <td>0.611000</td>\n",
       "      <td>289.000000</td>\n",
       "      <td>440.000000</td>\n",
       "      <td>1.038980</td>\n",
       "      <td>4.010000</td>\n",
       "      <td>2.000000</td>\n",
       "      <td>14.900000</td>\n",
       "      <td>9.000000</td>\n",
       "      <td>1.000000</td>\n",
       "    </tr>\n",
       "  </tbody>\n",
       "</table>\n",
       "</div>"
      ],
      "text/plain": [
       "       fixed acidity  volatile acidity  citric acid  residual sugar  \\\n",
       "count    6497.000000       6497.000000  6497.000000     6497.000000   \n",
       "mean        7.215307          0.339666     0.318633        5.443235   \n",
       "std         1.296434          0.164636     0.145318        4.757804   \n",
       "min         3.800000          0.080000     0.000000        0.600000   \n",
       "25%         6.400000          0.230000     0.250000        1.800000   \n",
       "50%         7.000000          0.290000     0.310000        3.000000   \n",
       "75%         7.700000          0.400000     0.390000        8.100000   \n",
       "max        15.900000          1.580000     1.660000       65.800000   \n",
       "\n",
       "         chlorides  free sulfur dioxide  total sulfur dioxide      density  \\\n",
       "count  6497.000000          6497.000000           6497.000000  6497.000000   \n",
       "mean      0.056034            30.525319            115.744574     0.994697   \n",
       "std       0.035034            17.749400             56.521855     0.002999   \n",
       "min       0.009000             1.000000              6.000000     0.987110   \n",
       "25%       0.038000            17.000000             77.000000     0.992340   \n",
       "50%       0.047000            29.000000            118.000000     0.994890   \n",
       "75%       0.065000            41.000000            156.000000     0.996990   \n",
       "max       0.611000           289.000000            440.000000     1.038980   \n",
       "\n",
       "                pH    sulphates      alcohol      quality         type  \n",
       "count  6497.000000  6497.000000  6497.000000  6497.000000  6497.000000  \n",
       "mean      3.218501     0.531268    10.491801     5.818378     0.246114  \n",
       "std       0.160787     0.148806     1.192712     0.873255     0.430779  \n",
       "min       2.720000     0.220000     8.000000     3.000000     0.000000  \n",
       "25%       3.110000     0.430000     9.500000     5.000000     0.000000  \n",
       "50%       3.210000     0.510000    10.300000     6.000000     0.000000  \n",
       "75%       3.320000     0.600000    11.300000     6.000000     0.000000  \n",
       "max       4.010000     2.000000    14.900000     9.000000     1.000000  "
      ]
     },
     "execution_count": 2,
     "metadata": {},
     "output_type": "execute_result"
    }
   ],
   "source": [
    "wines.describe()"
   ]
  },
  {
   "cell_type": "code",
   "execution_count": 3,
   "id": "cb3c0826",
   "metadata": {},
   "outputs": [],
   "source": [
    "X = wines.iloc[:, 0:12]"
   ]
  },
  {
   "cell_type": "code",
   "execution_count": 4,
   "id": "5e47be57",
   "metadata": {
    "tags": []
   },
   "outputs": [],
   "source": [
    "Y = np.ravel(wines.quality)"
   ]
  },
  {
   "cell_type": "code",
   "execution_count": 5,
   "id": "2c04f7f7",
   "metadata": {},
   "outputs": [],
   "source": [
    "from sklearn.preprocessing import StandardScaler\n",
    "\n",
    "X_train = StandardScaler().fit_transform(X)"
   ]
  },
  {
   "cell_type": "code",
   "execution_count": 6,
   "id": "5405d295",
   "metadata": {},
   "outputs": [
    {
     "data": {
      "text/plain": [
       "array([[ 0.14247327,  2.18883292, -2.19283252, ...,  0.19309677,\n",
       "        -0.91546416, -0.93722961],\n",
       "       [ 0.45103572,  3.28223494, -2.19283252, ...,  0.99957862,\n",
       "        -0.58006813, -0.93722961],\n",
       "       [ 0.45103572,  2.55330026, -1.91755268, ...,  0.79795816,\n",
       "        -0.58006813, -0.93722961],\n",
       "       ...,\n",
       "       [-0.55179227, -0.6054167 , -0.88525328, ..., -0.47897144,\n",
       "        -0.91546416,  0.20799905],\n",
       "       [-1.32319841, -0.30169391, -0.12823371, ..., -1.016626  ,\n",
       "         1.9354021 ,  1.35322771],\n",
       "       [-0.93749534, -0.78765037,  0.42232597, ..., -1.41986693,\n",
       "         1.09691202,  0.20799905]])"
      ]
     },
     "execution_count": 6,
     "metadata": {},
     "output_type": "execute_result"
    }
   ],
   "source": [
    "X_train"
   ]
  },
  {
   "cell_type": "code",
   "execution_count": 6,
   "id": "63df50b0",
   "metadata": {},
   "outputs": [],
   "source": [
    "from keras import Sequential\n",
    "\n",
    "from keras.layers import Dense\n",
    "\n",
    "import numpy as np\n",
    "from sklearn.model_selection import StratifiedKFold\n",
    "\n",
    "from sklearn.metrics import r2_score\n",
    "\n"
   ]
  },
  {
   "cell_type": "markdown",
   "id": "1f6d91f8",
   "metadata": {},
   "source": [
    "Definimos una función que nos ayude a automatizar el proceso de creación de modelos, al igual que en la práctica anterior. Como parámetros de entrada, podemos definir el numero de capas ocultas y las neuronas por capa. Además del número de particiones, épocas, el optimizador y la métrica que usa durante el aprendizaje."
   ]
  },
  {
   "cell_type": "code",
   "execution_count": 7,
   "id": "4715eb49",
   "metadata": {},
   "outputs": [],
   "source": [
    "def regression_model(units_per_layer, input_s,  n_splits_, epochs_, verbose_=1, seed_=1, optimizer_ = 'rmsprop', metrics_ = [ 'mae'], activation_ = 'relu' ):\n",
    "    seed = seed_\n",
    "    np.random.seed(seed)\n",
    "\n",
    "    kfold = StratifiedKFold(n_splits=n_splits_, shuffle=True, random_state=seed)\n",
    "\n",
    "    for train, test in kfold.split(X, Y):\n",
    "        model = Sequential()\n",
    "        depth = len(units_per_layer)\n",
    "        model.add(Dense(units_per_layer[0], activation=activation_, input_shape=(input_s,)))\n",
    "        if (depth!=0):\n",
    "            for i in range(1, depth):\n",
    "                model.add(Dense(units_per_layer[i], activation=activation_))\n",
    "        model.add(Dense(1))\n",
    "        \n",
    "        model.compile(optimizer=optimizer_, loss='mse', metrics=metrics_)\n",
    "        model.fit(X_train[train], Y[train], epochs=epochs_, verbose=verbose_)\n",
    "        y_pred=model.predict(X_train[test])\n",
    "\n",
    "    mse_value, mae_value = model.evaluate(X_train[test], Y[test], verbose=verbose_)\n",
    "    r2score = r2_score(Y[test], y_pred)\n",
    "    return mse_value, mae_value, r2score\n",
    "    "
   ]
  },
  {
   "cell_type": "code",
   "execution_count": 21,
   "id": "8899b392",
   "metadata": {},
   "outputs": [
    {
     "data": {
      "text/plain": [
       "(0.008574560284614563, 0.0696149617433548, 0.9887701004304583)"
      ]
     },
     "execution_count": 21,
     "metadata": {},
     "output_type": "execute_result"
    }
   ],
   "source": [
    "regression_model([62], 12, 5, 10, verbose_=0, seed_=1, optimizer_='rmsprop', metrics_=['mae'], activation_='relu' )"
   ]
  },
  {
   "cell_type": "markdown",
   "id": "2dbe62a1",
   "metadata": {},
   "source": [
    "## Resultados iniciales\n",
    "Usando la configuración de 1 capa oculta con 62 neuronas, vemos la variación de los resultados al usar distintas épocas con las métricas mse, mae y R2."
   ]
  },
  {
   "cell_type": "code",
   "execution_count": 24,
   "id": "c23a91be",
   "metadata": {},
   "outputs": [],
   "source": [
    "epochs = [10, 20, 30, 40, 50]\n",
    "metricas = []\n",
    "for i_epochs in epochs:\n",
    "    metricas.append(regression_model([62], 12, 5, i_epochs, verbose_=0, seed_=1, optimizer_='rmsprop', metrics_=['mae'], activation_='relu' ))"
   ]
  },
  {
   "cell_type": "code",
   "execution_count": 25,
   "id": "525b32f0",
   "metadata": {},
   "outputs": [
    {
     "data": {
      "text/plain": [
       "[(0.013785162940621376, 0.09119463711977005, 0.9819458944296605),\n",
       " (0.0031737484969198704, 0.042470671236515045, 0.9958434127049484),\n",
       " (0.0023599134292453527, 0.03551211208105087, 0.996909276122736),\n",
       " (0.0021134091075509787, 0.03185389190912247, 0.9972321161603671),\n",
       " (0.00415986031293869, 0.05721772089600563, 0.994551927900059)]"
      ]
     },
     "execution_count": 25,
     "metadata": {},
     "output_type": "execute_result"
    }
   ],
   "source": [
    "metricas"
   ]
  },
  {
   "cell_type": "code",
   "execution_count": 27,
   "id": "3d67b164",
   "metadata": {},
   "outputs": [
    {
     "name": "stdout",
     "output_type": "stream",
     "text": [
      "                mse       mae        R2\n",
      "10 epochs  0.013785  0.091195  0.981946\n",
      "20 epochs  0.003174  0.042471  0.995843\n",
      "30 epochs  0.002360  0.035512  0.996909\n",
      "40 epochs  0.002113  0.031854  0.997232\n",
      "50 epochs  0.004160  0.057218  0.994552\n"
     ]
    }
   ],
   "source": [
    "df_metricas = pd.DataFrame(metricas, columns=['mse', 'mae', 'R2'], index=['10 epochs', '20 epochs', '30 epochs', '40 epochs', '50 epochs'])\n",
    "print(df_metricas)"
   ]
  },
  {
   "cell_type": "markdown",
   "id": "2f9a87c5",
   "metadata": {},
   "source": [
    "El número de iteraciones que mejores resultados obtienen son 40 épocas. El valor de mse y mae decae hasta un mínimo en las pruebas que hemos realizado y R2 obtiene un valor muy cercano a 1. Parece que obtenemos un mínimo ya que a valores menores y mayores de épocas, los resultados empeoran."
   ]
  },
  {
   "cell_type": "markdown",
   "id": "40036f78",
   "metadata": {},
   "source": [
    "## Ajuste fino de la regresión\n",
    "\n",
    "### Agregar más capas\n",
    "Definimos varios modelos en los cuales aumentamos el número de capas"
   ]
  },
  {
   "cell_type": "code",
   "execution_count": 31,
   "id": "49cae8e3",
   "metadata": {},
   "outputs": [],
   "source": [
    "metricas = []\n",
    "modelos = [[62], [62, 62], [62, 62, 62], [62, 62, 62, 62], [62, 62, 62, 62, 62]]\n",
    "for i_modelos in modelos:\n",
    "    metricas.append(regression_model(i_modelos, 12, 5, 40, verbose_=0, seed_=1, optimizer_='rmsprop', metrics_=['mae'], activation_='relu' ))"
   ]
  },
  {
   "cell_type": "code",
   "execution_count": 32,
   "id": "503f81b1",
   "metadata": {},
   "outputs": [
    {
     "data": {
      "text/plain": [
       "[(0.0011985173914581537, 0.026208890601992607, 0.9984303253984265),\n",
       " (0.002360659884288907, 0.03976006060838699, 0.9969082992724735),\n",
       " (0.011676796711981297, 0.09639350324869156, 0.984707167042099),\n",
       " (0.0015980659518390894, 0.033231861889362335, 0.9979070536381559),\n",
       " (0.008068920113146305, 0.08572115749120712, 0.989432321445366)]"
      ]
     },
     "execution_count": 32,
     "metadata": {},
     "output_type": "execute_result"
    }
   ],
   "source": [
    "metricas"
   ]
  },
  {
   "cell_type": "code",
   "execution_count": 33,
   "id": "53e6d78e",
   "metadata": {},
   "outputs": [
    {
     "name": "stdout",
     "output_type": "stream",
     "text": [
      "                      mse       mae        R2\n",
      "1 capa oculta    0.001199  0.026209  0.998430\n",
      "2 capas ocultas  0.002361  0.039760  0.996908\n",
      "3 capas ocultas  0.011677  0.096394  0.984707\n",
      "4 capas ocultas  0.001598  0.033232  0.997907\n",
      "5 capas ocultas  0.008069  0.085721  0.989432\n"
     ]
    }
   ],
   "source": [
    "df_metricas = pd.DataFrame(metricas, columns=['mse', 'mae', 'R2'], index=['1 capa oculta', '2 capas ocultas', '3 capas ocultas', '4 capas ocultas', '5 capas ocultas'])\n",
    "print(df_metricas)"
   ]
  },
  {
   "cell_type": "markdown",
   "id": "d1420a83",
   "metadata": {},
   "source": [
    "Los resultados son curiosos. En general, parece que a mayor número de capas ocultas, el resultado empeora, ya que con una capa oculta obtenemos muy buenos valores en las métricas utilizadas. Pero destaca el caso con 4 capas ocultas en las que se obtienen resultados muy parecidos a una solo capa. Ya que los resultados son ligeramente peores, elegiría el modelo de una capa oculta para este problema ya que da los mejores resultados con muy pocos parámetros y, por consiguiente, menor tiempo de cómputo."
   ]
  },
  {
   "cell_type": "markdown",
   "id": "fe5622cc",
   "metadata": {},
   "source": [
    "### Agregar más neuronas"
   ]
  },
  {
   "cell_type": "code",
   "execution_count": 39,
   "id": "6f504221",
   "metadata": {},
   "outputs": [],
   "source": [
    "metricas = []\n",
    "neuronas = [32, 64, 128]\n",
    "for n_neurons in neuronas:\n",
    "    modelos = [[n_neurons], [n_neurons, n_neurons], [n_neurons, n_neurons, n_neurons], [n_neurons, n_neurons, n_neurons, n_neurons]]\n",
    "    for i_modelos in modelos:\n",
    "            metricas.append(regression_model(i_modelos, 12, 5, 40, verbose_=0, seed_=1, optimizer_='rmsprop', metrics_=['mae'], activation_='relu' ))\n"
   ]
  },
  {
   "cell_type": "code",
   "execution_count": 41,
   "id": "b96461c3",
   "metadata": {},
   "outputs": [],
   "source": [
    "metricas_mas_neuronas = metricas.copy()"
   ]
  },
  {
   "cell_type": "code",
   "execution_count": 82,
   "id": "ab3b6986",
   "metadata": {},
   "outputs": [],
   "source": [
    "col_neurons = []\n",
    "col_capas = []\n",
    "\n",
    "neuronas = [32, 64, 128]\n",
    "for n_neurons in neuronas:\n",
    "    modelos = [[n_neurons], [n_neurons, n_neurons], [n_neurons, n_neurons, n_neurons], [n_neurons, n_neurons, n_neurons, n_neurons]]\n",
    "    for i_modelos in modelos:\n",
    "            col_neurons.append(n_neurons)\n",
    "            col_capas.append(len(i_modelos))\n"
   ]
  },
  {
   "cell_type": "code",
   "execution_count": 41,
   "id": "9363751b",
   "metadata": {},
   "outputs": [],
   "source": [
    "col_neurons = np.array(col_neurons)\n",
    "col_capas = np.array(col_capas)"
   ]
  },
  {
   "cell_type": "code",
   "execution_count": 84,
   "id": "e9314295",
   "metadata": {},
   "outputs": [
    {
     "data": {
      "text/plain": [
       "[(0.0030147526413202286, 0.04196714609861374, 0.9960516490405238),\n",
       " (0.0021234694868326187, 0.03902815654873848, 0.9972189402503031),\n",
       " (0.00232324399985373, 0.034287091344594955, 0.9969572995729771),\n",
       " (0.006025801412761211, 0.06982725113630295, 0.9921081461392257),\n",
       " (0.0017118020914494991, 0.03035326488316059, 0.997758092512183),\n",
       " (0.0025139683857560158, 0.043074388056993484, 0.9967075139799236),\n",
       " (0.0026746534276753664, 0.04470125213265419, 0.9964970685803987),\n",
       " (0.005054554436355829, 0.06605581194162369, 0.9933801723098398),\n",
       " (0.0017037560464814305, 0.028759095817804337, 0.9977686257101368),\n",
       " (0.02868947759270668, 0.1408333033323288, 0.9624260407298256),\n",
       " (0.004920251201838255, 0.05909089371562004, 0.9935560614759515),\n",
       " (0.0009687933488748968, 0.024702884256839752, 0.9987311844307625)]"
      ]
     },
     "execution_count": 84,
     "metadata": {},
     "output_type": "execute_result"
    }
   ],
   "source": [
    "metricas_mas_neuronas"
   ]
  },
  {
   "cell_type": "code",
   "execution_count": 85,
   "id": "254ec151",
   "metadata": {},
   "outputs": [
    {
     "name": "stdout",
     "output_type": "stream",
     "text": [
      "         mse       mae        R2\n",
      "0   0.003015  0.041967  0.996052\n",
      "1   0.002123  0.039028  0.997219\n",
      "2   0.002323  0.034287  0.996957\n",
      "3   0.006026  0.069827  0.992108\n",
      "4   0.001712  0.030353  0.997758\n",
      "5   0.002514  0.043074  0.996708\n",
      "6   0.002675  0.044701  0.996497\n",
      "7   0.005055  0.066056  0.993380\n",
      "8   0.001704  0.028759  0.997769\n",
      "9   0.028689  0.140833  0.962426\n",
      "10  0.004920  0.059091  0.993556\n",
      "11  0.000969  0.024703  0.998731\n"
     ]
    }
   ],
   "source": [
    "df_aux1 = pd.DataFrame(metricas_mas_neuronas, columns=['mse', 'mae', 'R2'])\n",
    "print(df_aux1)"
   ]
  },
  {
   "cell_type": "code",
   "execution_count": 91,
   "id": "25e353f0",
   "metadata": {},
   "outputs": [
    {
     "name": "stdout",
     "output_type": "stream",
     "text": [
      "    Capas  Neuronas       mse       mae        R2\n",
      "0       1        32  0.003015  0.041967  0.996052\n",
      "1       2        32  0.002123  0.039028  0.997219\n",
      "2       3        32  0.002323  0.034287  0.996957\n",
      "3       4        32  0.006026  0.069827  0.992108\n",
      "4       1        64  0.001712  0.030353  0.997758\n",
      "5       2        64  0.002514  0.043074  0.996708\n",
      "6       3        64  0.002675  0.044701  0.996497\n",
      "7       4        64  0.005055  0.066056  0.993380\n",
      "8       1       128  0.001704  0.028759  0.997769\n",
      "9       2       128  0.028689  0.140833  0.962426\n",
      "10      3       128  0.004920  0.059091  0.993556\n",
      "11      4       128  0.000969  0.024703  0.998731\n"
     ]
    }
   ],
   "source": [
    "data = {'Capas': col_capas,\n",
    "        'Neuronas': col_neurons\n",
    "        }\n",
    "df_aux2 = pd.DataFrame(data, columns=['Capas', 'Neuronas'])\n",
    "df_mas_neuronas = pd.concat([df_aux2, df_aux1], axis=1)\n",
    "\n",
    "print(df_mas_neuronas)"
   ]
  },
  {
   "cell_type": "markdown",
   "id": "570f4f72",
   "metadata": {},
   "source": [
    "Podemos ver cual fue el caso que mejor resultado dio si ordenamos de mayor a menor los casos en función de las métricas obtenidas."
   ]
  },
  {
   "cell_type": "code",
   "execution_count": 93,
   "id": "501f726a",
   "metadata": {},
   "outputs": [
    {
     "data": {
      "text/html": [
       "<div>\n",
       "<style scoped>\n",
       "    .dataframe tbody tr th:only-of-type {\n",
       "        vertical-align: middle;\n",
       "    }\n",
       "\n",
       "    .dataframe tbody tr th {\n",
       "        vertical-align: top;\n",
       "    }\n",
       "\n",
       "    .dataframe thead th {\n",
       "        text-align: right;\n",
       "    }\n",
       "</style>\n",
       "<table border=\"1\" class=\"dataframe\">\n",
       "  <thead>\n",
       "    <tr style=\"text-align: right;\">\n",
       "      <th></th>\n",
       "      <th>Capas</th>\n",
       "      <th>Neuronas</th>\n",
       "      <th>mse</th>\n",
       "      <th>mae</th>\n",
       "      <th>R2</th>\n",
       "    </tr>\n",
       "  </thead>\n",
       "  <tbody>\n",
       "    <tr>\n",
       "      <th>11</th>\n",
       "      <td>4</td>\n",
       "      <td>128</td>\n",
       "      <td>0.000969</td>\n",
       "      <td>0.024703</td>\n",
       "      <td>0.998731</td>\n",
       "    </tr>\n",
       "    <tr>\n",
       "      <th>8</th>\n",
       "      <td>1</td>\n",
       "      <td>128</td>\n",
       "      <td>0.001704</td>\n",
       "      <td>0.028759</td>\n",
       "      <td>0.997769</td>\n",
       "    </tr>\n",
       "    <tr>\n",
       "      <th>4</th>\n",
       "      <td>1</td>\n",
       "      <td>64</td>\n",
       "      <td>0.001712</td>\n",
       "      <td>0.030353</td>\n",
       "      <td>0.997758</td>\n",
       "    </tr>\n",
       "    <tr>\n",
       "      <th>1</th>\n",
       "      <td>2</td>\n",
       "      <td>32</td>\n",
       "      <td>0.002123</td>\n",
       "      <td>0.039028</td>\n",
       "      <td>0.997219</td>\n",
       "    </tr>\n",
       "    <tr>\n",
       "      <th>2</th>\n",
       "      <td>3</td>\n",
       "      <td>32</td>\n",
       "      <td>0.002323</td>\n",
       "      <td>0.034287</td>\n",
       "      <td>0.996957</td>\n",
       "    </tr>\n",
       "    <tr>\n",
       "      <th>5</th>\n",
       "      <td>2</td>\n",
       "      <td>64</td>\n",
       "      <td>0.002514</td>\n",
       "      <td>0.043074</td>\n",
       "      <td>0.996708</td>\n",
       "    </tr>\n",
       "    <tr>\n",
       "      <th>6</th>\n",
       "      <td>3</td>\n",
       "      <td>64</td>\n",
       "      <td>0.002675</td>\n",
       "      <td>0.044701</td>\n",
       "      <td>0.996497</td>\n",
       "    </tr>\n",
       "    <tr>\n",
       "      <th>0</th>\n",
       "      <td>1</td>\n",
       "      <td>32</td>\n",
       "      <td>0.003015</td>\n",
       "      <td>0.041967</td>\n",
       "      <td>0.996052</td>\n",
       "    </tr>\n",
       "    <tr>\n",
       "      <th>10</th>\n",
       "      <td>3</td>\n",
       "      <td>128</td>\n",
       "      <td>0.004920</td>\n",
       "      <td>0.059091</td>\n",
       "      <td>0.993556</td>\n",
       "    </tr>\n",
       "    <tr>\n",
       "      <th>7</th>\n",
       "      <td>4</td>\n",
       "      <td>64</td>\n",
       "      <td>0.005055</td>\n",
       "      <td>0.066056</td>\n",
       "      <td>0.993380</td>\n",
       "    </tr>\n",
       "    <tr>\n",
       "      <th>3</th>\n",
       "      <td>4</td>\n",
       "      <td>32</td>\n",
       "      <td>0.006026</td>\n",
       "      <td>0.069827</td>\n",
       "      <td>0.992108</td>\n",
       "    </tr>\n",
       "    <tr>\n",
       "      <th>9</th>\n",
       "      <td>2</td>\n",
       "      <td>128</td>\n",
       "      <td>0.028689</td>\n",
       "      <td>0.140833</td>\n",
       "      <td>0.962426</td>\n",
       "    </tr>\n",
       "  </tbody>\n",
       "</table>\n",
       "</div>"
      ],
      "text/plain": [
       "    Capas  Neuronas       mse       mae        R2\n",
       "11      4       128  0.000969  0.024703  0.998731\n",
       "8       1       128  0.001704  0.028759  0.997769\n",
       "4       1        64  0.001712  0.030353  0.997758\n",
       "1       2        32  0.002123  0.039028  0.997219\n",
       "2       3        32  0.002323  0.034287  0.996957\n",
       "5       2        64  0.002514  0.043074  0.996708\n",
       "6       3        64  0.002675  0.044701  0.996497\n",
       "0       1        32  0.003015  0.041967  0.996052\n",
       "10      3       128  0.004920  0.059091  0.993556\n",
       "7       4        64  0.005055  0.066056  0.993380\n",
       "3       4        32  0.006026  0.069827  0.992108\n",
       "9       2       128  0.028689  0.140833  0.962426"
      ]
     },
     "execution_count": 93,
     "metadata": {},
     "output_type": "execute_result"
    }
   ],
   "source": [
    "df_mas_neuronas.sort_values(['mse', 'mae', 'R2' ],\n",
    "                                     ascending=True)"
   ]
  },
  {
   "cell_type": "markdown",
   "id": "ed3a1218",
   "metadata": {},
   "source": [
    "Vemos que el mejor resultado se da con 4 capas de 128 neuronas, donde obtenemos los menores valores para mse y mae y casi 1 para R2.\n",
    "\n",
    "Hemos de tener cuidado y no suponer que aumentar el tamaño de la red mediante el uso de más neuronas y capas ofrecerán mejores resultados. Un número muy grande de hiperparámetros, fruto de muchas capas y neuronas, genera un espacio de soluciones muy grande para el cual los datos de entrenamiento sean insuficientes como para explorar los mínimos de la función de coste.\n",
    "\n",
    "En otros casos, un número muy grande de parámetros, pero no demasiado grande, puede provocar sobreaprendizaje. El modelo tiene los suficientes grados de libertad de forma que aprenda el conjunto de entrenamiento *perfectamente*, pero pierda la capacidad de generalización y desempeñe peor en el conjunto test."
   ]
  },
  {
   "cell_type": "markdown",
   "id": "abf38897",
   "metadata": {},
   "source": [
    "### Parámetros de optimización\n",
    "\n",
    "Usando la mejor configuración anterior, es decir, 4 capas con 128 neuronas, probaremos distintos optimizadores. Cambiamos el optimizador RMSprop por sgd"
   ]
  },
  {
   "cell_type": "code",
   "execution_count": 101,
   "id": "5749584f",
   "metadata": {},
   "outputs": [],
   "source": [
    "from keras.optimizers import RMSprop, SGD\n",
    "lr = [0.1, 0.01, 0.001, 0.0001]\n"
   ]
  },
  {
   "cell_type": "markdown",
   "id": "1eac4ce2",
   "metadata": {},
   "source": [
    "### RMSprop con varios valores de learning rate"
   ]
  },
  {
   "cell_type": "code",
   "execution_count": 102,
   "id": "7921707f",
   "metadata": {},
   "outputs": [],
   "source": [
    "metricas = []\n",
    "for lr_i in lr:\n",
    "    rmsprop = RMSprop(lr= lr_i)\n",
    "    metricas.append(regression_model([128, 128, 128, 128], 12, 5, 40, verbose_=0, seed_=1, optimizer_=rmsprop, metrics_=['mae'], activation_='relu' ))"
   ]
  },
  {
   "cell_type": "code",
   "execution_count": 103,
   "id": "04d17167",
   "metadata": {},
   "outputs": [
    {
     "data": {
      "text/plain": [
       "[(0.7687675952911377, 0.666232705116272, -0.006837203034204764),\n",
       " (0.014504609629511833, 0.11104712635278702, 0.9810036453834475),\n",
       " (0.005339370109140873, 0.06758232414722443, 0.9930071669104246),\n",
       " (0.006953633856028318, 0.06236644834280014, 0.9908929843271151)]"
      ]
     },
     "execution_count": 103,
     "metadata": {},
     "output_type": "execute_result"
    }
   ],
   "source": [
    "metricas"
   ]
  },
  {
   "cell_type": "markdown",
   "id": "13f57e3f",
   "metadata": {},
   "source": [
    "### SGD con varios valores de learning rate"
   ]
  },
  {
   "cell_type": "code",
   "execution_count": 104,
   "id": "51c9712f",
   "metadata": {},
   "outputs": [],
   "source": [
    "metricas2 = []\n",
    "for lr_i in lr:\n",
    "    sgd = SGD(lr= lr_i)\n",
    "    metricas2.append(regression_model([128, 128, 128, 128], 12, 5, 40, verbose_=0, seed_=1, optimizer_=sgd, metrics_=['mae'], activation_='relu' ))"
   ]
  },
  {
   "cell_type": "code",
   "execution_count": 105,
   "id": "61d8d638",
   "metadata": {},
   "outputs": [
    {
     "data": {
      "text/plain": [
       "[(0.0033215899020433426, 0.0464121475815773, 0.995649789133669),\n",
       " (0.002909409813582897, 0.039800677448511124, 0.9961896106028529),\n",
       " (0.013721665367484093, 0.08684557676315308, 0.9820290465498708),\n",
       " (0.3130703270435333, 0.4393954277038574, 0.589978928040176)]"
      ]
     },
     "execution_count": 105,
     "metadata": {},
     "output_type": "execute_result"
    }
   ],
   "source": [
    "metricas2"
   ]
  },
  {
   "cell_type": "code",
   "execution_count": 115,
   "id": "1ee10b11",
   "metadata": {},
   "outputs": [],
   "source": [
    "np.concatenate([lr, lr])\n",
    "methods = np.concatenate( [[\"RMSProp\"]*4, ['SGD']*4])"
   ]
  },
  {
   "cell_type": "code",
   "execution_count": 132,
   "id": "9f94e44c",
   "metadata": {},
   "outputs": [
    {
     "name": "stdout",
     "output_type": "stream",
     "text": [
      "   index      lr Optimizer  index       mse       mae        R2\n",
      "0      0  0.1000   RMSProp      0  0.768768  0.666233 -0.006837\n",
      "1      1  0.0100   RMSProp      1  0.014505  0.111047  0.981004\n",
      "2      2  0.0010   RMSProp      2  0.005339  0.067582  0.993007\n",
      "3      3  0.0001   RMSProp      3  0.006954  0.062366  0.990893\n",
      "4      4  0.1000       SGD      0  0.003322  0.046412  0.995650\n",
      "5      5  0.0100       SGD      1  0.002909  0.039801  0.996190\n",
      "6      6  0.0010       SGD      2  0.013722  0.086846  0.982029\n",
      "7      7  0.0001       SGD      3  0.313070  0.439395  0.589979\n"
     ]
    }
   ],
   "source": [
    "df_aux1 = pd.DataFrame(metricas, columns=['mse', 'mae', 'R2'])\n",
    "df_aux2 = pd.DataFrame(metricas2, columns=['mse', 'mae', 'R2'])\n",
    "data = {'lr': np.concatenate([lr,lr]),\n",
    "        'Optimizer': methods\n",
    "        }\n",
    "df_aux3 = pd.DataFrame(data, columns=['lr', 'Optimizer'])\n",
    "df_aux4 = pd.concat([df_aux1, df_aux2], axis=0)\n",
    "\n",
    "df_optimizers = pd.concat([df_aux3.reset_index(), df_aux4.reset_index()], axis=1, sort=False)\n",
    "print(df_optimizers)"
   ]
  },
  {
   "cell_type": "markdown",
   "id": "4503f9dc",
   "metadata": {},
   "source": [
    "Vemos que en el caso del optimizador RMSProp, el valor 0.001 proporciona el mejor resultado, aunque es muy parecido al obtenido con 0.0001. En cambio, para SGD, el valor óptimo es 0.01.\n",
    "\n",
    "### Conclusiones\n",
    "Elegiríamos, por tanto, un modelo con 4 capas ocultas de 128 neuronas donde utilizaremos el optimizador rmsprop con los valores por defecto, ya que es el que mejor resultado ha producido. Sin embargo, podríamos usar SGD con un learning rate $\\alpha = 0.01$ ya que produce resultados muy parecidos."
   ]
  },
  {
   "cell_type": "markdown",
   "id": "dd04b116",
   "metadata": {},
   "source": [
    "# Problema con dataset opcional"
   ]
  },
  {
   "cell_type": "markdown",
   "id": "039225c1",
   "metadata": {},
   "source": [
    "Volvemos a usar el dataset *glass*. Intentaremos, de nuevo, predecir el tipo de vidrio en función de las otras variables. En cuanto a preprocesamiento, volveremos a quitar la columna id y reescalaremos con zscore."
   ]
  },
  {
   "cell_type": "code",
   "execution_count": 18,
   "id": "5d2797af",
   "metadata": {},
   "outputs": [],
   "source": [
    "import pandas as pd\n",
    "\n",
    "glass = pd.read_csv('glass.data', sep=',', header=None)\n",
    "\n",
    "\n",
    "glass = glass.set_axis([\"id\", \n",
    "                \"RI\",\n",
    "                \"Na\",\n",
    "                \"Mg\",\n",
    "                \"Al\",\n",
    "                \"Si\",\n",
    "                \"K\",\n",
    "                \"Ca\",\n",
    "                \"Ba\",\n",
    "                \"Fe\",\n",
    "                \"Type\"], axis=1, inplace=False)\n",
    "glass.head()\n",
    "del glass['id']"
   ]
  },
  {
   "cell_type": "code",
   "execution_count": 19,
   "id": "284f66ce",
   "metadata": {},
   "outputs": [
    {
     "data": {
      "text/html": [
       "<div>\n",
       "<style scoped>\n",
       "    .dataframe tbody tr th:only-of-type {\n",
       "        vertical-align: middle;\n",
       "    }\n",
       "\n",
       "    .dataframe tbody tr th {\n",
       "        vertical-align: top;\n",
       "    }\n",
       "\n",
       "    .dataframe thead th {\n",
       "        text-align: right;\n",
       "    }\n",
       "</style>\n",
       "<table border=\"1\" class=\"dataframe\">\n",
       "  <thead>\n",
       "    <tr style=\"text-align: right;\">\n",
       "      <th></th>\n",
       "      <th>RI</th>\n",
       "      <th>Na</th>\n",
       "      <th>Mg</th>\n",
       "      <th>Al</th>\n",
       "      <th>Si</th>\n",
       "      <th>K</th>\n",
       "      <th>Ca</th>\n",
       "      <th>Ba</th>\n",
       "      <th>Fe</th>\n",
       "      <th>Type</th>\n",
       "    </tr>\n",
       "  </thead>\n",
       "  <tbody>\n",
       "    <tr>\n",
       "      <th>0</th>\n",
       "      <td>1.52101</td>\n",
       "      <td>13.64</td>\n",
       "      <td>4.49</td>\n",
       "      <td>1.10</td>\n",
       "      <td>71.78</td>\n",
       "      <td>0.06</td>\n",
       "      <td>8.75</td>\n",
       "      <td>0.0</td>\n",
       "      <td>0.0</td>\n",
       "      <td>1</td>\n",
       "    </tr>\n",
       "    <tr>\n",
       "      <th>1</th>\n",
       "      <td>1.51761</td>\n",
       "      <td>13.89</td>\n",
       "      <td>3.60</td>\n",
       "      <td>1.36</td>\n",
       "      <td>72.73</td>\n",
       "      <td>0.48</td>\n",
       "      <td>7.83</td>\n",
       "      <td>0.0</td>\n",
       "      <td>0.0</td>\n",
       "      <td>1</td>\n",
       "    </tr>\n",
       "    <tr>\n",
       "      <th>2</th>\n",
       "      <td>1.51618</td>\n",
       "      <td>13.53</td>\n",
       "      <td>3.55</td>\n",
       "      <td>1.54</td>\n",
       "      <td>72.99</td>\n",
       "      <td>0.39</td>\n",
       "      <td>7.78</td>\n",
       "      <td>0.0</td>\n",
       "      <td>0.0</td>\n",
       "      <td>1</td>\n",
       "    </tr>\n",
       "    <tr>\n",
       "      <th>3</th>\n",
       "      <td>1.51766</td>\n",
       "      <td>13.21</td>\n",
       "      <td>3.69</td>\n",
       "      <td>1.29</td>\n",
       "      <td>72.61</td>\n",
       "      <td>0.57</td>\n",
       "      <td>8.22</td>\n",
       "      <td>0.0</td>\n",
       "      <td>0.0</td>\n",
       "      <td>1</td>\n",
       "    </tr>\n",
       "    <tr>\n",
       "      <th>4</th>\n",
       "      <td>1.51742</td>\n",
       "      <td>13.27</td>\n",
       "      <td>3.62</td>\n",
       "      <td>1.24</td>\n",
       "      <td>73.08</td>\n",
       "      <td>0.55</td>\n",
       "      <td>8.07</td>\n",
       "      <td>0.0</td>\n",
       "      <td>0.0</td>\n",
       "      <td>1</td>\n",
       "    </tr>\n",
       "  </tbody>\n",
       "</table>\n",
       "</div>"
      ],
      "text/plain": [
       "        RI     Na    Mg    Al     Si     K    Ca   Ba   Fe  Type\n",
       "0  1.52101  13.64  4.49  1.10  71.78  0.06  8.75  0.0  0.0     1\n",
       "1  1.51761  13.89  3.60  1.36  72.73  0.48  7.83  0.0  0.0     1\n",
       "2  1.51618  13.53  3.55  1.54  72.99  0.39  7.78  0.0  0.0     1\n",
       "3  1.51766  13.21  3.69  1.29  72.61  0.57  8.22  0.0  0.0     1\n",
       "4  1.51742  13.27  3.62  1.24  73.08  0.55  8.07  0.0  0.0     1"
      ]
     },
     "execution_count": 19,
     "metadata": {},
     "output_type": "execute_result"
    }
   ],
   "source": [
    "glass.head()"
   ]
  },
  {
   "cell_type": "code",
   "execution_count": 10,
   "id": "72f945dc",
   "metadata": {},
   "outputs": [
    {
     "data": {
      "text/html": [
       "<div>\n",
       "<style scoped>\n",
       "    .dataframe tbody tr th:only-of-type {\n",
       "        vertical-align: middle;\n",
       "    }\n",
       "\n",
       "    .dataframe tbody tr th {\n",
       "        vertical-align: top;\n",
       "    }\n",
       "\n",
       "    .dataframe thead th {\n",
       "        text-align: right;\n",
       "    }\n",
       "</style>\n",
       "<table border=\"1\" class=\"dataframe\">\n",
       "  <thead>\n",
       "    <tr style=\"text-align: right;\">\n",
       "      <th></th>\n",
       "      <th>RI</th>\n",
       "      <th>Na</th>\n",
       "      <th>Mg</th>\n",
       "      <th>Al</th>\n",
       "      <th>Si</th>\n",
       "      <th>K</th>\n",
       "      <th>Ca</th>\n",
       "      <th>Ba</th>\n",
       "      <th>Fe</th>\n",
       "    </tr>\n",
       "  </thead>\n",
       "  <tbody>\n",
       "    <tr>\n",
       "      <th>count</th>\n",
       "      <td>214.000000</td>\n",
       "      <td>214.000000</td>\n",
       "      <td>214.000000</td>\n",
       "      <td>214.000000</td>\n",
       "      <td>214.000000</td>\n",
       "      <td>214.000000</td>\n",
       "      <td>214.000000</td>\n",
       "      <td>214.000000</td>\n",
       "      <td>214.000000</td>\n",
       "    </tr>\n",
       "    <tr>\n",
       "      <th>mean</th>\n",
       "      <td>1.518365</td>\n",
       "      <td>13.407850</td>\n",
       "      <td>2.684533</td>\n",
       "      <td>1.444907</td>\n",
       "      <td>72.650935</td>\n",
       "      <td>0.497056</td>\n",
       "      <td>8.956963</td>\n",
       "      <td>0.175047</td>\n",
       "      <td>0.057009</td>\n",
       "    </tr>\n",
       "    <tr>\n",
       "      <th>std</th>\n",
       "      <td>0.003037</td>\n",
       "      <td>0.816604</td>\n",
       "      <td>1.442408</td>\n",
       "      <td>0.499270</td>\n",
       "      <td>0.774546</td>\n",
       "      <td>0.652192</td>\n",
       "      <td>1.423153</td>\n",
       "      <td>0.497219</td>\n",
       "      <td>0.097439</td>\n",
       "    </tr>\n",
       "    <tr>\n",
       "      <th>min</th>\n",
       "      <td>1.511150</td>\n",
       "      <td>10.730000</td>\n",
       "      <td>0.000000</td>\n",
       "      <td>0.290000</td>\n",
       "      <td>69.810000</td>\n",
       "      <td>0.000000</td>\n",
       "      <td>5.430000</td>\n",
       "      <td>0.000000</td>\n",
       "      <td>0.000000</td>\n",
       "    </tr>\n",
       "    <tr>\n",
       "      <th>25%</th>\n",
       "      <td>1.516523</td>\n",
       "      <td>12.907500</td>\n",
       "      <td>2.115000</td>\n",
       "      <td>1.190000</td>\n",
       "      <td>72.280000</td>\n",
       "      <td>0.122500</td>\n",
       "      <td>8.240000</td>\n",
       "      <td>0.000000</td>\n",
       "      <td>0.000000</td>\n",
       "    </tr>\n",
       "    <tr>\n",
       "      <th>50%</th>\n",
       "      <td>1.517680</td>\n",
       "      <td>13.300000</td>\n",
       "      <td>3.480000</td>\n",
       "      <td>1.360000</td>\n",
       "      <td>72.790000</td>\n",
       "      <td>0.555000</td>\n",
       "      <td>8.600000</td>\n",
       "      <td>0.000000</td>\n",
       "      <td>0.000000</td>\n",
       "    </tr>\n",
       "    <tr>\n",
       "      <th>75%</th>\n",
       "      <td>1.519157</td>\n",
       "      <td>13.825000</td>\n",
       "      <td>3.600000</td>\n",
       "      <td>1.630000</td>\n",
       "      <td>73.087500</td>\n",
       "      <td>0.610000</td>\n",
       "      <td>9.172500</td>\n",
       "      <td>0.000000</td>\n",
       "      <td>0.100000</td>\n",
       "    </tr>\n",
       "    <tr>\n",
       "      <th>max</th>\n",
       "      <td>1.533930</td>\n",
       "      <td>17.380000</td>\n",
       "      <td>4.490000</td>\n",
       "      <td>3.500000</td>\n",
       "      <td>75.410000</td>\n",
       "      <td>6.210000</td>\n",
       "      <td>16.190000</td>\n",
       "      <td>3.150000</td>\n",
       "      <td>0.510000</td>\n",
       "    </tr>\n",
       "  </tbody>\n",
       "</table>\n",
       "</div>"
      ],
      "text/plain": [
       "               RI          Na          Mg          Al          Si           K  \\\n",
       "count  214.000000  214.000000  214.000000  214.000000  214.000000  214.000000   \n",
       "mean     1.518365   13.407850    2.684533    1.444907   72.650935    0.497056   \n",
       "std      0.003037    0.816604    1.442408    0.499270    0.774546    0.652192   \n",
       "min      1.511150   10.730000    0.000000    0.290000   69.810000    0.000000   \n",
       "25%      1.516523   12.907500    2.115000    1.190000   72.280000    0.122500   \n",
       "50%      1.517680   13.300000    3.480000    1.360000   72.790000    0.555000   \n",
       "75%      1.519157   13.825000    3.600000    1.630000   73.087500    0.610000   \n",
       "max      1.533930   17.380000    4.490000    3.500000   75.410000    6.210000   \n",
       "\n",
       "               Ca          Ba          Fe  \n",
       "count  214.000000  214.000000  214.000000  \n",
       "mean     8.956963    0.175047    0.057009  \n",
       "std      1.423153    0.497219    0.097439  \n",
       "min      5.430000    0.000000    0.000000  \n",
       "25%      8.240000    0.000000    0.000000  \n",
       "50%      8.600000    0.000000    0.000000  \n",
       "75%      9.172500    0.000000    0.100000  \n",
       "max     16.190000    3.150000    0.510000  "
      ]
     },
     "execution_count": 10,
     "metadata": {},
     "output_type": "execute_result"
    }
   ],
   "source": [
    "glass.describe()"
   ]
  },
  {
   "cell_type": "markdown",
   "id": "1c82ce8d",
   "metadata": {},
   "source": [
    "Seleccionamos todas columnas excepto el índice de refracción como variables predictoras y la variable RI como variable a predecir."
   ]
  },
  {
   "cell_type": "code",
   "execution_count": 23,
   "id": "6be76140",
   "metadata": {},
   "outputs": [],
   "source": [
    "X = glass.iloc[:, 0:9]\n",
    "Y = np.ravel(glass.Type)"
   ]
  },
  {
   "cell_type": "code",
   "execution_count": 24,
   "id": "b99d7bfa",
   "metadata": {},
   "outputs": [],
   "source": [
    "from sklearn.preprocessing import StandardScaler\n",
    "\n",
    "X_train = StandardScaler().fit_transform(X)"
   ]
  },
  {
   "cell_type": "markdown",
   "id": "1129d578",
   "metadata": {},
   "source": [
    "En este dataset, sabemos que necesitamos un mayor número de épocas, de acuerdo a la experiencia en el cuaderno anterior. Por ello, usaremos 200. Probamos a variar la profundidad de la red para un conjunto fijo de neuronas."
   ]
  },
  {
   "cell_type": "code",
   "execution_count": 29,
   "id": "73f81c77",
   "metadata": {
    "collapsed": true,
    "jupyter": {
     "outputs_hidden": true
    },
    "tags": []
   },
   "outputs": [
    {
     "name": "stdout",
     "output_type": "stream",
     "text": [
      "WARNING:tensorflow:6 out of the last 11 calls to <function Model.make_predict_function.<locals>.predict_function at 0x00000257CFB9F670> triggered tf.function retracing. Tracing is expensive and the excessive number of tracings could be due to (1) creating @tf.function repeatedly in a loop, (2) passing tensors with different shapes, (3) passing Python objects instead of tensors. For (1), please define your @tf.function outside of the loop. For (2), @tf.function has experimental_relax_shapes=True option that relaxes argument shapes that can avoid unnecessary retracing. For (3), please refer to https://www.tensorflow.org/tutorials/customization/performance#python_or_tensor_args and https://www.tensorflow.org/api_docs/python/tf/function for  more details.\n",
      "WARNING:tensorflow:6 out of the last 11 calls to <function Model.make_predict_function.<locals>.predict_function at 0x00000257D3D395E0> triggered tf.function retracing. Tracing is expensive and the excessive number of tracings could be due to (1) creating @tf.function repeatedly in a loop, (2) passing tensors with different shapes, (3) passing Python objects instead of tensors. For (1), please define your @tf.function outside of the loop. For (2), @tf.function has experimental_relax_shapes=True option that relaxes argument shapes that can avoid unnecessary retracing. For (3), please refer to https://www.tensorflow.org/tutorials/customization/performance#python_or_tensor_args and https://www.tensorflow.org/api_docs/python/tf/function for  more details.\n",
      "WARNING:tensorflow:6 out of the last 11 calls to <function Model.make_predict_function.<locals>.predict_function at 0x00000257D3CB1820> triggered tf.function retracing. Tracing is expensive and the excessive number of tracings could be due to (1) creating @tf.function repeatedly in a loop, (2) passing tensors with different shapes, (3) passing Python objects instead of tensors. For (1), please define your @tf.function outside of the loop. For (2), @tf.function has experimental_relax_shapes=True option that relaxes argument shapes that can avoid unnecessary retracing. For (3), please refer to https://www.tensorflow.org/tutorials/customization/performance#python_or_tensor_args and https://www.tensorflow.org/api_docs/python/tf/function for  more details.\n",
      "WARNING:tensorflow:6 out of the last 11 calls to <function Model.make_predict_function.<locals>.predict_function at 0x00000257D15419D0> triggered tf.function retracing. Tracing is expensive and the excessive number of tracings could be due to (1) creating @tf.function repeatedly in a loop, (2) passing tensors with different shapes, (3) passing Python objects instead of tensors. For (1), please define your @tf.function outside of the loop. For (2), @tf.function has experimental_relax_shapes=True option that relaxes argument shapes that can avoid unnecessary retracing. For (3), please refer to https://www.tensorflow.org/tutorials/customization/performance#python_or_tensor_args and https://www.tensorflow.org/api_docs/python/tf/function for  more details.\n",
      "WARNING:tensorflow:6 out of the last 11 calls to <function Model.make_predict_function.<locals>.predict_function at 0x00000257D135C790> triggered tf.function retracing. Tracing is expensive and the excessive number of tracings could be due to (1) creating @tf.function repeatedly in a loop, (2) passing tensors with different shapes, (3) passing Python objects instead of tensors. For (1), please define your @tf.function outside of the loop. For (2), @tf.function has experimental_relax_shapes=True option that relaxes argument shapes that can avoid unnecessary retracing. For (3), please refer to https://www.tensorflow.org/tutorials/customization/performance#python_or_tensor_args and https://www.tensorflow.org/api_docs/python/tf/function for  more details.\n",
      "WARNING:tensorflow:6 out of the last 11 calls to <function Model.make_predict_function.<locals>.predict_function at 0x00000257D3DB7AF0> triggered tf.function retracing. Tracing is expensive and the excessive number of tracings could be due to (1) creating @tf.function repeatedly in a loop, (2) passing tensors with different shapes, (3) passing Python objects instead of tensors. For (1), please define your @tf.function outside of the loop. For (2), @tf.function has experimental_relax_shapes=True option that relaxes argument shapes that can avoid unnecessary retracing. For (3), please refer to https://www.tensorflow.org/tutorials/customization/performance#python_or_tensor_args and https://www.tensorflow.org/api_docs/python/tf/function for  more details.\n",
      "WARNING:tensorflow:6 out of the last 11 calls to <function Model.make_predict_function.<locals>.predict_function at 0x00000257D15411F0> triggered tf.function retracing. Tracing is expensive and the excessive number of tracings could be due to (1) creating @tf.function repeatedly in a loop, (2) passing tensors with different shapes, (3) passing Python objects instead of tensors. For (1), please define your @tf.function outside of the loop. For (2), @tf.function has experimental_relax_shapes=True option that relaxes argument shapes that can avoid unnecessary retracing. For (3), please refer to https://www.tensorflow.org/tutorials/customization/performance#python_or_tensor_args and https://www.tensorflow.org/api_docs/python/tf/function for  more details.\n",
      "WARNING:tensorflow:6 out of the last 11 calls to <function Model.make_predict_function.<locals>.predict_function at 0x00000257D406CDC0> triggered tf.function retracing. Tracing is expensive and the excessive number of tracings could be due to (1) creating @tf.function repeatedly in a loop, (2) passing tensors with different shapes, (3) passing Python objects instead of tensors. For (1), please define your @tf.function outside of the loop. For (2), @tf.function has experimental_relax_shapes=True option that relaxes argument shapes that can avoid unnecessary retracing. For (3), please refer to https://www.tensorflow.org/tutorials/customization/performance#python_or_tensor_args and https://www.tensorflow.org/api_docs/python/tf/function for  more details.\n",
      "WARNING:tensorflow:6 out of the last 11 calls to <function Model.make_predict_function.<locals>.predict_function at 0x00000257D3CB1430> triggered tf.function retracing. Tracing is expensive and the excessive number of tracings could be due to (1) creating @tf.function repeatedly in a loop, (2) passing tensors with different shapes, (3) passing Python objects instead of tensors. For (1), please define your @tf.function outside of the loop. For (2), @tf.function has experimental_relax_shapes=True option that relaxes argument shapes that can avoid unnecessary retracing. For (3), please refer to https://www.tensorflow.org/tutorials/customization/performance#python_or_tensor_args and https://www.tensorflow.org/api_docs/python/tf/function for  more details.\n",
      "WARNING:tensorflow:6 out of the last 11 calls to <function Model.make_predict_function.<locals>.predict_function at 0x00000257D1541C10> triggered tf.function retracing. Tracing is expensive and the excessive number of tracings could be due to (1) creating @tf.function repeatedly in a loop, (2) passing tensors with different shapes, (3) passing Python objects instead of tensors. For (1), please define your @tf.function outside of the loop. For (2), @tf.function has experimental_relax_shapes=True option that relaxes argument shapes that can avoid unnecessary retracing. For (3), please refer to https://www.tensorflow.org/tutorials/customization/performance#python_or_tensor_args and https://www.tensorflow.org/api_docs/python/tf/function for  more details.\n",
      "WARNING:tensorflow:6 out of the last 11 calls to <function Model.make_predict_function.<locals>.predict_function at 0x00000257CFC29310> triggered tf.function retracing. Tracing is expensive and the excessive number of tracings could be due to (1) creating @tf.function repeatedly in a loop, (2) passing tensors with different shapes, (3) passing Python objects instead of tensors. For (1), please define your @tf.function outside of the loop. For (2), @tf.function has experimental_relax_shapes=True option that relaxes argument shapes that can avoid unnecessary retracing. For (3), please refer to https://www.tensorflow.org/tutorials/customization/performance#python_or_tensor_args and https://www.tensorflow.org/api_docs/python/tf/function for  more details.\n",
      "WARNING:tensorflow:6 out of the last 11 calls to <function Model.make_predict_function.<locals>.predict_function at 0x00000257D135CCA0> triggered tf.function retracing. Tracing is expensive and the excessive number of tracings could be due to (1) creating @tf.function repeatedly in a loop, (2) passing tensors with different shapes, (3) passing Python objects instead of tensors. For (1), please define your @tf.function outside of the loop. For (2), @tf.function has experimental_relax_shapes=True option that relaxes argument shapes that can avoid unnecessary retracing. For (3), please refer to https://www.tensorflow.org/tutorials/customization/performance#python_or_tensor_args and https://www.tensorflow.org/api_docs/python/tf/function for  more details.\n",
      "WARNING:tensorflow:6 out of the last 11 calls to <function Model.make_predict_function.<locals>.predict_function at 0x00000257D3CB1CA0> triggered tf.function retracing. Tracing is expensive and the excessive number of tracings could be due to (1) creating @tf.function repeatedly in a loop, (2) passing tensors with different shapes, (3) passing Python objects instead of tensors. For (1), please define your @tf.function outside of the loop. For (2), @tf.function has experimental_relax_shapes=True option that relaxes argument shapes that can avoid unnecessary retracing. For (3), please refer to https://www.tensorflow.org/tutorials/customization/performance#python_or_tensor_args and https://www.tensorflow.org/api_docs/python/tf/function for  more details.\n",
      "WARNING:tensorflow:6 out of the last 11 calls to <function Model.make_predict_function.<locals>.predict_function at 0x00000257CFC29670> triggered tf.function retracing. Tracing is expensive and the excessive number of tracings could be due to (1) creating @tf.function repeatedly in a loop, (2) passing tensors with different shapes, (3) passing Python objects instead of tensors. For (1), please define your @tf.function outside of the loop. For (2), @tf.function has experimental_relax_shapes=True option that relaxes argument shapes that can avoid unnecessary retracing. For (3), please refer to https://www.tensorflow.org/tutorials/customization/performance#python_or_tensor_args and https://www.tensorflow.org/api_docs/python/tf/function for  more details.\n",
      "WARNING:tensorflow:6 out of the last 11 calls to <function Model.make_predict_function.<locals>.predict_function at 0x00000257D3CB1310> triggered tf.function retracing. Tracing is expensive and the excessive number of tracings could be due to (1) creating @tf.function repeatedly in a loop, (2) passing tensors with different shapes, (3) passing Python objects instead of tensors. For (1), please define your @tf.function outside of the loop. For (2), @tf.function has experimental_relax_shapes=True option that relaxes argument shapes that can avoid unnecessary retracing. For (3), please refer to https://www.tensorflow.org/tutorials/customization/performance#python_or_tensor_args and https://www.tensorflow.org/api_docs/python/tf/function for  more details.\n",
      "WARNING:tensorflow:5 out of the last 9 calls to <function Model.make_test_function.<locals>.test_function at 0x00000257CFBC5EE0> triggered tf.function retracing. Tracing is expensive and the excessive number of tracings could be due to (1) creating @tf.function repeatedly in a loop, (2) passing tensors with different shapes, (3) passing Python objects instead of tensors. For (1), please define your @tf.function outside of the loop. For (2), @tf.function has experimental_relax_shapes=True option that relaxes argument shapes that can avoid unnecessary retracing. For (3), please refer to https://www.tensorflow.org/tutorials/customization/performance#python_or_tensor_args and https://www.tensorflow.org/api_docs/python/tf/function for  more details.\n",
      "WARNING:tensorflow:6 out of the last 11 calls to <function Model.make_predict_function.<locals>.predict_function at 0x00000257D15418B0> triggered tf.function retracing. Tracing is expensive and the excessive number of tracings could be due to (1) creating @tf.function repeatedly in a loop, (2) passing tensors with different shapes, (3) passing Python objects instead of tensors. For (1), please define your @tf.function outside of the loop. For (2), @tf.function has experimental_relax_shapes=True option that relaxes argument shapes that can avoid unnecessary retracing. For (3), please refer to https://www.tensorflow.org/tutorials/customization/performance#python_or_tensor_args and https://www.tensorflow.org/api_docs/python/tf/function for  more details.\n",
      "WARNING:tensorflow:6 out of the last 11 calls to <function Model.make_predict_function.<locals>.predict_function at 0x00000257D2A1C040> triggered tf.function retracing. Tracing is expensive and the excessive number of tracings could be due to (1) creating @tf.function repeatedly in a loop, (2) passing tensors with different shapes, (3) passing Python objects instead of tensors. For (1), please define your @tf.function outside of the loop. For (2), @tf.function has experimental_relax_shapes=True option that relaxes argument shapes that can avoid unnecessary retracing. For (3), please refer to https://www.tensorflow.org/tutorials/customization/performance#python_or_tensor_args and https://www.tensorflow.org/api_docs/python/tf/function for  more details.\n",
      "WARNING:tensorflow:6 out of the last 11 calls to <function Model.make_predict_function.<locals>.predict_function at 0x00000257D135C4C0> triggered tf.function retracing. Tracing is expensive and the excessive number of tracings could be due to (1) creating @tf.function repeatedly in a loop, (2) passing tensors with different shapes, (3) passing Python objects instead of tensors. For (1), please define your @tf.function outside of the loop. For (2), @tf.function has experimental_relax_shapes=True option that relaxes argument shapes that can avoid unnecessary retracing. For (3), please refer to https://www.tensorflow.org/tutorials/customization/performance#python_or_tensor_args and https://www.tensorflow.org/api_docs/python/tf/function for  more details.\n",
      "WARNING:tensorflow:6 out of the last 11 calls to <function Model.make_predict_function.<locals>.predict_function at 0x00000257CFC29280> triggered tf.function retracing. Tracing is expensive and the excessive number of tracings could be due to (1) creating @tf.function repeatedly in a loop, (2) passing tensors with different shapes, (3) passing Python objects instead of tensors. For (1), please define your @tf.function outside of the loop. For (2), @tf.function has experimental_relax_shapes=True option that relaxes argument shapes that can avoid unnecessary retracing. For (3), please refer to https://www.tensorflow.org/tutorials/customization/performance#python_or_tensor_args and https://www.tensorflow.org/api_docs/python/tf/function for  more details.\n",
      "WARNING:tensorflow:6 out of the last 11 calls to <function Model.make_predict_function.<locals>.predict_function at 0x00000257D12A9C10> triggered tf.function retracing. Tracing is expensive and the excessive number of tracings could be due to (1) creating @tf.function repeatedly in a loop, (2) passing tensors with different shapes, (3) passing Python objects instead of tensors. For (1), please define your @tf.function outside of the loop. For (2), @tf.function has experimental_relax_shapes=True option that relaxes argument shapes that can avoid unnecessary retracing. For (3), please refer to https://www.tensorflow.org/tutorials/customization/performance#python_or_tensor_args and https://www.tensorflow.org/api_docs/python/tf/function for  more details.\n",
      "WARNING:tensorflow:6 out of the last 11 calls to <function Model.make_test_function.<locals>.test_function at 0x00000257D1589280> triggered tf.function retracing. Tracing is expensive and the excessive number of tracings could be due to (1) creating @tf.function repeatedly in a loop, (2) passing tensors with different shapes, (3) passing Python objects instead of tensors. For (1), please define your @tf.function outside of the loop. For (2), @tf.function has experimental_relax_shapes=True option that relaxes argument shapes that can avoid unnecessary retracing. For (3), please refer to https://www.tensorflow.org/tutorials/customization/performance#python_or_tensor_args and https://www.tensorflow.org/api_docs/python/tf/function for  more details.\n",
      "WARNING:tensorflow:6 out of the last 11 calls to <function Model.make_predict_function.<locals>.predict_function at 0x00000257D135CEE0> triggered tf.function retracing. Tracing is expensive and the excessive number of tracings could be due to (1) creating @tf.function repeatedly in a loop, (2) passing tensors with different shapes, (3) passing Python objects instead of tensors. For (1), please define your @tf.function outside of the loop. For (2), @tf.function has experimental_relax_shapes=True option that relaxes argument shapes that can avoid unnecessary retracing. For (3), please refer to https://www.tensorflow.org/tutorials/customization/performance#python_or_tensor_args and https://www.tensorflow.org/api_docs/python/tf/function for  more details.\n",
      "WARNING:tensorflow:6 out of the last 11 calls to <function Model.make_predict_function.<locals>.predict_function at 0x00000257D3CB1040> triggered tf.function retracing. Tracing is expensive and the excessive number of tracings could be due to (1) creating @tf.function repeatedly in a loop, (2) passing tensors with different shapes, (3) passing Python objects instead of tensors. For (1), please define your @tf.function outside of the loop. For (2), @tf.function has experimental_relax_shapes=True option that relaxes argument shapes that can avoid unnecessary retracing. For (3), please refer to https://www.tensorflow.org/tutorials/customization/performance#python_or_tensor_args and https://www.tensorflow.org/api_docs/python/tf/function for  more details.\n",
      "WARNING:tensorflow:6 out of the last 11 calls to <function Model.make_predict_function.<locals>.predict_function at 0x00000257D1541670> triggered tf.function retracing. Tracing is expensive and the excessive number of tracings could be due to (1) creating @tf.function repeatedly in a loop, (2) passing tensors with different shapes, (3) passing Python objects instead of tensors. For (1), please define your @tf.function outside of the loop. For (2), @tf.function has experimental_relax_shapes=True option that relaxes argument shapes that can avoid unnecessary retracing. For (3), please refer to https://www.tensorflow.org/tutorials/customization/performance#python_or_tensor_args and https://www.tensorflow.org/api_docs/python/tf/function for  more details.\n",
      "WARNING:tensorflow:6 out of the last 11 calls to <function Model.make_predict_function.<locals>.predict_function at 0x00000257CFC293A0> triggered tf.function retracing. Tracing is expensive and the excessive number of tracings could be due to (1) creating @tf.function repeatedly in a loop, (2) passing tensors with different shapes, (3) passing Python objects instead of tensors. For (1), please define your @tf.function outside of the loop. For (2), @tf.function has experimental_relax_shapes=True option that relaxes argument shapes that can avoid unnecessary retracing. For (3), please refer to https://www.tensorflow.org/tutorials/customization/performance#python_or_tensor_args and https://www.tensorflow.org/api_docs/python/tf/function for  more details.\n",
      "WARNING:tensorflow:6 out of the last 11 calls to <function Model.make_predict_function.<locals>.predict_function at 0x00000257D12A9550> triggered tf.function retracing. Tracing is expensive and the excessive number of tracings could be due to (1) creating @tf.function repeatedly in a loop, (2) passing tensors with different shapes, (3) passing Python objects instead of tensors. For (1), please define your @tf.function outside of the loop. For (2), @tf.function has experimental_relax_shapes=True option that relaxes argument shapes that can avoid unnecessary retracing. For (3), please refer to https://www.tensorflow.org/tutorials/customization/performance#python_or_tensor_args and https://www.tensorflow.org/api_docs/python/tf/function for  more details.\n",
      "WARNING:tensorflow:6 out of the last 11 calls to <function Model.make_test_function.<locals>.test_function at 0x00000257D1541CA0> triggered tf.function retracing. Tracing is expensive and the excessive number of tracings could be due to (1) creating @tf.function repeatedly in a loop, (2) passing tensors with different shapes, (3) passing Python objects instead of tensors. For (1), please define your @tf.function outside of the loop. For (2), @tf.function has experimental_relax_shapes=True option that relaxes argument shapes that can avoid unnecessary retracing. For (3), please refer to https://www.tensorflow.org/tutorials/customization/performance#python_or_tensor_args and https://www.tensorflow.org/api_docs/python/tf/function for  more details.\n"
     ]
    }
   ],
   "source": [
    "metricas = []\n",
    "modelos = [[64], [64, 64], [64, 64, 64], [64, 64, 64, 64], [64, 64, 64, 64, 64]]\n",
    "for i_modelos in modelos:\n",
    "    metricas.append(regression_model(i_modelos, 9, 5, 200, verbose_=0, seed_=1, optimizer_='rmsprop', metrics_=['mae'], activation_='relu' ))\n",
    "    \n",
    "metricas_profundidad = metricas.copy()    "
   ]
  },
  {
   "cell_type": "code",
   "execution_count": 30,
   "id": "66638a2a",
   "metadata": {},
   "outputs": [
    {
     "data": {
      "text/plain": [
       "[(0.9494925737380981, 0.6988823413848877, 0.7761121719215767),\n",
       " (1.159546136856079, 0.7373892068862915, 0.7265820835908385),\n",
       " (1.0407816171646118, 0.7188649773597717, 0.7545864343931489),\n",
       " (0.8756394386291504, 0.6501733660697937, 0.7935265456029338),\n",
       " (1.0193110704421997, 0.6857530474662781, 0.759649149449286)]"
      ]
     },
     "execution_count": 30,
     "metadata": {},
     "output_type": "execute_result"
    }
   ],
   "source": [
    "metricas"
   ]
  },
  {
   "cell_type": "code",
   "execution_count": 31,
   "id": "3291ea8c",
   "metadata": {
    "collapsed": true,
    "jupyter": {
     "outputs_hidden": true
    },
    "tags": []
   },
   "outputs": [
    {
     "name": "stdout",
     "output_type": "stream",
     "text": [
      "WARNING:tensorflow:6 out of the last 11 calls to <function Model.make_predict_function.<locals>.predict_function at 0x00000257D135C160> triggered tf.function retracing. Tracing is expensive and the excessive number of tracings could be due to (1) creating @tf.function repeatedly in a loop, (2) passing tensors with different shapes, (3) passing Python objects instead of tensors. For (1), please define your @tf.function outside of the loop. For (2), @tf.function has experimental_relax_shapes=True option that relaxes argument shapes that can avoid unnecessary retracing. For (3), please refer to https://www.tensorflow.org/tutorials/customization/performance#python_or_tensor_args and https://www.tensorflow.org/api_docs/python/tf/function for  more details.\n",
      "WARNING:tensorflow:6 out of the last 11 calls to <function Model.make_predict_function.<locals>.predict_function at 0x00000257D3CB1700> triggered tf.function retracing. Tracing is expensive and the excessive number of tracings could be due to (1) creating @tf.function repeatedly in a loop, (2) passing tensors with different shapes, (3) passing Python objects instead of tensors. For (1), please define your @tf.function outside of the loop. For (2), @tf.function has experimental_relax_shapes=True option that relaxes argument shapes that can avoid unnecessary retracing. For (3), please refer to https://www.tensorflow.org/tutorials/customization/performance#python_or_tensor_args and https://www.tensorflow.org/api_docs/python/tf/function for  more details.\n",
      "WARNING:tensorflow:6 out of the last 11 calls to <function Model.make_predict_function.<locals>.predict_function at 0x00000257D1589E50> triggered tf.function retracing. Tracing is expensive and the excessive number of tracings could be due to (1) creating @tf.function repeatedly in a loop, (2) passing tensors with different shapes, (3) passing Python objects instead of tensors. For (1), please define your @tf.function outside of the loop. For (2), @tf.function has experimental_relax_shapes=True option that relaxes argument shapes that can avoid unnecessary retracing. For (3), please refer to https://www.tensorflow.org/tutorials/customization/performance#python_or_tensor_args and https://www.tensorflow.org/api_docs/python/tf/function for  more details.\n",
      "WARNING:tensorflow:6 out of the last 11 calls to <function Model.make_predict_function.<locals>.predict_function at 0x00000257D5158AF0> triggered tf.function retracing. Tracing is expensive and the excessive number of tracings could be due to (1) creating @tf.function repeatedly in a loop, (2) passing tensors with different shapes, (3) passing Python objects instead of tensors. For (1), please define your @tf.function outside of the loop. For (2), @tf.function has experimental_relax_shapes=True option that relaxes argument shapes that can avoid unnecessary retracing. For (3), please refer to https://www.tensorflow.org/tutorials/customization/performance#python_or_tensor_args and https://www.tensorflow.org/api_docs/python/tf/function for  more details.\n",
      "WARNING:tensorflow:6 out of the last 11 calls to <function Model.make_predict_function.<locals>.predict_function at 0x00000257CFBC5B80> triggered tf.function retracing. Tracing is expensive and the excessive number of tracings could be due to (1) creating @tf.function repeatedly in a loop, (2) passing tensors with different shapes, (3) passing Python objects instead of tensors. For (1), please define your @tf.function outside of the loop. For (2), @tf.function has experimental_relax_shapes=True option that relaxes argument shapes that can avoid unnecessary retracing. For (3), please refer to https://www.tensorflow.org/tutorials/customization/performance#python_or_tensor_args and https://www.tensorflow.org/api_docs/python/tf/function for  more details.\n",
      "WARNING:tensorflow:6 out of the last 11 calls to <function Model.make_test_function.<locals>.test_function at 0x00000257CFC291F0> triggered tf.function retracing. Tracing is expensive and the excessive number of tracings could be due to (1) creating @tf.function repeatedly in a loop, (2) passing tensors with different shapes, (3) passing Python objects instead of tensors. For (1), please define your @tf.function outside of the loop. For (2), @tf.function has experimental_relax_shapes=True option that relaxes argument shapes that can avoid unnecessary retracing. For (3), please refer to https://www.tensorflow.org/tutorials/customization/performance#python_or_tensor_args and https://www.tensorflow.org/api_docs/python/tf/function for  more details.\n",
      "WARNING:tensorflow:6 out of the last 11 calls to <function Model.make_predict_function.<locals>.predict_function at 0x00000257D51588B0> triggered tf.function retracing. Tracing is expensive and the excessive number of tracings could be due to (1) creating @tf.function repeatedly in a loop, (2) passing tensors with different shapes, (3) passing Python objects instead of tensors. For (1), please define your @tf.function outside of the loop. For (2), @tf.function has experimental_relax_shapes=True option that relaxes argument shapes that can avoid unnecessary retracing. For (3), please refer to https://www.tensorflow.org/tutorials/customization/performance#python_or_tensor_args and https://www.tensorflow.org/api_docs/python/tf/function for  more details.\n",
      "WARNING:tensorflow:6 out of the last 11 calls to <function Model.make_predict_function.<locals>.predict_function at 0x00000257D3CB1430> triggered tf.function retracing. Tracing is expensive and the excessive number of tracings could be due to (1) creating @tf.function repeatedly in a loop, (2) passing tensors with different shapes, (3) passing Python objects instead of tensors. For (1), please define your @tf.function outside of the loop. For (2), @tf.function has experimental_relax_shapes=True option that relaxes argument shapes that can avoid unnecessary retracing. For (3), please refer to https://www.tensorflow.org/tutorials/customization/performance#python_or_tensor_args and https://www.tensorflow.org/api_docs/python/tf/function for  more details.\n",
      "WARNING:tensorflow:6 out of the last 11 calls to <function Model.make_predict_function.<locals>.predict_function at 0x00000257D135C1F0> triggered tf.function retracing. Tracing is expensive and the excessive number of tracings could be due to (1) creating @tf.function repeatedly in a loop, (2) passing tensors with different shapes, (3) passing Python objects instead of tensors. For (1), please define your @tf.function outside of the loop. For (2), @tf.function has experimental_relax_shapes=True option that relaxes argument shapes that can avoid unnecessary retracing. For (3), please refer to https://www.tensorflow.org/tutorials/customization/performance#python_or_tensor_args and https://www.tensorflow.org/api_docs/python/tf/function for  more details.\n",
      "WARNING:tensorflow:6 out of the last 11 calls to <function Model.make_predict_function.<locals>.predict_function at 0x00000257D15411F0> triggered tf.function retracing. Tracing is expensive and the excessive number of tracings could be due to (1) creating @tf.function repeatedly in a loop, (2) passing tensors with different shapes, (3) passing Python objects instead of tensors. For (1), please define your @tf.function outside of the loop. For (2), @tf.function has experimental_relax_shapes=True option that relaxes argument shapes that can avoid unnecessary retracing. For (3), please refer to https://www.tensorflow.org/tutorials/customization/performance#python_or_tensor_args and https://www.tensorflow.org/api_docs/python/tf/function for  more details.\n",
      "WARNING:tensorflow:6 out of the last 11 calls to <function Model.make_predict_function.<locals>.predict_function at 0x00000257CFBC5B80> triggered tf.function retracing. Tracing is expensive and the excessive number of tracings could be due to (1) creating @tf.function repeatedly in a loop, (2) passing tensors with different shapes, (3) passing Python objects instead of tensors. For (1), please define your @tf.function outside of the loop. For (2), @tf.function has experimental_relax_shapes=True option that relaxes argument shapes that can avoid unnecessary retracing. For (3), please refer to https://www.tensorflow.org/tutorials/customization/performance#python_or_tensor_args and https://www.tensorflow.org/api_docs/python/tf/function for  more details.\n",
      "WARNING:tensorflow:6 out of the last 11 calls to <function Model.make_test_function.<locals>.test_function at 0x00000257D135CE50> triggered tf.function retracing. Tracing is expensive and the excessive number of tracings could be due to (1) creating @tf.function repeatedly in a loop, (2) passing tensors with different shapes, (3) passing Python objects instead of tensors. For (1), please define your @tf.function outside of the loop. For (2), @tf.function has experimental_relax_shapes=True option that relaxes argument shapes that can avoid unnecessary retracing. For (3), please refer to https://www.tensorflow.org/tutorials/customization/performance#python_or_tensor_args and https://www.tensorflow.org/api_docs/python/tf/function for  more details.\n",
      "WARNING:tensorflow:6 out of the last 11 calls to <function Model.make_predict_function.<locals>.predict_function at 0x00000257D12A9EE0> triggered tf.function retracing. Tracing is expensive and the excessive number of tracings could be due to (1) creating @tf.function repeatedly in a loop, (2) passing tensors with different shapes, (3) passing Python objects instead of tensors. For (1), please define your @tf.function outside of the loop. For (2), @tf.function has experimental_relax_shapes=True option that relaxes argument shapes that can avoid unnecessary retracing. For (3), please refer to https://www.tensorflow.org/tutorials/customization/performance#python_or_tensor_args and https://www.tensorflow.org/api_docs/python/tf/function for  more details.\n",
      "WARNING:tensorflow:6 out of the last 11 calls to <function Model.make_predict_function.<locals>.predict_function at 0x00000257D3CB1940> triggered tf.function retracing. Tracing is expensive and the excessive number of tracings could be due to (1) creating @tf.function repeatedly in a loop, (2) passing tensors with different shapes, (3) passing Python objects instead of tensors. For (1), please define your @tf.function outside of the loop. For (2), @tf.function has experimental_relax_shapes=True option that relaxes argument shapes that can avoid unnecessary retracing. For (3), please refer to https://www.tensorflow.org/tutorials/customization/performance#python_or_tensor_args and https://www.tensorflow.org/api_docs/python/tf/function for  more details.\n",
      "WARNING:tensorflow:6 out of the last 11 calls to <function Model.make_predict_function.<locals>.predict_function at 0x00000257D12A9CA0> triggered tf.function retracing. Tracing is expensive and the excessive number of tracings could be due to (1) creating @tf.function repeatedly in a loop, (2) passing tensors with different shapes, (3) passing Python objects instead of tensors. For (1), please define your @tf.function outside of the loop. For (2), @tf.function has experimental_relax_shapes=True option that relaxes argument shapes that can avoid unnecessary retracing. For (3), please refer to https://www.tensorflow.org/tutorials/customization/performance#python_or_tensor_args and https://www.tensorflow.org/api_docs/python/tf/function for  more details.\n",
      "WARNING:tensorflow:6 out of the last 11 calls to <function Model.make_predict_function.<locals>.predict_function at 0x00000257D1541D30> triggered tf.function retracing. Tracing is expensive and the excessive number of tracings could be due to (1) creating @tf.function repeatedly in a loop, (2) passing tensors with different shapes, (3) passing Python objects instead of tensors. For (1), please define your @tf.function outside of the loop. For (2), @tf.function has experimental_relax_shapes=True option that relaxes argument shapes that can avoid unnecessary retracing. For (3), please refer to https://www.tensorflow.org/tutorials/customization/performance#python_or_tensor_args and https://www.tensorflow.org/api_docs/python/tf/function for  more details.\n",
      "WARNING:tensorflow:6 out of the last 11 calls to <function Model.make_predict_function.<locals>.predict_function at 0x00000257CFC29AF0> triggered tf.function retracing. Tracing is expensive and the excessive number of tracings could be due to (1) creating @tf.function repeatedly in a loop, (2) passing tensors with different shapes, (3) passing Python objects instead of tensors. For (1), please define your @tf.function outside of the loop. For (2), @tf.function has experimental_relax_shapes=True option that relaxes argument shapes that can avoid unnecessary retracing. For (3), please refer to https://www.tensorflow.org/tutorials/customization/performance#python_or_tensor_args and https://www.tensorflow.org/api_docs/python/tf/function for  more details.\n",
      "WARNING:tensorflow:6 out of the last 11 calls to <function Model.make_test_function.<locals>.test_function at 0x00000257D52EE940> triggered tf.function retracing. Tracing is expensive and the excessive number of tracings could be due to (1) creating @tf.function repeatedly in a loop, (2) passing tensors with different shapes, (3) passing Python objects instead of tensors. For (1), please define your @tf.function outside of the loop. For (2), @tf.function has experimental_relax_shapes=True option that relaxes argument shapes that can avoid unnecessary retracing. For (3), please refer to https://www.tensorflow.org/tutorials/customization/performance#python_or_tensor_args and https://www.tensorflow.org/api_docs/python/tf/function for  more details.\n",
      "WARNING:tensorflow:6 out of the last 11 calls to <function Model.make_predict_function.<locals>.predict_function at 0x00000257D3CB14C0> triggered tf.function retracing. Tracing is expensive and the excessive number of tracings could be due to (1) creating @tf.function repeatedly in a loop, (2) passing tensors with different shapes, (3) passing Python objects instead of tensors. For (1), please define your @tf.function outside of the loop. For (2), @tf.function has experimental_relax_shapes=True option that relaxes argument shapes that can avoid unnecessary retracing. For (3), please refer to https://www.tensorflow.org/tutorials/customization/performance#python_or_tensor_args and https://www.tensorflow.org/api_docs/python/tf/function for  more details.\n",
      "WARNING:tensorflow:6 out of the last 11 calls to <function Model.make_predict_function.<locals>.predict_function at 0x00000257D12A9310> triggered tf.function retracing. Tracing is expensive and the excessive number of tracings could be due to (1) creating @tf.function repeatedly in a loop, (2) passing tensors with different shapes, (3) passing Python objects instead of tensors. For (1), please define your @tf.function outside of the loop. For (2), @tf.function has experimental_relax_shapes=True option that relaxes argument shapes that can avoid unnecessary retracing. For (3), please refer to https://www.tensorflow.org/tutorials/customization/performance#python_or_tensor_args and https://www.tensorflow.org/api_docs/python/tf/function for  more details.\n",
      "WARNING:tensorflow:6 out of the last 11 calls to <function Model.make_predict_function.<locals>.predict_function at 0x00000257D3CB11F0> triggered tf.function retracing. Tracing is expensive and the excessive number of tracings could be due to (1) creating @tf.function repeatedly in a loop, (2) passing tensors with different shapes, (3) passing Python objects instead of tensors. For (1), please define your @tf.function outside of the loop. For (2), @tf.function has experimental_relax_shapes=True option that relaxes argument shapes that can avoid unnecessary retracing. For (3), please refer to https://www.tensorflow.org/tutorials/customization/performance#python_or_tensor_args and https://www.tensorflow.org/api_docs/python/tf/function for  more details.\n",
      "WARNING:tensorflow:6 out of the last 11 calls to <function Model.make_predict_function.<locals>.predict_function at 0x00000257CFBC53A0> triggered tf.function retracing. Tracing is expensive and the excessive number of tracings could be due to (1) creating @tf.function repeatedly in a loop, (2) passing tensors with different shapes, (3) passing Python objects instead of tensors. For (1), please define your @tf.function outside of the loop. For (2), @tf.function has experimental_relax_shapes=True option that relaxes argument shapes that can avoid unnecessary retracing. For (3), please refer to https://www.tensorflow.org/tutorials/customization/performance#python_or_tensor_args and https://www.tensorflow.org/api_docs/python/tf/function for  more details.\n",
      "WARNING:tensorflow:6 out of the last 11 calls to <function Model.make_predict_function.<locals>.predict_function at 0x00000257CFC29670> triggered tf.function retracing. Tracing is expensive and the excessive number of tracings could be due to (1) creating @tf.function repeatedly in a loop, (2) passing tensors with different shapes, (3) passing Python objects instead of tensors. For (1), please define your @tf.function outside of the loop. For (2), @tf.function has experimental_relax_shapes=True option that relaxes argument shapes that can avoid unnecessary retracing. For (3), please refer to https://www.tensorflow.org/tutorials/customization/performance#python_or_tensor_args and https://www.tensorflow.org/api_docs/python/tf/function for  more details.\n",
      "WARNING:tensorflow:6 out of the last 11 calls to <function Model.make_test_function.<locals>.test_function at 0x00000257D12A9E50> triggered tf.function retracing. Tracing is expensive and the excessive number of tracings could be due to (1) creating @tf.function repeatedly in a loop, (2) passing tensors with different shapes, (3) passing Python objects instead of tensors. For (1), please define your @tf.function outside of the loop. For (2), @tf.function has experimental_relax_shapes=True option that relaxes argument shapes that can avoid unnecessary retracing. For (3), please refer to https://www.tensorflow.org/tutorials/customization/performance#python_or_tensor_args and https://www.tensorflow.org/api_docs/python/tf/function for  more details.\n",
      "WARNING:tensorflow:6 out of the last 11 calls to <function Model.make_predict_function.<locals>.predict_function at 0x00000257D52623A0> triggered tf.function retracing. Tracing is expensive and the excessive number of tracings could be due to (1) creating @tf.function repeatedly in a loop, (2) passing tensors with different shapes, (3) passing Python objects instead of tensors. For (1), please define your @tf.function outside of the loop. For (2), @tf.function has experimental_relax_shapes=True option that relaxes argument shapes that can avoid unnecessary retracing. For (3), please refer to https://www.tensorflow.org/tutorials/customization/performance#python_or_tensor_args and https://www.tensorflow.org/api_docs/python/tf/function for  more details.\n",
      "WARNING:tensorflow:6 out of the last 11 calls to <function Model.make_predict_function.<locals>.predict_function at 0x00000257D3CB18B0> triggered tf.function retracing. Tracing is expensive and the excessive number of tracings could be due to (1) creating @tf.function repeatedly in a loop, (2) passing tensors with different shapes, (3) passing Python objects instead of tensors. For (1), please define your @tf.function outside of the loop. For (2), @tf.function has experimental_relax_shapes=True option that relaxes argument shapes that can avoid unnecessary retracing. For (3), please refer to https://www.tensorflow.org/tutorials/customization/performance#python_or_tensor_args and https://www.tensorflow.org/api_docs/python/tf/function for  more details.\n",
      "WARNING:tensorflow:6 out of the last 11 calls to <function Model.make_predict_function.<locals>.predict_function at 0x00000257CFBC5C10> triggered tf.function retracing. Tracing is expensive and the excessive number of tracings could be due to (1) creating @tf.function repeatedly in a loop, (2) passing tensors with different shapes, (3) passing Python objects instead of tensors. For (1), please define your @tf.function outside of the loop. For (2), @tf.function has experimental_relax_shapes=True option that relaxes argument shapes that can avoid unnecessary retracing. For (3), please refer to https://www.tensorflow.org/tutorials/customization/performance#python_or_tensor_args and https://www.tensorflow.org/api_docs/python/tf/function for  more details.\n",
      "WARNING:tensorflow:6 out of the last 11 calls to <function Model.make_predict_function.<locals>.predict_function at 0x00000257CFC29430> triggered tf.function retracing. Tracing is expensive and the excessive number of tracings could be due to (1) creating @tf.function repeatedly in a loop, (2) passing tensors with different shapes, (3) passing Python objects instead of tensors. For (1), please define your @tf.function outside of the loop. For (2), @tf.function has experimental_relax_shapes=True option that relaxes argument shapes that can avoid unnecessary retracing. For (3), please refer to https://www.tensorflow.org/tutorials/customization/performance#python_or_tensor_args and https://www.tensorflow.org/api_docs/python/tf/function for  more details.\n",
      "WARNING:tensorflow:6 out of the last 11 calls to <function Model.make_predict_function.<locals>.predict_function at 0x00000257D16F83A0> triggered tf.function retracing. Tracing is expensive and the excessive number of tracings could be due to (1) creating @tf.function repeatedly in a loop, (2) passing tensors with different shapes, (3) passing Python objects instead of tensors. For (1), please define your @tf.function outside of the loop. For (2), @tf.function has experimental_relax_shapes=True option that relaxes argument shapes that can avoid unnecessary retracing. For (3), please refer to https://www.tensorflow.org/tutorials/customization/performance#python_or_tensor_args and https://www.tensorflow.org/api_docs/python/tf/function for  more details.\n",
      "WARNING:tensorflow:6 out of the last 11 calls to <function Model.make_test_function.<locals>.test_function at 0x00000257D5262D30> triggered tf.function retracing. Tracing is expensive and the excessive number of tracings could be due to (1) creating @tf.function repeatedly in a loop, (2) passing tensors with different shapes, (3) passing Python objects instead of tensors. For (1), please define your @tf.function outside of the loop. For (2), @tf.function has experimental_relax_shapes=True option that relaxes argument shapes that can avoid unnecessary retracing. For (3), please refer to https://www.tensorflow.org/tutorials/customization/performance#python_or_tensor_args and https://www.tensorflow.org/api_docs/python/tf/function for  more details.\n",
      "WARNING:tensorflow:6 out of the last 11 calls to <function Model.make_predict_function.<locals>.predict_function at 0x00000257CFC29AF0> triggered tf.function retracing. Tracing is expensive and the excessive number of tracings could be due to (1) creating @tf.function repeatedly in a loop, (2) passing tensors with different shapes, (3) passing Python objects instead of tensors. For (1), please define your @tf.function outside of the loop. For (2), @tf.function has experimental_relax_shapes=True option that relaxes argument shapes that can avoid unnecessary retracing. For (3), please refer to https://www.tensorflow.org/tutorials/customization/performance#python_or_tensor_args and https://www.tensorflow.org/api_docs/python/tf/function for  more details.\n",
      "WARNING:tensorflow:6 out of the last 11 calls to <function Model.make_predict_function.<locals>.predict_function at 0x00000257D12A9040> triggered tf.function retracing. Tracing is expensive and the excessive number of tracings could be due to (1) creating @tf.function repeatedly in a loop, (2) passing tensors with different shapes, (3) passing Python objects instead of tensors. For (1), please define your @tf.function outside of the loop. For (2), @tf.function has experimental_relax_shapes=True option that relaxes argument shapes that can avoid unnecessary retracing. For (3), please refer to https://www.tensorflow.org/tutorials/customization/performance#python_or_tensor_args and https://www.tensorflow.org/api_docs/python/tf/function for  more details.\n",
      "WARNING:tensorflow:6 out of the last 11 calls to <function Model.make_predict_function.<locals>.predict_function at 0x00000257D1541EE0> triggered tf.function retracing. Tracing is expensive and the excessive number of tracings could be due to (1) creating @tf.function repeatedly in a loop, (2) passing tensors with different shapes, (3) passing Python objects instead of tensors. For (1), please define your @tf.function outside of the loop. For (2), @tf.function has experimental_relax_shapes=True option that relaxes argument shapes that can avoid unnecessary retracing. For (3), please refer to https://www.tensorflow.org/tutorials/customization/performance#python_or_tensor_args and https://www.tensorflow.org/api_docs/python/tf/function for  more details.\n",
      "WARNING:tensorflow:6 out of the last 11 calls to <function Model.make_predict_function.<locals>.predict_function at 0x00000257CFB9F670> triggered tf.function retracing. Tracing is expensive and the excessive number of tracings could be due to (1) creating @tf.function repeatedly in a loop, (2) passing tensors with different shapes, (3) passing Python objects instead of tensors. For (1), please define your @tf.function outside of the loop. For (2), @tf.function has experimental_relax_shapes=True option that relaxes argument shapes that can avoid unnecessary retracing. For (3), please refer to https://www.tensorflow.org/tutorials/customization/performance#python_or_tensor_args and https://www.tensorflow.org/api_docs/python/tf/function for  more details.\n",
      "WARNING:tensorflow:6 out of the last 11 calls to <function Model.make_predict_function.<locals>.predict_function at 0x00000257D3CB1700> triggered tf.function retracing. Tracing is expensive and the excessive number of tracings could be due to (1) creating @tf.function repeatedly in a loop, (2) passing tensors with different shapes, (3) passing Python objects instead of tensors. For (1), please define your @tf.function outside of the loop. For (2), @tf.function has experimental_relax_shapes=True option that relaxes argument shapes that can avoid unnecessary retracing. For (3), please refer to https://www.tensorflow.org/tutorials/customization/performance#python_or_tensor_args and https://www.tensorflow.org/api_docs/python/tf/function for  more details.\n",
      "WARNING:tensorflow:6 out of the last 11 calls to <function Model.make_test_function.<locals>.test_function at 0x00000257D3CB1AF0> triggered tf.function retracing. Tracing is expensive and the excessive number of tracings could be due to (1) creating @tf.function repeatedly in a loop, (2) passing tensors with different shapes, (3) passing Python objects instead of tensors. For (1), please define your @tf.function outside of the loop. For (2), @tf.function has experimental_relax_shapes=True option that relaxes argument shapes that can avoid unnecessary retracing. For (3), please refer to https://www.tensorflow.org/tutorials/customization/performance#python_or_tensor_args and https://www.tensorflow.org/api_docs/python/tf/function for  more details.\n",
      "WARNING:tensorflow:6 out of the last 11 calls to <function Model.make_predict_function.<locals>.predict_function at 0x00000257D5158940> triggered tf.function retracing. Tracing is expensive and the excessive number of tracings could be due to (1) creating @tf.function repeatedly in a loop, (2) passing tensors with different shapes, (3) passing Python objects instead of tensors. For (1), please define your @tf.function outside of the loop. For (2), @tf.function has experimental_relax_shapes=True option that relaxes argument shapes that can avoid unnecessary retracing. For (3), please refer to https://www.tensorflow.org/tutorials/customization/performance#python_or_tensor_args and https://www.tensorflow.org/api_docs/python/tf/function for  more details.\n",
      "WARNING:tensorflow:6 out of the last 11 calls to <function Model.make_predict_function.<locals>.predict_function at 0x00000257D5165700> triggered tf.function retracing. Tracing is expensive and the excessive number of tracings could be due to (1) creating @tf.function repeatedly in a loop, (2) passing tensors with different shapes, (3) passing Python objects instead of tensors. For (1), please define your @tf.function outside of the loop. For (2), @tf.function has experimental_relax_shapes=True option that relaxes argument shapes that can avoid unnecessary retracing. For (3), please refer to https://www.tensorflow.org/tutorials/customization/performance#python_or_tensor_args and https://www.tensorflow.org/api_docs/python/tf/function for  more details.\n",
      "WARNING:tensorflow:6 out of the last 11 calls to <function Model.make_predict_function.<locals>.predict_function at 0x00000257D1541430> triggered tf.function retracing. Tracing is expensive and the excessive number of tracings could be due to (1) creating @tf.function repeatedly in a loop, (2) passing tensors with different shapes, (3) passing Python objects instead of tensors. For (1), please define your @tf.function outside of the loop. For (2), @tf.function has experimental_relax_shapes=True option that relaxes argument shapes that can avoid unnecessary retracing. For (3), please refer to https://www.tensorflow.org/tutorials/customization/performance#python_or_tensor_args and https://www.tensorflow.org/api_docs/python/tf/function for  more details.\n",
      "WARNING:tensorflow:6 out of the last 11 calls to <function Model.make_predict_function.<locals>.predict_function at 0x00000257D5158430> triggered tf.function retracing. Tracing is expensive and the excessive number of tracings could be due to (1) creating @tf.function repeatedly in a loop, (2) passing tensors with different shapes, (3) passing Python objects instead of tensors. For (1), please define your @tf.function outside of the loop. For (2), @tf.function has experimental_relax_shapes=True option that relaxes argument shapes that can avoid unnecessary retracing. For (3), please refer to https://www.tensorflow.org/tutorials/customization/performance#python_or_tensor_args and https://www.tensorflow.org/api_docs/python/tf/function for  more details.\n",
      "WARNING:tensorflow:6 out of the last 11 calls to <function Model.make_predict_function.<locals>.predict_function at 0x00000257D3CB1550> triggered tf.function retracing. Tracing is expensive and the excessive number of tracings could be due to (1) creating @tf.function repeatedly in a loop, (2) passing tensors with different shapes, (3) passing Python objects instead of tensors. For (1), please define your @tf.function outside of the loop. For (2), @tf.function has experimental_relax_shapes=True option that relaxes argument shapes that can avoid unnecessary retracing. For (3), please refer to https://www.tensorflow.org/tutorials/customization/performance#python_or_tensor_args and https://www.tensorflow.org/api_docs/python/tf/function for  more details.\n",
      "WARNING:tensorflow:6 out of the last 11 calls to <function Model.make_test_function.<locals>.test_function at 0x00000257D12A9F70> triggered tf.function retracing. Tracing is expensive and the excessive number of tracings could be due to (1) creating @tf.function repeatedly in a loop, (2) passing tensors with different shapes, (3) passing Python objects instead of tensors. For (1), please define your @tf.function outside of the loop. For (2), @tf.function has experimental_relax_shapes=True option that relaxes argument shapes that can avoid unnecessary retracing. For (3), please refer to https://www.tensorflow.org/tutorials/customization/performance#python_or_tensor_args and https://www.tensorflow.org/api_docs/python/tf/function for  more details.\n",
      "WARNING:tensorflow:6 out of the last 11 calls to <function Model.make_predict_function.<locals>.predict_function at 0x00000257D3CB1A60> triggered tf.function retracing. Tracing is expensive and the excessive number of tracings could be due to (1) creating @tf.function repeatedly in a loop, (2) passing tensors with different shapes, (3) passing Python objects instead of tensors. For (1), please define your @tf.function outside of the loop. For (2), @tf.function has experimental_relax_shapes=True option that relaxes argument shapes that can avoid unnecessary retracing. For (3), please refer to https://www.tensorflow.org/tutorials/customization/performance#python_or_tensor_args and https://www.tensorflow.org/api_docs/python/tf/function for  more details.\n",
      "WARNING:tensorflow:6 out of the last 11 calls to <function Model.make_predict_function.<locals>.predict_function at 0x00000257CFC29700> triggered tf.function retracing. Tracing is expensive and the excessive number of tracings could be due to (1) creating @tf.function repeatedly in a loop, (2) passing tensors with different shapes, (3) passing Python objects instead of tensors. For (1), please define your @tf.function outside of the loop. For (2), @tf.function has experimental_relax_shapes=True option that relaxes argument shapes that can avoid unnecessary retracing. For (3), please refer to https://www.tensorflow.org/tutorials/customization/performance#python_or_tensor_args and https://www.tensorflow.org/api_docs/python/tf/function for  more details.\n",
      "WARNING:tensorflow:6 out of the last 11 calls to <function Model.make_predict_function.<locals>.predict_function at 0x00000257D1541D30> triggered tf.function retracing. Tracing is expensive and the excessive number of tracings could be due to (1) creating @tf.function repeatedly in a loop, (2) passing tensors with different shapes, (3) passing Python objects instead of tensors. For (1), please define your @tf.function outside of the loop. For (2), @tf.function has experimental_relax_shapes=True option that relaxes argument shapes that can avoid unnecessary retracing. For (3), please refer to https://www.tensorflow.org/tutorials/customization/performance#python_or_tensor_args and https://www.tensorflow.org/api_docs/python/tf/function for  more details.\n",
      "WARNING:tensorflow:6 out of the last 11 calls to <function Model.make_predict_function.<locals>.predict_function at 0x00000257CFC298B0> triggered tf.function retracing. Tracing is expensive and the excessive number of tracings could be due to (1) creating @tf.function repeatedly in a loop, (2) passing tensors with different shapes, (3) passing Python objects instead of tensors. For (1), please define your @tf.function outside of the loop. For (2), @tf.function has experimental_relax_shapes=True option that relaxes argument shapes that can avoid unnecessary retracing. For (3), please refer to https://www.tensorflow.org/tutorials/customization/performance#python_or_tensor_args and https://www.tensorflow.org/api_docs/python/tf/function for  more details.\n",
      "WARNING:tensorflow:6 out of the last 11 calls to <function Model.make_predict_function.<locals>.predict_function at 0x00000257CFBC5790> triggered tf.function retracing. Tracing is expensive and the excessive number of tracings could be due to (1) creating @tf.function repeatedly in a loop, (2) passing tensors with different shapes, (3) passing Python objects instead of tensors. For (1), please define your @tf.function outside of the loop. For (2), @tf.function has experimental_relax_shapes=True option that relaxes argument shapes that can avoid unnecessary retracing. For (3), please refer to https://www.tensorflow.org/tutorials/customization/performance#python_or_tensor_args and https://www.tensorflow.org/api_docs/python/tf/function for  more details.\n",
      "WARNING:tensorflow:6 out of the last 11 calls to <function Model.make_test_function.<locals>.test_function at 0x00000257D3CB1430> triggered tf.function retracing. Tracing is expensive and the excessive number of tracings could be due to (1) creating @tf.function repeatedly in a loop, (2) passing tensors with different shapes, (3) passing Python objects instead of tensors. For (1), please define your @tf.function outside of the loop. For (2), @tf.function has experimental_relax_shapes=True option that relaxes argument shapes that can avoid unnecessary retracing. For (3), please refer to https://www.tensorflow.org/tutorials/customization/performance#python_or_tensor_args and https://www.tensorflow.org/api_docs/python/tf/function for  more details.\n",
      "WARNING:tensorflow:6 out of the last 11 calls to <function Model.make_predict_function.<locals>.predict_function at 0x00000257D135CB80> triggered tf.function retracing. Tracing is expensive and the excessive number of tracings could be due to (1) creating @tf.function repeatedly in a loop, (2) passing tensors with different shapes, (3) passing Python objects instead of tensors. For (1), please define your @tf.function outside of the loop. For (2), @tf.function has experimental_relax_shapes=True option that relaxes argument shapes that can avoid unnecessary retracing. For (3), please refer to https://www.tensorflow.org/tutorials/customization/performance#python_or_tensor_args and https://www.tensorflow.org/api_docs/python/tf/function for  more details.\n",
      "WARNING:tensorflow:6 out of the last 11 calls to <function Model.make_predict_function.<locals>.predict_function at 0x00000257D3DFE700> triggered tf.function retracing. Tracing is expensive and the excessive number of tracings could be due to (1) creating @tf.function repeatedly in a loop, (2) passing tensors with different shapes, (3) passing Python objects instead of tensors. For (1), please define your @tf.function outside of the loop. For (2), @tf.function has experimental_relax_shapes=True option that relaxes argument shapes that can avoid unnecessary retracing. For (3), please refer to https://www.tensorflow.org/tutorials/customization/performance#python_or_tensor_args and https://www.tensorflow.org/api_docs/python/tf/function for  more details.\n",
      "WARNING:tensorflow:6 out of the last 11 calls to <function Model.make_predict_function.<locals>.predict_function at 0x00000257CFBC5700> triggered tf.function retracing. Tracing is expensive and the excessive number of tracings could be due to (1) creating @tf.function repeatedly in a loop, (2) passing tensors with different shapes, (3) passing Python objects instead of tensors. For (1), please define your @tf.function outside of the loop. For (2), @tf.function has experimental_relax_shapes=True option that relaxes argument shapes that can avoid unnecessary retracing. For (3), please refer to https://www.tensorflow.org/tutorials/customization/performance#python_or_tensor_args and https://www.tensorflow.org/api_docs/python/tf/function for  more details.\n",
      "WARNING:tensorflow:6 out of the last 11 calls to <function Model.make_predict_function.<locals>.predict_function at 0x00000257D5158790> triggered tf.function retracing. Tracing is expensive and the excessive number of tracings could be due to (1) creating @tf.function repeatedly in a loop, (2) passing tensors with different shapes, (3) passing Python objects instead of tensors. For (1), please define your @tf.function outside of the loop. For (2), @tf.function has experimental_relax_shapes=True option that relaxes argument shapes that can avoid unnecessary retracing. For (3), please refer to https://www.tensorflow.org/tutorials/customization/performance#python_or_tensor_args and https://www.tensorflow.org/api_docs/python/tf/function for  more details.\n",
      "WARNING:tensorflow:6 out of the last 11 calls to <function Model.make_predict_function.<locals>.predict_function at 0x00000257D135C550> triggered tf.function retracing. Tracing is expensive and the excessive number of tracings could be due to (1) creating @tf.function repeatedly in a loop, (2) passing tensors with different shapes, (3) passing Python objects instead of tensors. For (1), please define your @tf.function outside of the loop. For (2), @tf.function has experimental_relax_shapes=True option that relaxes argument shapes that can avoid unnecessary retracing. For (3), please refer to https://www.tensorflow.org/tutorials/customization/performance#python_or_tensor_args and https://www.tensorflow.org/api_docs/python/tf/function for  more details.\n",
      "WARNING:tensorflow:6 out of the last 11 calls to <function Model.make_test_function.<locals>.test_function at 0x00000257D12A91F0> triggered tf.function retracing. Tracing is expensive and the excessive number of tracings could be due to (1) creating @tf.function repeatedly in a loop, (2) passing tensors with different shapes, (3) passing Python objects instead of tensors. For (1), please define your @tf.function outside of the loop. For (2), @tf.function has experimental_relax_shapes=True option that relaxes argument shapes that can avoid unnecessary retracing. For (3), please refer to https://www.tensorflow.org/tutorials/customization/performance#python_or_tensor_args and https://www.tensorflow.org/api_docs/python/tf/function for  more details.\n",
      "WARNING:tensorflow:6 out of the last 11 calls to <function Model.make_predict_function.<locals>.predict_function at 0x00000257D3DFE310> triggered tf.function retracing. Tracing is expensive and the excessive number of tracings could be due to (1) creating @tf.function repeatedly in a loop, (2) passing tensors with different shapes, (3) passing Python objects instead of tensors. For (1), please define your @tf.function outside of the loop. For (2), @tf.function has experimental_relax_shapes=True option that relaxes argument shapes that can avoid unnecessary retracing. For (3), please refer to https://www.tensorflow.org/tutorials/customization/performance#python_or_tensor_args and https://www.tensorflow.org/api_docs/python/tf/function for  more details.\n",
      "WARNING:tensorflow:6 out of the last 11 calls to <function Model.make_predict_function.<locals>.predict_function at 0x00000257D3CB11F0> triggered tf.function retracing. Tracing is expensive and the excessive number of tracings could be due to (1) creating @tf.function repeatedly in a loop, (2) passing tensors with different shapes, (3) passing Python objects instead of tensors. For (1), please define your @tf.function outside of the loop. For (2), @tf.function has experimental_relax_shapes=True option that relaxes argument shapes that can avoid unnecessary retracing. For (3), please refer to https://www.tensorflow.org/tutorials/customization/performance#python_or_tensor_args and https://www.tensorflow.org/api_docs/python/tf/function for  more details.\n",
      "WARNING:tensorflow:6 out of the last 11 calls to <function Model.make_predict_function.<locals>.predict_function at 0x00000257CFBC5CA0> triggered tf.function retracing. Tracing is expensive and the excessive number of tracings could be due to (1) creating @tf.function repeatedly in a loop, (2) passing tensors with different shapes, (3) passing Python objects instead of tensors. For (1), please define your @tf.function outside of the loop. For (2), @tf.function has experimental_relax_shapes=True option that relaxes argument shapes that can avoid unnecessary retracing. For (3), please refer to https://www.tensorflow.org/tutorials/customization/performance#python_or_tensor_args and https://www.tensorflow.org/api_docs/python/tf/function for  more details.\n",
      "WARNING:tensorflow:6 out of the last 11 calls to <function Model.make_predict_function.<locals>.predict_function at 0x00000257D135CAF0> triggered tf.function retracing. Tracing is expensive and the excessive number of tracings could be due to (1) creating @tf.function repeatedly in a loop, (2) passing tensors with different shapes, (3) passing Python objects instead of tensors. For (1), please define your @tf.function outside of the loop. For (2), @tf.function has experimental_relax_shapes=True option that relaxes argument shapes that can avoid unnecessary retracing. For (3), please refer to https://www.tensorflow.org/tutorials/customization/performance#python_or_tensor_args and https://www.tensorflow.org/api_docs/python/tf/function for  more details.\n",
      "WARNING:tensorflow:6 out of the last 11 calls to <function Model.make_predict_function.<locals>.predict_function at 0x00000257CFC29670> triggered tf.function retracing. Tracing is expensive and the excessive number of tracings could be due to (1) creating @tf.function repeatedly in a loop, (2) passing tensors with different shapes, (3) passing Python objects instead of tensors. For (1), please define your @tf.function outside of the loop. For (2), @tf.function has experimental_relax_shapes=True option that relaxes argument shapes that can avoid unnecessary retracing. For (3), please refer to https://www.tensorflow.org/tutorials/customization/performance#python_or_tensor_args and https://www.tensorflow.org/api_docs/python/tf/function for  more details.\n",
      "WARNING:tensorflow:6 out of the last 11 calls to <function Model.make_test_function.<locals>.test_function at 0x00000257D40823A0> triggered tf.function retracing. Tracing is expensive and the excessive number of tracings could be due to (1) creating @tf.function repeatedly in a loop, (2) passing tensors with different shapes, (3) passing Python objects instead of tensors. For (1), please define your @tf.function outside of the loop. For (2), @tf.function has experimental_relax_shapes=True option that relaxes argument shapes that can avoid unnecessary retracing. For (3), please refer to https://www.tensorflow.org/tutorials/customization/performance#python_or_tensor_args and https://www.tensorflow.org/api_docs/python/tf/function for  more details.\n",
      "WARNING:tensorflow:6 out of the last 11 calls to <function Model.make_predict_function.<locals>.predict_function at 0x00000257D135C940> triggered tf.function retracing. Tracing is expensive and the excessive number of tracings could be due to (1) creating @tf.function repeatedly in a loop, (2) passing tensors with different shapes, (3) passing Python objects instead of tensors. For (1), please define your @tf.function outside of the loop. For (2), @tf.function has experimental_relax_shapes=True option that relaxes argument shapes that can avoid unnecessary retracing. For (3), please refer to https://www.tensorflow.org/tutorials/customization/performance#python_or_tensor_args and https://www.tensorflow.org/api_docs/python/tf/function for  more details.\n",
      "WARNING:tensorflow:6 out of the last 11 calls to <function Model.make_predict_function.<locals>.predict_function at 0x00000257D3DFEEE0> triggered tf.function retracing. Tracing is expensive and the excessive number of tracings could be due to (1) creating @tf.function repeatedly in a loop, (2) passing tensors with different shapes, (3) passing Python objects instead of tensors. For (1), please define your @tf.function outside of the loop. For (2), @tf.function has experimental_relax_shapes=True option that relaxes argument shapes that can avoid unnecessary retracing. For (3), please refer to https://www.tensorflow.org/tutorials/customization/performance#python_or_tensor_args and https://www.tensorflow.org/api_docs/python/tf/function for  more details.\n",
      "WARNING:tensorflow:6 out of the last 11 calls to <function Model.make_predict_function.<locals>.predict_function at 0x00000257D12A9670> triggered tf.function retracing. Tracing is expensive and the excessive number of tracings could be due to (1) creating @tf.function repeatedly in a loop, (2) passing tensors with different shapes, (3) passing Python objects instead of tensors. For (1), please define your @tf.function outside of the loop. For (2), @tf.function has experimental_relax_shapes=True option that relaxes argument shapes that can avoid unnecessary retracing. For (3), please refer to https://www.tensorflow.org/tutorials/customization/performance#python_or_tensor_args and https://www.tensorflow.org/api_docs/python/tf/function for  more details.\n",
      "WARNING:tensorflow:6 out of the last 11 calls to <function Model.make_predict_function.<locals>.predict_function at 0x00000257D3CB1EE0> triggered tf.function retracing. Tracing is expensive and the excessive number of tracings could be due to (1) creating @tf.function repeatedly in a loop, (2) passing tensors with different shapes, (3) passing Python objects instead of tensors. For (1), please define your @tf.function outside of the loop. For (2), @tf.function has experimental_relax_shapes=True option that relaxes argument shapes that can avoid unnecessary retracing. For (3), please refer to https://www.tensorflow.org/tutorials/customization/performance#python_or_tensor_args and https://www.tensorflow.org/api_docs/python/tf/function for  more details.\n",
      "WARNING:tensorflow:6 out of the last 11 calls to <function Model.make_predict_function.<locals>.predict_function at 0x00000257D5158310> triggered tf.function retracing. Tracing is expensive and the excessive number of tracings could be due to (1) creating @tf.function repeatedly in a loop, (2) passing tensors with different shapes, (3) passing Python objects instead of tensors. For (1), please define your @tf.function outside of the loop. For (2), @tf.function has experimental_relax_shapes=True option that relaxes argument shapes that can avoid unnecessary retracing. For (3), please refer to https://www.tensorflow.org/tutorials/customization/performance#python_or_tensor_args and https://www.tensorflow.org/api_docs/python/tf/function for  more details.\n",
      "WARNING:tensorflow:6 out of the last 11 calls to <function Model.make_test_function.<locals>.test_function at 0x00000257D5158B80> triggered tf.function retracing. Tracing is expensive and the excessive number of tracings could be due to (1) creating @tf.function repeatedly in a loop, (2) passing tensors with different shapes, (3) passing Python objects instead of tensors. For (1), please define your @tf.function outside of the loop. For (2), @tf.function has experimental_relax_shapes=True option that relaxes argument shapes that can avoid unnecessary retracing. For (3), please refer to https://www.tensorflow.org/tutorials/customization/performance#python_or_tensor_args and https://www.tensorflow.org/api_docs/python/tf/function for  more details.\n",
      "WARNING:tensorflow:6 out of the last 11 calls to <function Model.make_predict_function.<locals>.predict_function at 0x00000257D135C9D0> triggered tf.function retracing. Tracing is expensive and the excessive number of tracings could be due to (1) creating @tf.function repeatedly in a loop, (2) passing tensors with different shapes, (3) passing Python objects instead of tensors. For (1), please define your @tf.function outside of the loop. For (2), @tf.function has experimental_relax_shapes=True option that relaxes argument shapes that can avoid unnecessary retracing. For (3), please refer to https://www.tensorflow.org/tutorials/customization/performance#python_or_tensor_args and https://www.tensorflow.org/api_docs/python/tf/function for  more details.\n",
      "WARNING:tensorflow:6 out of the last 11 calls to <function Model.make_predict_function.<locals>.predict_function at 0x00000257D3CB1F70> triggered tf.function retracing. Tracing is expensive and the excessive number of tracings could be due to (1) creating @tf.function repeatedly in a loop, (2) passing tensors with different shapes, (3) passing Python objects instead of tensors. For (1), please define your @tf.function outside of the loop. For (2), @tf.function has experimental_relax_shapes=True option that relaxes argument shapes that can avoid unnecessary retracing. For (3), please refer to https://www.tensorflow.org/tutorials/customization/performance#python_or_tensor_args and https://www.tensorflow.org/api_docs/python/tf/function for  more details.\n",
      "WARNING:tensorflow:6 out of the last 11 calls to <function Model.make_predict_function.<locals>.predict_function at 0x00000257CFBC5F70> triggered tf.function retracing. Tracing is expensive and the excessive number of tracings could be due to (1) creating @tf.function repeatedly in a loop, (2) passing tensors with different shapes, (3) passing Python objects instead of tensors. For (1), please define your @tf.function outside of the loop. For (2), @tf.function has experimental_relax_shapes=True option that relaxes argument shapes that can avoid unnecessary retracing. For (3), please refer to https://www.tensorflow.org/tutorials/customization/performance#python_or_tensor_args and https://www.tensorflow.org/api_docs/python/tf/function for  more details.\n",
      "WARNING:tensorflow:6 out of the last 11 calls to <function Model.make_predict_function.<locals>.predict_function at 0x00000257CFC29A60> triggered tf.function retracing. Tracing is expensive and the excessive number of tracings could be due to (1) creating @tf.function repeatedly in a loop, (2) passing tensors with different shapes, (3) passing Python objects instead of tensors. For (1), please define your @tf.function outside of the loop. For (2), @tf.function has experimental_relax_shapes=True option that relaxes argument shapes that can avoid unnecessary retracing. For (3), please refer to https://www.tensorflow.org/tutorials/customization/performance#python_or_tensor_args and https://www.tensorflow.org/api_docs/python/tf/function for  more details.\n",
      "WARNING:tensorflow:6 out of the last 11 calls to <function Model.make_predict_function.<locals>.predict_function at 0x00000257D1541550> triggered tf.function retracing. Tracing is expensive and the excessive number of tracings could be due to (1) creating @tf.function repeatedly in a loop, (2) passing tensors with different shapes, (3) passing Python objects instead of tensors. For (1), please define your @tf.function outside of the loop. For (2), @tf.function has experimental_relax_shapes=True option that relaxes argument shapes that can avoid unnecessary retracing. For (3), please refer to https://www.tensorflow.org/tutorials/customization/performance#python_or_tensor_args and https://www.tensorflow.org/api_docs/python/tf/function for  more details.\n",
      "WARNING:tensorflow:6 out of the last 11 calls to <function Model.make_test_function.<locals>.test_function at 0x00000257D135C8B0> triggered tf.function retracing. Tracing is expensive and the excessive number of tracings could be due to (1) creating @tf.function repeatedly in a loop, (2) passing tensors with different shapes, (3) passing Python objects instead of tensors. For (1), please define your @tf.function outside of the loop. For (2), @tf.function has experimental_relax_shapes=True option that relaxes argument shapes that can avoid unnecessary retracing. For (3), please refer to https://www.tensorflow.org/tutorials/customization/performance#python_or_tensor_args and https://www.tensorflow.org/api_docs/python/tf/function for  more details.\n"
     ]
    }
   ],
   "source": [
    "metricas = []\n",
    "neuronas = [32, 64, 128]\n",
    "for n_neurons in neuronas:\n",
    "    modelos = [[n_neurons], [n_neurons, n_neurons], [n_neurons, n_neurons, n_neurons], [n_neurons, n_neurons, n_neurons, n_neurons]]\n",
    "    for i_modelos in modelos:\n",
    "            metricas.append(regression_model(i_modelos, 9, 5, 200, verbose_=0, seed_=1, optimizer_='rmsprop', metrics_=['mae'], activation_='relu' ))\n",
    "\n",
    "metricas_neuronas = metricas.copy()"
   ]
  },
  {
   "cell_type": "code",
   "execution_count": 32,
   "id": "a5044f15",
   "metadata": {},
   "outputs": [
    {
     "data": {
      "text/plain": [
       "[(1.0040833950042725, 0.772392749786377, 0.763239840941013),\n",
       " (0.7367757558822632, 0.6485392451286316, 0.8262702333888078),\n",
       " (1.754930019378662, 0.8526869416236877, 0.586192206688565),\n",
       " (0.8408551812171936, 0.6348536610603333, 0.8017285713458002),\n",
       " (1.1851806640625, 0.7701775431632996, 0.7205375629854719),\n",
       " (2.1623175144195557, 0.8022724390029907, 0.4901312200306217),\n",
       " (0.9620720148086548, 0.688814103603363, 0.7731459494712412),\n",
       " (1.9493314027786255, 0.8948702812194824, 0.5403528903440159),\n",
       " (0.8724623322486877, 0.6427998542785645, 0.7942756974350498),\n",
       " (1.5520925521850586, 0.7747636437416077, 0.6340206716613652),\n",
       " (0.9826909303665161, 0.6889689564704895, 0.7682840277080227),\n",
       " (1.3658355474472046, 0.7389888167381287, 0.6779395835892658)]"
      ]
     },
     "execution_count": 32,
     "metadata": {},
     "output_type": "execute_result"
    }
   ],
   "source": [
    "metricas_neuronas"
   ]
  },
  {
   "cell_type": "code",
   "execution_count": 33,
   "id": "8875e282",
   "metadata": {},
   "outputs": [],
   "source": [
    "col_neurons = []\n",
    "col_capas = []\n",
    "\n",
    "neuronas = [32, 64, 128]\n",
    "for n_neurons in neuronas:\n",
    "    modelos = [[n_neurons], [n_neurons, n_neurons], [n_neurons, n_neurons, n_neurons], [n_neurons, n_neurons, n_neurons, n_neurons]]\n",
    "    for i_modelos in modelos:\n",
    "            col_neurons.append(n_neurons)\n",
    "            col_capas.append(len(i_modelos))"
   ]
  },
  {
   "cell_type": "code",
   "execution_count": 34,
   "id": "d43917f2",
   "metadata": {},
   "outputs": [
    {
     "name": "stdout",
     "output_type": "stream",
     "text": [
      "[ 32  32  32  32  64  64  64  64 128 128 128 128]\n",
      "[1 2 3 4 1 2 3 4 1 2 3 4]\n"
     ]
    }
   ],
   "source": [
    "col_neurons = np.array(col_neurons)\n",
    "col_capas = np.array(col_capas)\n",
    "print(col_neurons)\n",
    "print(col_capas)"
   ]
  },
  {
   "cell_type": "code",
   "execution_count": 37,
   "id": "50b3d8f9",
   "metadata": {},
   "outputs": [],
   "source": [
    "df_aux1 = pd.DataFrame(metricas_neuronas, columns=['mse', 'mae', 'R2'])"
   ]
  },
  {
   "cell_type": "code",
   "execution_count": 40,
   "id": "f775d37f",
   "metadata": {},
   "outputs": [
    {
     "data": {
      "text/html": [
       "<div>\n",
       "<style scoped>\n",
       "    .dataframe tbody tr th:only-of-type {\n",
       "        vertical-align: middle;\n",
       "    }\n",
       "\n",
       "    .dataframe tbody tr th {\n",
       "        vertical-align: top;\n",
       "    }\n",
       "\n",
       "    .dataframe thead th {\n",
       "        text-align: right;\n",
       "    }\n",
       "</style>\n",
       "<table border=\"1\" class=\"dataframe\">\n",
       "  <thead>\n",
       "    <tr style=\"text-align: right;\">\n",
       "      <th></th>\n",
       "      <th>Capas</th>\n",
       "      <th>Neuronas</th>\n",
       "      <th>mse</th>\n",
       "      <th>mae</th>\n",
       "      <th>R2</th>\n",
       "    </tr>\n",
       "  </thead>\n",
       "  <tbody>\n",
       "    <tr>\n",
       "      <th>1</th>\n",
       "      <td>2</td>\n",
       "      <td>32</td>\n",
       "      <td>0.736776</td>\n",
       "      <td>0.648539</td>\n",
       "      <td>0.826270</td>\n",
       "    </tr>\n",
       "    <tr>\n",
       "      <th>3</th>\n",
       "      <td>4</td>\n",
       "      <td>32</td>\n",
       "      <td>0.840855</td>\n",
       "      <td>0.634854</td>\n",
       "      <td>0.801729</td>\n",
       "    </tr>\n",
       "    <tr>\n",
       "      <th>8</th>\n",
       "      <td>1</td>\n",
       "      <td>128</td>\n",
       "      <td>0.872462</td>\n",
       "      <td>0.642800</td>\n",
       "      <td>0.794276</td>\n",
       "    </tr>\n",
       "    <tr>\n",
       "      <th>6</th>\n",
       "      <td>3</td>\n",
       "      <td>64</td>\n",
       "      <td>0.962072</td>\n",
       "      <td>0.688814</td>\n",
       "      <td>0.773146</td>\n",
       "    </tr>\n",
       "    <tr>\n",
       "      <th>10</th>\n",
       "      <td>3</td>\n",
       "      <td>128</td>\n",
       "      <td>0.982691</td>\n",
       "      <td>0.688969</td>\n",
       "      <td>0.768284</td>\n",
       "    </tr>\n",
       "    <tr>\n",
       "      <th>0</th>\n",
       "      <td>1</td>\n",
       "      <td>32</td>\n",
       "      <td>1.004083</td>\n",
       "      <td>0.772393</td>\n",
       "      <td>0.763240</td>\n",
       "    </tr>\n",
       "    <tr>\n",
       "      <th>4</th>\n",
       "      <td>1</td>\n",
       "      <td>64</td>\n",
       "      <td>1.185181</td>\n",
       "      <td>0.770178</td>\n",
       "      <td>0.720538</td>\n",
       "    </tr>\n",
       "    <tr>\n",
       "      <th>11</th>\n",
       "      <td>4</td>\n",
       "      <td>128</td>\n",
       "      <td>1.365836</td>\n",
       "      <td>0.738989</td>\n",
       "      <td>0.677940</td>\n",
       "    </tr>\n",
       "    <tr>\n",
       "      <th>9</th>\n",
       "      <td>2</td>\n",
       "      <td>128</td>\n",
       "      <td>1.552093</td>\n",
       "      <td>0.774764</td>\n",
       "      <td>0.634021</td>\n",
       "    </tr>\n",
       "    <tr>\n",
       "      <th>2</th>\n",
       "      <td>3</td>\n",
       "      <td>32</td>\n",
       "      <td>1.754930</td>\n",
       "      <td>0.852687</td>\n",
       "      <td>0.586192</td>\n",
       "    </tr>\n",
       "    <tr>\n",
       "      <th>7</th>\n",
       "      <td>4</td>\n",
       "      <td>64</td>\n",
       "      <td>1.949331</td>\n",
       "      <td>0.894870</td>\n",
       "      <td>0.540353</td>\n",
       "    </tr>\n",
       "    <tr>\n",
       "      <th>5</th>\n",
       "      <td>2</td>\n",
       "      <td>64</td>\n",
       "      <td>2.162318</td>\n",
       "      <td>0.802272</td>\n",
       "      <td>0.490131</td>\n",
       "    </tr>\n",
       "  </tbody>\n",
       "</table>\n",
       "</div>"
      ],
      "text/plain": [
       "    Capas  Neuronas       mse       mae        R2\n",
       "1       2        32  0.736776  0.648539  0.826270\n",
       "3       4        32  0.840855  0.634854  0.801729\n",
       "8       1       128  0.872462  0.642800  0.794276\n",
       "6       3        64  0.962072  0.688814  0.773146\n",
       "10      3       128  0.982691  0.688969  0.768284\n",
       "0       1        32  1.004083  0.772393  0.763240\n",
       "4       1        64  1.185181  0.770178  0.720538\n",
       "11      4       128  1.365836  0.738989  0.677940\n",
       "9       2       128  1.552093  0.774764  0.634021\n",
       "2       3        32  1.754930  0.852687  0.586192\n",
       "7       4        64  1.949331  0.894870  0.540353\n",
       "5       2        64  2.162318  0.802272  0.490131"
      ]
     },
     "execution_count": 40,
     "metadata": {},
     "output_type": "execute_result"
    }
   ],
   "source": [
    "data = {'Capas': col_capas,\n",
    "        'Neuronas': col_neurons\n",
    "        }\n",
    "df_aux2 = pd.DataFrame(data, columns=['Capas', 'Neuronas'])\n",
    "df_mas_neuronas = pd.concat([df_aux2, df_aux1], axis=1)\n",
    "\n",
    "df_mas_neuronas.sort_values(['mse', 'mae', 'R2' ],\n",
    "                                     ascending=True)"
   ]
  },
  {
   "cell_type": "markdown",
   "id": "f3dcb253",
   "metadata": {},
   "source": [
    "Parece que el mejor coeficiente de correlación de pearson se obtiene con dos capas ocultas de 32 neuronas cada una. Sobre este modelo procederemos a probar distintos clasificadores."
   ]
  },
  {
   "cell_type": "markdown",
   "id": "ef955036",
   "metadata": {},
   "source": [
    "### Parámetros de optimización\n",
    "\n",
    "Usando la mejor configuración anterior, es decir, 2 capas con 32 neuronas, probaremos distintos optimizadores. Cambiamos el optimizador RMSprop por sgd."
   ]
  },
  {
   "cell_type": "code",
   "execution_count": 42,
   "id": "a677ce65",
   "metadata": {},
   "outputs": [],
   "source": [
    "from keras.optimizers import RMSprop, SGD\n",
    "lr = [0.1, 0.01, 0.001, 0.0001]\n"
   ]
  },
  {
   "cell_type": "markdown",
   "id": "a0f4e00c",
   "metadata": {},
   "source": [
    "### RMSprop con varios valores de learning rate"
   ]
  },
  {
   "cell_type": "code",
   "execution_count": 43,
   "id": "cbbab9bb",
   "metadata": {
    "collapsed": true,
    "jupyter": {
     "outputs_hidden": true
    },
    "tags": []
   },
   "outputs": [
    {
     "name": "stdout",
     "output_type": "stream",
     "text": [
      "WARNING:tensorflow:6 out of the last 11 calls to <function Model.make_predict_function.<locals>.predict_function at 0x00000257D3DFE9D0> triggered tf.function retracing. Tracing is expensive and the excessive number of tracings could be due to (1) creating @tf.function repeatedly in a loop, (2) passing tensors with different shapes, (3) passing Python objects instead of tensors. For (1), please define your @tf.function outside of the loop. For (2), @tf.function has experimental_relax_shapes=True option that relaxes argument shapes that can avoid unnecessary retracing. For (3), please refer to https://www.tensorflow.org/tutorials/customization/performance#python_or_tensor_args and https://www.tensorflow.org/api_docs/python/tf/function for  more details.\n",
      "WARNING:tensorflow:6 out of the last 11 calls to <function Model.make_predict_function.<locals>.predict_function at 0x00000257D5158A60> triggered tf.function retracing. Tracing is expensive and the excessive number of tracings could be due to (1) creating @tf.function repeatedly in a loop, (2) passing tensors with different shapes, (3) passing Python objects instead of tensors. For (1), please define your @tf.function outside of the loop. For (2), @tf.function has experimental_relax_shapes=True option that relaxes argument shapes that can avoid unnecessary retracing. For (3), please refer to https://www.tensorflow.org/tutorials/customization/performance#python_or_tensor_args and https://www.tensorflow.org/api_docs/python/tf/function for  more details.\n",
      "WARNING:tensorflow:6 out of the last 11 calls to <function Model.make_predict_function.<locals>.predict_function at 0x00000257D51D7CA0> triggered tf.function retracing. Tracing is expensive and the excessive number of tracings could be due to (1) creating @tf.function repeatedly in a loop, (2) passing tensors with different shapes, (3) passing Python objects instead of tensors. For (1), please define your @tf.function outside of the loop. For (2), @tf.function has experimental_relax_shapes=True option that relaxes argument shapes that can avoid unnecessary retracing. For (3), please refer to https://www.tensorflow.org/tutorials/customization/performance#python_or_tensor_args and https://www.tensorflow.org/api_docs/python/tf/function for  more details.\n",
      "WARNING:tensorflow:6 out of the last 11 calls to <function Model.make_predict_function.<locals>.predict_function at 0x00000257D78BC790> triggered tf.function retracing. Tracing is expensive and the excessive number of tracings could be due to (1) creating @tf.function repeatedly in a loop, (2) passing tensors with different shapes, (3) passing Python objects instead of tensors. For (1), please define your @tf.function outside of the loop. For (2), @tf.function has experimental_relax_shapes=True option that relaxes argument shapes that can avoid unnecessary retracing. For (3), please refer to https://www.tensorflow.org/tutorials/customization/performance#python_or_tensor_args and https://www.tensorflow.org/api_docs/python/tf/function for  more details.\n",
      "WARNING:tensorflow:6 out of the last 11 calls to <function Model.make_predict_function.<locals>.predict_function at 0x00000257D51D75E0> triggered tf.function retracing. Tracing is expensive and the excessive number of tracings could be due to (1) creating @tf.function repeatedly in a loop, (2) passing tensors with different shapes, (3) passing Python objects instead of tensors. For (1), please define your @tf.function outside of the loop. For (2), @tf.function has experimental_relax_shapes=True option that relaxes argument shapes that can avoid unnecessary retracing. For (3), please refer to https://www.tensorflow.org/tutorials/customization/performance#python_or_tensor_args and https://www.tensorflow.org/api_docs/python/tf/function for  more details.\n",
      "WARNING:tensorflow:6 out of the last 11 calls to <function Model.make_test_function.<locals>.test_function at 0x00000257D12A9670> triggered tf.function retracing. Tracing is expensive and the excessive number of tracings could be due to (1) creating @tf.function repeatedly in a loop, (2) passing tensors with different shapes, (3) passing Python objects instead of tensors. For (1), please define your @tf.function outside of the loop. For (2), @tf.function has experimental_relax_shapes=True option that relaxes argument shapes that can avoid unnecessary retracing. For (3), please refer to https://www.tensorflow.org/tutorials/customization/performance#python_or_tensor_args and https://www.tensorflow.org/api_docs/python/tf/function for  more details.\n",
      "WARNING:tensorflow:6 out of the last 11 calls to <function Model.make_predict_function.<locals>.predict_function at 0x00000257D3CB1790> triggered tf.function retracing. Tracing is expensive and the excessive number of tracings could be due to (1) creating @tf.function repeatedly in a loop, (2) passing tensors with different shapes, (3) passing Python objects instead of tensors. For (1), please define your @tf.function outside of the loop. For (2), @tf.function has experimental_relax_shapes=True option that relaxes argument shapes that can avoid unnecessary retracing. For (3), please refer to https://www.tensorflow.org/tutorials/customization/performance#python_or_tensor_args and https://www.tensorflow.org/api_docs/python/tf/function for  more details.\n",
      "WARNING:tensorflow:6 out of the last 11 calls to <function Model.make_predict_function.<locals>.predict_function at 0x00000257CFBC5940> triggered tf.function retracing. Tracing is expensive and the excessive number of tracings could be due to (1) creating @tf.function repeatedly in a loop, (2) passing tensors with different shapes, (3) passing Python objects instead of tensors. For (1), please define your @tf.function outside of the loop. For (2), @tf.function has experimental_relax_shapes=True option that relaxes argument shapes that can avoid unnecessary retracing. For (3), please refer to https://www.tensorflow.org/tutorials/customization/performance#python_or_tensor_args and https://www.tensorflow.org/api_docs/python/tf/function for  more details.\n",
      "WARNING:tensorflow:6 out of the last 11 calls to <function Model.make_predict_function.<locals>.predict_function at 0x00000257D1589160> triggered tf.function retracing. Tracing is expensive and the excessive number of tracings could be due to (1) creating @tf.function repeatedly in a loop, (2) passing tensors with different shapes, (3) passing Python objects instead of tensors. For (1), please define your @tf.function outside of the loop. For (2), @tf.function has experimental_relax_shapes=True option that relaxes argument shapes that can avoid unnecessary retracing. For (3), please refer to https://www.tensorflow.org/tutorials/customization/performance#python_or_tensor_args and https://www.tensorflow.org/api_docs/python/tf/function for  more details.\n",
      "WARNING:tensorflow:6 out of the last 11 calls to <function Model.make_predict_function.<locals>.predict_function at 0x00000257D3DFEEE0> triggered tf.function retracing. Tracing is expensive and the excessive number of tracings could be due to (1) creating @tf.function repeatedly in a loop, (2) passing tensors with different shapes, (3) passing Python objects instead of tensors. For (1), please define your @tf.function outside of the loop. For (2), @tf.function has experimental_relax_shapes=True option that relaxes argument shapes that can avoid unnecessary retracing. For (3), please refer to https://www.tensorflow.org/tutorials/customization/performance#python_or_tensor_args and https://www.tensorflow.org/api_docs/python/tf/function for  more details.\n",
      "WARNING:tensorflow:6 out of the last 11 calls to <function Model.make_predict_function.<locals>.predict_function at 0x00000257D1589280> triggered tf.function retracing. Tracing is expensive and the excessive number of tracings could be due to (1) creating @tf.function repeatedly in a loop, (2) passing tensors with different shapes, (3) passing Python objects instead of tensors. For (1), please define your @tf.function outside of the loop. For (2), @tf.function has experimental_relax_shapes=True option that relaxes argument shapes that can avoid unnecessary retracing. For (3), please refer to https://www.tensorflow.org/tutorials/customization/performance#python_or_tensor_args and https://www.tensorflow.org/api_docs/python/tf/function for  more details.\n",
      "WARNING:tensorflow:6 out of the last 11 calls to <function Model.make_test_function.<locals>.test_function at 0x00000257CFBC5940> triggered tf.function retracing. Tracing is expensive and the excessive number of tracings could be due to (1) creating @tf.function repeatedly in a loop, (2) passing tensors with different shapes, (3) passing Python objects instead of tensors. For (1), please define your @tf.function outside of the loop. For (2), @tf.function has experimental_relax_shapes=True option that relaxes argument shapes that can avoid unnecessary retracing. For (3), please refer to https://www.tensorflow.org/tutorials/customization/performance#python_or_tensor_args and https://www.tensorflow.org/api_docs/python/tf/function for  more details.\n",
      "WARNING:tensorflow:6 out of the last 11 calls to <function Model.make_predict_function.<locals>.predict_function at 0x00000257D135C550> triggered tf.function retracing. Tracing is expensive and the excessive number of tracings could be due to (1) creating @tf.function repeatedly in a loop, (2) passing tensors with different shapes, (3) passing Python objects instead of tensors. For (1), please define your @tf.function outside of the loop. For (2), @tf.function has experimental_relax_shapes=True option that relaxes argument shapes that can avoid unnecessary retracing. For (3), please refer to https://www.tensorflow.org/tutorials/customization/performance#python_or_tensor_args and https://www.tensorflow.org/api_docs/python/tf/function for  more details.\n",
      "WARNING:tensorflow:6 out of the last 11 calls to <function Model.make_predict_function.<locals>.predict_function at 0x00000257D671D040> triggered tf.function retracing. Tracing is expensive and the excessive number of tracings could be due to (1) creating @tf.function repeatedly in a loop, (2) passing tensors with different shapes, (3) passing Python objects instead of tensors. For (1), please define your @tf.function outside of the loop. For (2), @tf.function has experimental_relax_shapes=True option that relaxes argument shapes that can avoid unnecessary retracing. For (3), please refer to https://www.tensorflow.org/tutorials/customization/performance#python_or_tensor_args and https://www.tensorflow.org/api_docs/python/tf/function for  more details.\n",
      "WARNING:tensorflow:6 out of the last 11 calls to <function Model.make_predict_function.<locals>.predict_function at 0x00000257D5158D30> triggered tf.function retracing. Tracing is expensive and the excessive number of tracings could be due to (1) creating @tf.function repeatedly in a loop, (2) passing tensors with different shapes, (3) passing Python objects instead of tensors. For (1), please define your @tf.function outside of the loop. For (2), @tf.function has experimental_relax_shapes=True option that relaxes argument shapes that can avoid unnecessary retracing. For (3), please refer to https://www.tensorflow.org/tutorials/customization/performance#python_or_tensor_args and https://www.tensorflow.org/api_docs/python/tf/function for  more details.\n",
      "WARNING:tensorflow:6 out of the last 11 calls to <function Model.make_predict_function.<locals>.predict_function at 0x00000257D135C8B0> triggered tf.function retracing. Tracing is expensive and the excessive number of tracings could be due to (1) creating @tf.function repeatedly in a loop, (2) passing tensors with different shapes, (3) passing Python objects instead of tensors. For (1), please define your @tf.function outside of the loop. For (2), @tf.function has experimental_relax_shapes=True option that relaxes argument shapes that can avoid unnecessary retracing. For (3), please refer to https://www.tensorflow.org/tutorials/customization/performance#python_or_tensor_args and https://www.tensorflow.org/api_docs/python/tf/function for  more details.\n",
      "WARNING:tensorflow:6 out of the last 11 calls to <function Model.make_predict_function.<locals>.predict_function at 0x00000257D3CB1CA0> triggered tf.function retracing. Tracing is expensive and the excessive number of tracings could be due to (1) creating @tf.function repeatedly in a loop, (2) passing tensors with different shapes, (3) passing Python objects instead of tensors. For (1), please define your @tf.function outside of the loop. For (2), @tf.function has experimental_relax_shapes=True option that relaxes argument shapes that can avoid unnecessary retracing. For (3), please refer to https://www.tensorflow.org/tutorials/customization/performance#python_or_tensor_args and https://www.tensorflow.org/api_docs/python/tf/function for  more details.\n",
      "WARNING:tensorflow:6 out of the last 11 calls to <function Model.make_test_function.<locals>.test_function at 0x00000257D12A9670> triggered tf.function retracing. Tracing is expensive and the excessive number of tracings could be due to (1) creating @tf.function repeatedly in a loop, (2) passing tensors with different shapes, (3) passing Python objects instead of tensors. For (1), please define your @tf.function outside of the loop. For (2), @tf.function has experimental_relax_shapes=True option that relaxes argument shapes that can avoid unnecessary retracing. For (3), please refer to https://www.tensorflow.org/tutorials/customization/performance#python_or_tensor_args and https://www.tensorflow.org/api_docs/python/tf/function for  more details.\n",
      "WARNING:tensorflow:6 out of the last 11 calls to <function Model.make_predict_function.<locals>.predict_function at 0x00000257D1541700> triggered tf.function retracing. Tracing is expensive and the excessive number of tracings could be due to (1) creating @tf.function repeatedly in a loop, (2) passing tensors with different shapes, (3) passing Python objects instead of tensors. For (1), please define your @tf.function outside of the loop. For (2), @tf.function has experimental_relax_shapes=True option that relaxes argument shapes that can avoid unnecessary retracing. For (3), please refer to https://www.tensorflow.org/tutorials/customization/performance#python_or_tensor_args and https://www.tensorflow.org/api_docs/python/tf/function for  more details.\n",
      "WARNING:tensorflow:6 out of the last 11 calls to <function Model.make_predict_function.<locals>.predict_function at 0x00000257CFBC5B80> triggered tf.function retracing. Tracing is expensive and the excessive number of tracings could be due to (1) creating @tf.function repeatedly in a loop, (2) passing tensors with different shapes, (3) passing Python objects instead of tensors. For (1), please define your @tf.function outside of the loop. For (2), @tf.function has experimental_relax_shapes=True option that relaxes argument shapes that can avoid unnecessary retracing. For (3), please refer to https://www.tensorflow.org/tutorials/customization/performance#python_or_tensor_args and https://www.tensorflow.org/api_docs/python/tf/function for  more details.\n",
      "WARNING:tensorflow:6 out of the last 11 calls to <function Model.make_predict_function.<locals>.predict_function at 0x00000257CFC29E50> triggered tf.function retracing. Tracing is expensive and the excessive number of tracings could be due to (1) creating @tf.function repeatedly in a loop, (2) passing tensors with different shapes, (3) passing Python objects instead of tensors. For (1), please define your @tf.function outside of the loop. For (2), @tf.function has experimental_relax_shapes=True option that relaxes argument shapes that can avoid unnecessary retracing. For (3), please refer to https://www.tensorflow.org/tutorials/customization/performance#python_or_tensor_args and https://www.tensorflow.org/api_docs/python/tf/function for  more details.\n",
      "WARNING:tensorflow:6 out of the last 11 calls to <function Model.make_predict_function.<locals>.predict_function at 0x00000257D3DFE9D0> triggered tf.function retracing. Tracing is expensive and the excessive number of tracings could be due to (1) creating @tf.function repeatedly in a loop, (2) passing tensors with different shapes, (3) passing Python objects instead of tensors. For (1), please define your @tf.function outside of the loop. For (2), @tf.function has experimental_relax_shapes=True option that relaxes argument shapes that can avoid unnecessary retracing. For (3), please refer to https://www.tensorflow.org/tutorials/customization/performance#python_or_tensor_args and https://www.tensorflow.org/api_docs/python/tf/function for  more details.\n",
      "WARNING:tensorflow:6 out of the last 11 calls to <function Model.make_predict_function.<locals>.predict_function at 0x00000257D51D7700> triggered tf.function retracing. Tracing is expensive and the excessive number of tracings could be due to (1) creating @tf.function repeatedly in a loop, (2) passing tensors with different shapes, (3) passing Python objects instead of tensors. For (1), please define your @tf.function outside of the loop. For (2), @tf.function has experimental_relax_shapes=True option that relaxes argument shapes that can avoid unnecessary retracing. For (3), please refer to https://www.tensorflow.org/tutorials/customization/performance#python_or_tensor_args and https://www.tensorflow.org/api_docs/python/tf/function for  more details.\n",
      "WARNING:tensorflow:6 out of the last 11 calls to <function Model.make_test_function.<locals>.test_function at 0x00000257D5158940> triggered tf.function retracing. Tracing is expensive and the excessive number of tracings could be due to (1) creating @tf.function repeatedly in a loop, (2) passing tensors with different shapes, (3) passing Python objects instead of tensors. For (1), please define your @tf.function outside of the loop. For (2), @tf.function has experimental_relax_shapes=True option that relaxes argument shapes that can avoid unnecessary retracing. For (3), please refer to https://www.tensorflow.org/tutorials/customization/performance#python_or_tensor_args and https://www.tensorflow.org/api_docs/python/tf/function for  more details.\n"
     ]
    }
   ],
   "source": [
    "metricas = []\n",
    "for lr_i in lr:\n",
    "    rmsprop = RMSprop(lr= lr_i)\n",
    "    metricas.append(regression_model([32, 32], 9, 5, 200, verbose_=0, seed_=1, optimizer_=rmsprop, metrics_=['mae'], activation_='relu' ))"
   ]
  },
  {
   "cell_type": "code",
   "execution_count": 44,
   "id": "e754bb75",
   "metadata": {},
   "outputs": [
    {
     "data": {
      "text/plain": [
       "[(3.222461223602295, 0.9445854425430298, 0.24015221056219804),\n",
       " (1.0601695775985718, 0.7264225482940674, 0.7500148251876033),\n",
       " (1.4421206712722778, 0.7452108860015869, 0.6599517308206171),\n",
       " (1.5500553846359253, 0.9527155756950378, 0.6345010312878121)]"
      ]
     },
     "execution_count": 44,
     "metadata": {},
     "output_type": "execute_result"
    }
   ],
   "source": [
    "metricas"
   ]
  },
  {
   "cell_type": "markdown",
   "id": "2b3cbfa1",
   "metadata": {},
   "source": [
    "### SGD con varios valores de learning rate"
   ]
  },
  {
   "cell_type": "code",
   "execution_count": 45,
   "id": "4f2260f3",
   "metadata": {
    "collapsed": true,
    "jupyter": {
     "outputs_hidden": true
    },
    "tags": []
   },
   "outputs": [
    {
     "name": "stdout",
     "output_type": "stream",
     "text": [
      "WARNING:tensorflow:6 out of the last 11 calls to <function Model.make_predict_function.<locals>.predict_function at 0x00000257CFC294C0> triggered tf.function retracing. Tracing is expensive and the excessive number of tracings could be due to (1) creating @tf.function repeatedly in a loop, (2) passing tensors with different shapes, (3) passing Python objects instead of tensors. For (1), please define your @tf.function outside of the loop. For (2), @tf.function has experimental_relax_shapes=True option that relaxes argument shapes that can avoid unnecessary retracing. For (3), please refer to https://www.tensorflow.org/tutorials/customization/performance#python_or_tensor_args and https://www.tensorflow.org/api_docs/python/tf/function for  more details.\n",
      "WARNING:tensorflow:6 out of the last 11 calls to <function Model.make_predict_function.<locals>.predict_function at 0x00000257D671DE50> triggered tf.function retracing. Tracing is expensive and the excessive number of tracings could be due to (1) creating @tf.function repeatedly in a loop, (2) passing tensors with different shapes, (3) passing Python objects instead of tensors. For (1), please define your @tf.function outside of the loop. For (2), @tf.function has experimental_relax_shapes=True option that relaxes argument shapes that can avoid unnecessary retracing. For (3), please refer to https://www.tensorflow.org/tutorials/customization/performance#python_or_tensor_args and https://www.tensorflow.org/api_docs/python/tf/function for  more details.\n",
      "WARNING:tensorflow:6 out of the last 11 calls to <function Model.make_predict_function.<locals>.predict_function at 0x00000257CFBC5EE0> triggered tf.function retracing. Tracing is expensive and the excessive number of tracings could be due to (1) creating @tf.function repeatedly in a loop, (2) passing tensors with different shapes, (3) passing Python objects instead of tensors. For (1), please define your @tf.function outside of the loop. For (2), @tf.function has experimental_relax_shapes=True option that relaxes argument shapes that can avoid unnecessary retracing. For (3), please refer to https://www.tensorflow.org/tutorials/customization/performance#python_or_tensor_args and https://www.tensorflow.org/api_docs/python/tf/function for  more details.\n",
      "WARNING:tensorflow:6 out of the last 11 calls to <function Model.make_predict_function.<locals>.predict_function at 0x00000257D51D7820> triggered tf.function retracing. Tracing is expensive and the excessive number of tracings could be due to (1) creating @tf.function repeatedly in a loop, (2) passing tensors with different shapes, (3) passing Python objects instead of tensors. For (1), please define your @tf.function outside of the loop. For (2), @tf.function has experimental_relax_shapes=True option that relaxes argument shapes that can avoid unnecessary retracing. For (3), please refer to https://www.tensorflow.org/tutorials/customization/performance#python_or_tensor_args and https://www.tensorflow.org/api_docs/python/tf/function for  more details.\n",
      "WARNING:tensorflow:6 out of the last 11 calls to <function Model.make_predict_function.<locals>.predict_function at 0x00000257D29BD040> triggered tf.function retracing. Tracing is expensive and the excessive number of tracings could be due to (1) creating @tf.function repeatedly in a loop, (2) passing tensors with different shapes, (3) passing Python objects instead of tensors. For (1), please define your @tf.function outside of the loop. For (2), @tf.function has experimental_relax_shapes=True option that relaxes argument shapes that can avoid unnecessary retracing. For (3), please refer to https://www.tensorflow.org/tutorials/customization/performance#python_or_tensor_args and https://www.tensorflow.org/api_docs/python/tf/function for  more details.\n",
      "WARNING:tensorflow:6 out of the last 11 calls to <function Model.make_test_function.<locals>.test_function at 0x00000257D29BDEE0> triggered tf.function retracing. Tracing is expensive and the excessive number of tracings could be due to (1) creating @tf.function repeatedly in a loop, (2) passing tensors with different shapes, (3) passing Python objects instead of tensors. For (1), please define your @tf.function outside of the loop. For (2), @tf.function has experimental_relax_shapes=True option that relaxes argument shapes that can avoid unnecessary retracing. For (3), please refer to https://www.tensorflow.org/tutorials/customization/performance#python_or_tensor_args and https://www.tensorflow.org/api_docs/python/tf/function for  more details.\n",
      "WARNING:tensorflow:6 out of the last 11 calls to <function Model.make_predict_function.<locals>.predict_function at 0x00000257D51589D0> triggered tf.function retracing. Tracing is expensive and the excessive number of tracings could be due to (1) creating @tf.function repeatedly in a loop, (2) passing tensors with different shapes, (3) passing Python objects instead of tensors. For (1), please define your @tf.function outside of the loop. For (2), @tf.function has experimental_relax_shapes=True option that relaxes argument shapes that can avoid unnecessary retracing. For (3), please refer to https://www.tensorflow.org/tutorials/customization/performance#python_or_tensor_args and https://www.tensorflow.org/api_docs/python/tf/function for  more details.\n",
      "WARNING:tensorflow:6 out of the last 11 calls to <function Model.make_predict_function.<locals>.predict_function at 0x00000257D135C550> triggered tf.function retracing. Tracing is expensive and the excessive number of tracings could be due to (1) creating @tf.function repeatedly in a loop, (2) passing tensors with different shapes, (3) passing Python objects instead of tensors. For (1), please define your @tf.function outside of the loop. For (2), @tf.function has experimental_relax_shapes=True option that relaxes argument shapes that can avoid unnecessary retracing. For (3), please refer to https://www.tensorflow.org/tutorials/customization/performance#python_or_tensor_args and https://www.tensorflow.org/api_docs/python/tf/function for  more details.\n",
      "WARNING:tensorflow:6 out of the last 11 calls to <function Model.make_predict_function.<locals>.predict_function at 0x00000257CFBC5A60> triggered tf.function retracing. Tracing is expensive and the excessive number of tracings could be due to (1) creating @tf.function repeatedly in a loop, (2) passing tensors with different shapes, (3) passing Python objects instead of tensors. For (1), please define your @tf.function outside of the loop. For (2), @tf.function has experimental_relax_shapes=True option that relaxes argument shapes that can avoid unnecessary retracing. For (3), please refer to https://www.tensorflow.org/tutorials/customization/performance#python_or_tensor_args and https://www.tensorflow.org/api_docs/python/tf/function for  more details.\n",
      "WARNING:tensorflow:6 out of the last 11 calls to <function Model.make_predict_function.<locals>.predict_function at 0x00000257D671D820> triggered tf.function retracing. Tracing is expensive and the excessive number of tracings could be due to (1) creating @tf.function repeatedly in a loop, (2) passing tensors with different shapes, (3) passing Python objects instead of tensors. For (1), please define your @tf.function outside of the loop. For (2), @tf.function has experimental_relax_shapes=True option that relaxes argument shapes that can avoid unnecessary retracing. For (3), please refer to https://www.tensorflow.org/tutorials/customization/performance#python_or_tensor_args and https://www.tensorflow.org/api_docs/python/tf/function for  more details.\n",
      "WARNING:tensorflow:6 out of the last 11 calls to <function Model.make_predict_function.<locals>.predict_function at 0x00000257D1589790> triggered tf.function retracing. Tracing is expensive and the excessive number of tracings could be due to (1) creating @tf.function repeatedly in a loop, (2) passing tensors with different shapes, (3) passing Python objects instead of tensors. For (1), please define your @tf.function outside of the loop. For (2), @tf.function has experimental_relax_shapes=True option that relaxes argument shapes that can avoid unnecessary retracing. For (3), please refer to https://www.tensorflow.org/tutorials/customization/performance#python_or_tensor_args and https://www.tensorflow.org/api_docs/python/tf/function for  more details.\n",
      "WARNING:tensorflow:6 out of the last 11 calls to <function Model.make_test_function.<locals>.test_function at 0x00000257D3CB1040> triggered tf.function retracing. Tracing is expensive and the excessive number of tracings could be due to (1) creating @tf.function repeatedly in a loop, (2) passing tensors with different shapes, (3) passing Python objects instead of tensors. For (1), please define your @tf.function outside of the loop. For (2), @tf.function has experimental_relax_shapes=True option that relaxes argument shapes that can avoid unnecessary retracing. For (3), please refer to https://www.tensorflow.org/tutorials/customization/performance#python_or_tensor_args and https://www.tensorflow.org/api_docs/python/tf/function for  more details.\n",
      "WARNING:tensorflow:6 out of the last 11 calls to <function Model.make_predict_function.<locals>.predict_function at 0x00000257D50F73A0> triggered tf.function retracing. Tracing is expensive and the excessive number of tracings could be due to (1) creating @tf.function repeatedly in a loop, (2) passing tensors with different shapes, (3) passing Python objects instead of tensors. For (1), please define your @tf.function outside of the loop. For (2), @tf.function has experimental_relax_shapes=True option that relaxes argument shapes that can avoid unnecessary retracing. For (3), please refer to https://www.tensorflow.org/tutorials/customization/performance#python_or_tensor_args and https://www.tensorflow.org/api_docs/python/tf/function for  more details.\n",
      "WARNING:tensorflow:6 out of the last 11 calls to <function Model.make_predict_function.<locals>.predict_function at 0x00000257D3CB11F0> triggered tf.function retracing. Tracing is expensive and the excessive number of tracings could be due to (1) creating @tf.function repeatedly in a loop, (2) passing tensors with different shapes, (3) passing Python objects instead of tensors. For (1), please define your @tf.function outside of the loop. For (2), @tf.function has experimental_relax_shapes=True option that relaxes argument shapes that can avoid unnecessary retracing. For (3), please refer to https://www.tensorflow.org/tutorials/customization/performance#python_or_tensor_args and https://www.tensorflow.org/api_docs/python/tf/function for  more details.\n",
      "WARNING:tensorflow:6 out of the last 11 calls to <function Model.make_predict_function.<locals>.predict_function at 0x00000257D671DEE0> triggered tf.function retracing. Tracing is expensive and the excessive number of tracings could be due to (1) creating @tf.function repeatedly in a loop, (2) passing tensors with different shapes, (3) passing Python objects instead of tensors. For (1), please define your @tf.function outside of the loop. For (2), @tf.function has experimental_relax_shapes=True option that relaxes argument shapes that can avoid unnecessary retracing. For (3), please refer to https://www.tensorflow.org/tutorials/customization/performance#python_or_tensor_args and https://www.tensorflow.org/api_docs/python/tf/function for  more details.\n",
      "WARNING:tensorflow:6 out of the last 11 calls to <function Model.make_predict_function.<locals>.predict_function at 0x00000257D135CCA0> triggered tf.function retracing. Tracing is expensive and the excessive number of tracings could be due to (1) creating @tf.function repeatedly in a loop, (2) passing tensors with different shapes, (3) passing Python objects instead of tensors. For (1), please define your @tf.function outside of the loop. For (2), @tf.function has experimental_relax_shapes=True option that relaxes argument shapes that can avoid unnecessary retracing. For (3), please refer to https://www.tensorflow.org/tutorials/customization/performance#python_or_tensor_args and https://www.tensorflow.org/api_docs/python/tf/function for  more details.\n",
      "WARNING:tensorflow:6 out of the last 11 calls to <function Model.make_predict_function.<locals>.predict_function at 0x00000257D12A9820> triggered tf.function retracing. Tracing is expensive and the excessive number of tracings could be due to (1) creating @tf.function repeatedly in a loop, (2) passing tensors with different shapes, (3) passing Python objects instead of tensors. For (1), please define your @tf.function outside of the loop. For (2), @tf.function has experimental_relax_shapes=True option that relaxes argument shapes that can avoid unnecessary retracing. For (3), please refer to https://www.tensorflow.org/tutorials/customization/performance#python_or_tensor_args and https://www.tensorflow.org/api_docs/python/tf/function for  more details.\n",
      "WARNING:tensorflow:6 out of the last 11 calls to <function Model.make_test_function.<locals>.test_function at 0x00000257D1541160> triggered tf.function retracing. Tracing is expensive and the excessive number of tracings could be due to (1) creating @tf.function repeatedly in a loop, (2) passing tensors with different shapes, (3) passing Python objects instead of tensors. For (1), please define your @tf.function outside of the loop. For (2), @tf.function has experimental_relax_shapes=True option that relaxes argument shapes that can avoid unnecessary retracing. For (3), please refer to https://www.tensorflow.org/tutorials/customization/performance#python_or_tensor_args and https://www.tensorflow.org/api_docs/python/tf/function for  more details.\n",
      "WARNING:tensorflow:6 out of the last 11 calls to <function Model.make_predict_function.<locals>.predict_function at 0x00000257CFBC5C10> triggered tf.function retracing. Tracing is expensive and the excessive number of tracings could be due to (1) creating @tf.function repeatedly in a loop, (2) passing tensors with different shapes, (3) passing Python objects instead of tensors. For (1), please define your @tf.function outside of the loop. For (2), @tf.function has experimental_relax_shapes=True option that relaxes argument shapes that can avoid unnecessary retracing. For (3), please refer to https://www.tensorflow.org/tutorials/customization/performance#python_or_tensor_args and https://www.tensorflow.org/api_docs/python/tf/function for  more details.\n",
      "WARNING:tensorflow:6 out of the last 11 calls to <function Model.make_predict_function.<locals>.predict_function at 0x00000257D7AFAEE0> triggered tf.function retracing. Tracing is expensive and the excessive number of tracings could be due to (1) creating @tf.function repeatedly in a loop, (2) passing tensors with different shapes, (3) passing Python objects instead of tensors. For (1), please define your @tf.function outside of the loop. For (2), @tf.function has experimental_relax_shapes=True option that relaxes argument shapes that can avoid unnecessary retracing. For (3), please refer to https://www.tensorflow.org/tutorials/customization/performance#python_or_tensor_args and https://www.tensorflow.org/api_docs/python/tf/function for  more details.\n",
      "WARNING:tensorflow:6 out of the last 11 calls to <function Model.make_predict_function.<locals>.predict_function at 0x00000257D15414C0> triggered tf.function retracing. Tracing is expensive and the excessive number of tracings could be due to (1) creating @tf.function repeatedly in a loop, (2) passing tensors with different shapes, (3) passing Python objects instead of tensors. For (1), please define your @tf.function outside of the loop. For (2), @tf.function has experimental_relax_shapes=True option that relaxes argument shapes that can avoid unnecessary retracing. For (3), please refer to https://www.tensorflow.org/tutorials/customization/performance#python_or_tensor_args and https://www.tensorflow.org/api_docs/python/tf/function for  more details.\n",
      "WARNING:tensorflow:6 out of the last 11 calls to <function Model.make_predict_function.<locals>.predict_function at 0x00000257CFBC51F0> triggered tf.function retracing. Tracing is expensive and the excessive number of tracings could be due to (1) creating @tf.function repeatedly in a loop, (2) passing tensors with different shapes, (3) passing Python objects instead of tensors. For (1), please define your @tf.function outside of the loop. For (2), @tf.function has experimental_relax_shapes=True option that relaxes argument shapes that can avoid unnecessary retracing. For (3), please refer to https://www.tensorflow.org/tutorials/customization/performance#python_or_tensor_args and https://www.tensorflow.org/api_docs/python/tf/function for  more details.\n",
      "WARNING:tensorflow:6 out of the last 11 calls to <function Model.make_predict_function.<locals>.predict_function at 0x00000257D12A9700> triggered tf.function retracing. Tracing is expensive and the excessive number of tracings could be due to (1) creating @tf.function repeatedly in a loop, (2) passing tensors with different shapes, (3) passing Python objects instead of tensors. For (1), please define your @tf.function outside of the loop. For (2), @tf.function has experimental_relax_shapes=True option that relaxes argument shapes that can avoid unnecessary retracing. For (3), please refer to https://www.tensorflow.org/tutorials/customization/performance#python_or_tensor_args and https://www.tensorflow.org/api_docs/python/tf/function for  more details.\n",
      "WARNING:tensorflow:6 out of the last 11 calls to <function Model.make_test_function.<locals>.test_function at 0x00000257D12A9790> triggered tf.function retracing. Tracing is expensive and the excessive number of tracings could be due to (1) creating @tf.function repeatedly in a loop, (2) passing tensors with different shapes, (3) passing Python objects instead of tensors. For (1), please define your @tf.function outside of the loop. For (2), @tf.function has experimental_relax_shapes=True option that relaxes argument shapes that can avoid unnecessary retracing. For (3), please refer to https://www.tensorflow.org/tutorials/customization/performance#python_or_tensor_args and https://www.tensorflow.org/api_docs/python/tf/function for  more details.\n"
     ]
    }
   ],
   "source": [
    "metricas2 = []\n",
    "for lr_i in lr:\n",
    "    sgd = SGD(lr= lr_i)\n",
    "    metricas2.append(regression_model([32, 32], 9, 5, 40, verbose_=0, seed_=1, optimizer_=sgd, metrics_=['mae'], activation_='relu' ))"
   ]
  },
  {
   "cell_type": "code",
   "execution_count": 46,
   "id": "3c9fb77d",
   "metadata": {},
   "outputs": [
    {
     "data": {
      "text/plain": [
       "[(2.210137128829956, 0.9572741985321045, 0.4788555325797056),\n",
       " (1.6006039381027222, 0.9083406329154968, 0.6225818288659197),\n",
       " (2.280722141265869, 1.063818335533142, 0.4622117440772856),\n",
       " (9.183472633361816, 2.242046594619751, -1.1654386401245453)]"
      ]
     },
     "execution_count": 46,
     "metadata": {},
     "output_type": "execute_result"
    }
   ],
   "source": [
    "metricas2"
   ]
  },
  {
   "cell_type": "code",
   "execution_count": 47,
   "id": "46c35351",
   "metadata": {},
   "outputs": [],
   "source": [
    "np.concatenate([lr, lr])\n",
    "methods = np.concatenate( [[\"RMSProp\"]*4, ['SGD']*4])"
   ]
  },
  {
   "cell_type": "code",
   "execution_count": 48,
   "id": "0e080b46",
   "metadata": {},
   "outputs": [
    {
     "name": "stdout",
     "output_type": "stream",
     "text": [
      "   index      lr Optimizer  index       mse       mae        R2\n",
      "0      0  0.1000   RMSProp      0  3.222461  0.944585  0.240152\n",
      "1      1  0.0100   RMSProp      1  1.060170  0.726423  0.750015\n",
      "2      2  0.0010   RMSProp      2  1.442121  0.745211  0.659952\n",
      "3      3  0.0001   RMSProp      3  1.550055  0.952716  0.634501\n",
      "4      4  0.1000       SGD      0  2.210137  0.957274  0.478856\n",
      "5      5  0.0100       SGD      1  1.600604  0.908341  0.622582\n",
      "6      6  0.0010       SGD      2  2.280722  1.063818  0.462212\n",
      "7      7  0.0001       SGD      3  9.183473  2.242047 -1.165439\n"
     ]
    }
   ],
   "source": [
    "df_aux1 = pd.DataFrame(metricas, columns=['mse', 'mae', 'R2'])\n",
    "df_aux2 = pd.DataFrame(metricas2, columns=['mse', 'mae', 'R2'])\n",
    "data = {'lr': np.concatenate([lr,lr]),\n",
    "        'Optimizer': methods\n",
    "        }\n",
    "df_aux3 = pd.DataFrame(data, columns=['lr', 'Optimizer'])\n",
    "df_aux4 = pd.concat([df_aux1, df_aux2], axis=0)\n",
    "\n",
    "df_optimizers = pd.concat([df_aux3.reset_index(), df_aux4.reset_index()], axis=1, sort=False)\n",
    "print(df_optimizers)"
   ]
  },
  {
   "cell_type": "markdown",
   "id": "ca86235c",
   "metadata": {},
   "source": [
    "Vemos que en el caso del optimizador RMSProp, el valor 0.001 proporciona el mejor resultado, aunque es muy parecido al obtenido con 0.0001. En cambio, para SGD, el valor óptimo es 0.01."
   ]
  },
  {
   "cell_type": "markdown",
   "id": "caf5ba20",
   "metadata": {},
   "source": [
    "### Conclusiones\n",
    "\n",
    "En este caso, mediante regresión, hemos obtenido un modelo de dos capas ocultas con 64 unidades ocultas que ofrece un $R^2$ de 0.826270, $mse$  0.736776 y $mae$ 0.6485390. Dado el tamaño de nuestro dataset, 214 muestras, tiene sentido que no sean necesarios modelos más grandes para ofrecer un desempeño *decente*. No conseguimos valores superiores al obtenido. De los clasificadores probados, los parámetros por defecto del optimizador *RMSProp* ofrecen mejores resultados que variaciones en el *learning rate* del mismo y del optimizador descenso por gradiente estocástico."
   ]
  },
  {
   "cell_type": "markdown",
   "id": "a46c380b",
   "metadata": {},
   "source": [
    "# Clasificación del riesgo de abandono de los clientes de un banco"
   ]
  },
  {
   "cell_type": "code",
   "execution_count": 61,
   "id": "0212915e",
   "metadata": {},
   "outputs": [],
   "source": [
    "import numpy as np"
   ]
  },
  {
   "cell_type": "code",
   "execution_count": 62,
   "id": "053752f6",
   "metadata": {},
   "outputs": [],
   "source": [
    "import matplotlib.pyplot as plt"
   ]
  },
  {
   "cell_type": "code",
   "execution_count": 63,
   "id": "3dd9319d",
   "metadata": {},
   "outputs": [],
   "source": [
    "import pandas as pd"
   ]
  },
  {
   "cell_type": "code",
   "execution_count": 64,
   "id": "5b5492e9",
   "metadata": {},
   "outputs": [],
   "source": [
    "dataset = pd.read_csv(\"Churn_Modelling.csv\")"
   ]
  },
  {
   "cell_type": "code",
   "execution_count": 65,
   "id": "de618f1a",
   "metadata": {},
   "outputs": [
    {
     "data": {
      "text/html": [
       "<div>\n",
       "<style scoped>\n",
       "    .dataframe tbody tr th:only-of-type {\n",
       "        vertical-align: middle;\n",
       "    }\n",
       "\n",
       "    .dataframe tbody tr th {\n",
       "        vertical-align: top;\n",
       "    }\n",
       "\n",
       "    .dataframe thead th {\n",
       "        text-align: right;\n",
       "    }\n",
       "</style>\n",
       "<table border=\"1\" class=\"dataframe\">\n",
       "  <thead>\n",
       "    <tr style=\"text-align: right;\">\n",
       "      <th></th>\n",
       "      <th>RowNumber</th>\n",
       "      <th>CustomerId</th>\n",
       "      <th>Surname</th>\n",
       "      <th>CreditScore</th>\n",
       "      <th>Geography</th>\n",
       "      <th>Gender</th>\n",
       "      <th>Age</th>\n",
       "      <th>Tenure</th>\n",
       "      <th>Balance</th>\n",
       "      <th>NumOfProducts</th>\n",
       "      <th>HasCrCard</th>\n",
       "      <th>IsActiveMember</th>\n",
       "      <th>EstimatedSalary</th>\n",
       "      <th>Exited</th>\n",
       "    </tr>\n",
       "  </thead>\n",
       "  <tbody>\n",
       "    <tr>\n",
       "      <th>0</th>\n",
       "      <td>1</td>\n",
       "      <td>15634602</td>\n",
       "      <td>Hargrave</td>\n",
       "      <td>619</td>\n",
       "      <td>France</td>\n",
       "      <td>Female</td>\n",
       "      <td>42</td>\n",
       "      <td>2</td>\n",
       "      <td>0.00</td>\n",
       "      <td>1</td>\n",
       "      <td>1</td>\n",
       "      <td>1</td>\n",
       "      <td>101348.88</td>\n",
       "      <td>1</td>\n",
       "    </tr>\n",
       "    <tr>\n",
       "      <th>1</th>\n",
       "      <td>2</td>\n",
       "      <td>15647311</td>\n",
       "      <td>Hill</td>\n",
       "      <td>608</td>\n",
       "      <td>Spain</td>\n",
       "      <td>Female</td>\n",
       "      <td>41</td>\n",
       "      <td>1</td>\n",
       "      <td>83807.86</td>\n",
       "      <td>1</td>\n",
       "      <td>0</td>\n",
       "      <td>1</td>\n",
       "      <td>112542.58</td>\n",
       "      <td>0</td>\n",
       "    </tr>\n",
       "    <tr>\n",
       "      <th>2</th>\n",
       "      <td>3</td>\n",
       "      <td>15619304</td>\n",
       "      <td>Onio</td>\n",
       "      <td>502</td>\n",
       "      <td>France</td>\n",
       "      <td>Female</td>\n",
       "      <td>42</td>\n",
       "      <td>8</td>\n",
       "      <td>159660.80</td>\n",
       "      <td>3</td>\n",
       "      <td>1</td>\n",
       "      <td>0</td>\n",
       "      <td>113931.57</td>\n",
       "      <td>1</td>\n",
       "    </tr>\n",
       "    <tr>\n",
       "      <th>3</th>\n",
       "      <td>4</td>\n",
       "      <td>15701354</td>\n",
       "      <td>Boni</td>\n",
       "      <td>699</td>\n",
       "      <td>France</td>\n",
       "      <td>Female</td>\n",
       "      <td>39</td>\n",
       "      <td>1</td>\n",
       "      <td>0.00</td>\n",
       "      <td>2</td>\n",
       "      <td>0</td>\n",
       "      <td>0</td>\n",
       "      <td>93826.63</td>\n",
       "      <td>0</td>\n",
       "    </tr>\n",
       "    <tr>\n",
       "      <th>4</th>\n",
       "      <td>5</td>\n",
       "      <td>15737888</td>\n",
       "      <td>Mitchell</td>\n",
       "      <td>850</td>\n",
       "      <td>Spain</td>\n",
       "      <td>Female</td>\n",
       "      <td>43</td>\n",
       "      <td>2</td>\n",
       "      <td>125510.82</td>\n",
       "      <td>1</td>\n",
       "      <td>1</td>\n",
       "      <td>1</td>\n",
       "      <td>79084.10</td>\n",
       "      <td>0</td>\n",
       "    </tr>\n",
       "  </tbody>\n",
       "</table>\n",
       "</div>"
      ],
      "text/plain": [
       "   RowNumber  CustomerId   Surname  CreditScore Geography  Gender  Age  \\\n",
       "0          1    15634602  Hargrave          619    France  Female   42   \n",
       "1          2    15647311      Hill          608     Spain  Female   41   \n",
       "2          3    15619304      Onio          502    France  Female   42   \n",
       "3          4    15701354      Boni          699    France  Female   39   \n",
       "4          5    15737888  Mitchell          850     Spain  Female   43   \n",
       "\n",
       "   Tenure    Balance  NumOfProducts  HasCrCard  IsActiveMember  \\\n",
       "0       2       0.00              1          1               1   \n",
       "1       1   83807.86              1          0               1   \n",
       "2       8  159660.80              3          1               0   \n",
       "3       1       0.00              2          0               0   \n",
       "4       2  125510.82              1          1               1   \n",
       "\n",
       "   EstimatedSalary  Exited  \n",
       "0        101348.88       1  \n",
       "1        112542.58       0  \n",
       "2        113931.57       1  \n",
       "3         93826.63       0  \n",
       "4         79084.10       0  "
      ]
     },
     "execution_count": 65,
     "metadata": {},
     "output_type": "execute_result"
    }
   ],
   "source": [
    "dataset.head()"
   ]
  },
  {
   "cell_type": "code",
   "execution_count": 66,
   "id": "77073e6f",
   "metadata": {},
   "outputs": [],
   "source": [
    "X = dataset.iloc[:, 3:13].values"
   ]
  },
  {
   "cell_type": "code",
   "execution_count": 67,
   "id": "177593fd",
   "metadata": {},
   "outputs": [
    {
     "data": {
      "text/plain": [
       "array([[619, 'France', 'Female', 42, 2, 0.0, 1, 1, 1, 101348.88],\n",
       "       [608, 'Spain', 'Female', 41, 1, 83807.86, 1, 0, 1, 112542.58],\n",
       "       [502, 'France', 'Female', 42, 8, 159660.8, 3, 1, 0, 113931.57],\n",
       "       [699, 'France', 'Female', 39, 1, 0.0, 2, 0, 0, 93826.63]],\n",
       "      dtype=object)"
      ]
     },
     "execution_count": 67,
     "metadata": {},
     "output_type": "execute_result"
    }
   ],
   "source": [
    "X[0:4]"
   ]
  },
  {
   "cell_type": "code",
   "execution_count": 68,
   "id": "eeb7ed23",
   "metadata": {},
   "outputs": [],
   "source": [
    "y = dataset.iloc[:, 13].values"
   ]
  },
  {
   "cell_type": "code",
   "execution_count": 69,
   "id": "5c7f22f3",
   "metadata": {},
   "outputs": [],
   "source": [
    "from sklearn.preprocessing import LabelEncoder, OneHotEncoder"
   ]
  },
  {
   "cell_type": "code",
   "execution_count": 70,
   "id": "4074d9af",
   "metadata": {},
   "outputs": [],
   "source": [
    "labelencoder_X_1 = LabelEncoder()"
   ]
  },
  {
   "cell_type": "code",
   "execution_count": 71,
   "id": "2e4b467e",
   "metadata": {},
   "outputs": [],
   "source": [
    "X[:, 1] = labelencoder_X_1.fit_transform(X[:, 1])"
   ]
  },
  {
   "cell_type": "code",
   "execution_count": 72,
   "id": "9ebec85d",
   "metadata": {},
   "outputs": [],
   "source": [
    "labelencoder_X_2 = LabelEncoder()"
   ]
  },
  {
   "cell_type": "code",
   "execution_count": 73,
   "id": "0c630c7b",
   "metadata": {},
   "outputs": [],
   "source": [
    "X[:, 2] = labelencoder_X_2.fit_transform(X[:, 2])"
   ]
  },
  {
   "cell_type": "code",
   "execution_count": 74,
   "id": "2327462c",
   "metadata": {},
   "outputs": [],
   "source": [
    "from sklearn.model_selection import train_test_split"
   ]
  },
  {
   "cell_type": "code",
   "execution_count": 75,
   "id": "35fc78f1",
   "metadata": {},
   "outputs": [],
   "source": [
    "X_train, X_test, y_train, y_test = train_test_split(X, y, test_size=0.2)"
   ]
  },
  {
   "cell_type": "code",
   "execution_count": 76,
   "id": "b7cfb6fb",
   "metadata": {},
   "outputs": [],
   "source": [
    "from sklearn.preprocessing import StandardScaler"
   ]
  },
  {
   "cell_type": "code",
   "execution_count": 77,
   "id": "617f6697",
   "metadata": {},
   "outputs": [],
   "source": [
    "sc = StandardScaler()"
   ]
  },
  {
   "cell_type": "code",
   "execution_count": 79,
   "id": "ed0aaf67",
   "metadata": {},
   "outputs": [],
   "source": [
    "X_train = sc.fit_transform(X_train)"
   ]
  },
  {
   "cell_type": "code",
   "execution_count": 80,
   "id": "3ec52af7",
   "metadata": {},
   "outputs": [],
   "source": [
    "X_test = sc.transform(X_test)"
   ]
  },
  {
   "cell_type": "code",
   "execution_count": 81,
   "id": "70d9c694",
   "metadata": {},
   "outputs": [],
   "source": [
    "import keras"
   ]
  },
  {
   "cell_type": "code",
   "execution_count": 82,
   "id": "eac6f564",
   "metadata": {},
   "outputs": [],
   "source": [
    "from keras.models import Sequential"
   ]
  },
  {
   "cell_type": "code",
   "execution_count": 83,
   "id": "3957ea44",
   "metadata": {},
   "outputs": [],
   "source": [
    "from keras.layers import Dense"
   ]
  },
  {
   "cell_type": "code",
   "execution_count": 84,
   "id": "14f4ba04",
   "metadata": {},
   "outputs": [],
   "source": [
    "classifier = Sequential()"
   ]
  },
  {
   "cell_type": "code",
   "execution_count": 85,
   "id": "c72f789f",
   "metadata": {},
   "outputs": [],
   "source": [
    "classifier.add(Dense(6, activation='relu', input_shape=(10,)))"
   ]
  },
  {
   "cell_type": "code",
   "execution_count": 86,
   "id": "3908cb5d",
   "metadata": {},
   "outputs": [],
   "source": [
    "classifier.add(Dense(6, activation='relu'))"
   ]
  },
  {
   "cell_type": "code",
   "execution_count": 87,
   "id": "66831e72",
   "metadata": {},
   "outputs": [],
   "source": [
    "classifier.add(Dense(1, activation='sigmoid'))"
   ]
  },
  {
   "cell_type": "code",
   "execution_count": 88,
   "id": "813067f3",
   "metadata": {},
   "outputs": [],
   "source": [
    "classifier.compile(optimizer='adam', loss='binary_crossentropy', metrics=['accuracy'])"
   ]
  },
  {
   "cell_type": "code",
   "execution_count": 89,
   "id": "019c615d",
   "metadata": {},
   "outputs": [
    {
     "name": "stdout",
     "output_type": "stream",
     "text": [
      "Epoch 1/100\n",
      "8000/8000 [==============================] - 4s 550us/step - loss: 0.4719 - accuracy: 0.7930\n",
      "Epoch 2/100\n",
      "8000/8000 [==============================] - 4s 553us/step - loss: 0.4280 - accuracy: 0.8124\n",
      "Epoch 3/100\n",
      "8000/8000 [==============================] - 4s 545us/step - loss: 0.4064 - accuracy: 0.8296\n",
      "Epoch 4/100\n",
      "8000/8000 [==============================] - 4s 561us/step - loss: 0.3767 - accuracy: 0.8462\n",
      "Epoch 5/100\n",
      "8000/8000 [==============================] - 5s 610us/step - loss: 0.3638 - accuracy: 0.8544\n",
      "Epoch 6/100\n",
      "8000/8000 [==============================] - 4s 544us/step - loss: 0.3559 - accuracy: 0.8562\n",
      "Epoch 7/100\n",
      "8000/8000 [==============================] - 4s 551us/step - loss: 0.3529 - accuracy: 0.8576\n",
      "Epoch 8/100\n",
      "8000/8000 [==============================] - 5s 566us/step - loss: 0.3500 - accuracy: 0.8585\n",
      "Epoch 9/100\n",
      "8000/8000 [==============================] - 5s 579us/step - loss: 0.3476 - accuracy: 0.8580\n",
      "Epoch 10/100\n",
      "8000/8000 [==============================] - 5s 564us/step - loss: 0.3462 - accuracy: 0.8604\n",
      "Epoch 11/100\n",
      "8000/8000 [==============================] - 5s 584us/step - loss: 0.3471 - accuracy: 0.85850s - loss: 0.3460 - accura\n",
      "Epoch 12/100\n",
      "8000/8000 [==============================] - 5s 578us/step - loss: 0.3459 - accuracy: 0.8596\n",
      "Epoch 13/100\n",
      "8000/8000 [==============================] - 5s 588us/step - loss: 0.3442 - accuracy: 0.86020s\n",
      "Epoch 14/100\n",
      "8000/8000 [==============================] - 4s 553us/step - loss: 0.3438 - accuracy: 0.8600\n",
      "Epoch 15/100\n",
      "8000/8000 [==============================] - 4s 558us/step - loss: 0.3426 - accuracy: 0.8626\n",
      "Epoch 16/100\n",
      "8000/8000 [==============================] - 5s 635us/step - loss: 0.3427 - accuracy: 0.8595\n",
      "Epoch 17/100\n",
      "8000/8000 [==============================] - 5s 603us/step - loss: 0.3427 - accuracy: 0.8614\n",
      "Epoch 18/100\n",
      "8000/8000 [==============================] - 5s 580us/step - loss: 0.3418 - accuracy: 0.8620\n",
      "Epoch 19/100\n",
      "8000/8000 [==============================] - 5s 572us/step - loss: 0.3417 - accuracy: 0.8612\n",
      "Epoch 20/100\n",
      "8000/8000 [==============================] - 5s 609us/step - loss: 0.3401 - accuracy: 0.8621\n",
      "Epoch 21/100\n",
      "8000/8000 [==============================] - 4s 555us/step - loss: 0.3411 - accuracy: 0.8612\n",
      "Epoch 22/100\n",
      "8000/8000 [==============================] - 5s 600us/step - loss: 0.3400 - accuracy: 0.8606\n",
      "Epoch 23/100\n",
      "8000/8000 [==============================] - 5s 591us/step - loss: 0.3403 - accuracy: 0.8606\n",
      "Epoch 24/100\n",
      "8000/8000 [==============================] - 4s 562us/step - loss: 0.3397 - accuracy: 0.8612\n",
      "Epoch 25/100\n",
      "8000/8000 [==============================] - 5s 563us/step - loss: 0.3398 - accuracy: 0.8624\n",
      "Epoch 26/100\n",
      "8000/8000 [==============================] - 4s 541us/step - loss: 0.3394 - accuracy: 0.8602\n",
      "Epoch 27/100\n",
      "8000/8000 [==============================] - 4s 540us/step - loss: 0.3389 - accuracy: 0.8606\n",
      "Epoch 28/100\n",
      "8000/8000 [==============================] - 5s 572us/step - loss: 0.3384 - accuracy: 0.8610\n",
      "Epoch 29/100\n",
      "8000/8000 [==============================] - 5s 564us/step - loss: 0.3380 - accuracy: 0.8618\n",
      "Epoch 30/100\n",
      "8000/8000 [==============================] - 5s 594us/step - loss: 0.3382 - accuracy: 0.8634\n",
      "Epoch 31/100\n",
      "8000/8000 [==============================] - 5s 663us/step - loss: 0.3379 - accuracy: 0.8622\n",
      "Epoch 32/100\n",
      "8000/8000 [==============================] - 5s 597us/step - loss: 0.3376 - accuracy: 0.8609\n",
      "Epoch 33/100\n",
      "8000/8000 [==============================] - 5s 680us/step - loss: 0.3372 - accuracy: 0.8630\n",
      "Epoch 34/100\n",
      "8000/8000 [==============================] - 5s 597us/step - loss: 0.3379 - accuracy: 0.8616\n",
      "Epoch 35/100\n",
      "8000/8000 [==============================] - 6s 767us/step - loss: 0.3372 - accuracy: 0.8622\n",
      "Epoch 36/100\n",
      "8000/8000 [==============================] - 5s 580us/step - loss: 0.3367 - accuracy: 0.8637\n",
      "Epoch 37/100\n",
      "8000/8000 [==============================] - 4s 533us/step - loss: 0.3366 - accuracy: 0.8606\n",
      "Epoch 38/100\n",
      "8000/8000 [==============================] - 4s 558us/step - loss: 0.3366 - accuracy: 0.8614\n",
      "Epoch 39/100\n",
      "8000/8000 [==============================] - 4s 535us/step - loss: 0.3365 - accuracy: 0.8633\n",
      "Epoch 40/100\n",
      "8000/8000 [==============================] - 4s 536us/step - loss: 0.3364 - accuracy: 0.8609\n",
      "Epoch 41/100\n",
      "8000/8000 [==============================] - 4s 554us/step - loss: 0.3358 - accuracy: 0.8610\n",
      "Epoch 42/100\n",
      "8000/8000 [==============================] - 7s 862us/step - loss: 0.3364 - accuracy: 0.8591\n",
      "Epoch 43/100\n",
      "8000/8000 [==============================] - 8s 1ms/step - loss: 0.3354 - accuracy: 0.8616\n",
      "Epoch 44/100\n",
      "8000/8000 [==============================] - 9s 1ms/step - loss: 0.3351 - accuracy: 0.8619\n",
      "Epoch 45/100\n",
      "8000/8000 [==============================] - 7s 855us/step - loss: 0.3359 - accuracy: 0.8597\n",
      "Epoch 46/100\n",
      "8000/8000 [==============================] - 6s 775us/step - loss: 0.3363 - accuracy: 0.8618\n",
      "Epoch 47/100\n",
      "8000/8000 [==============================] - 7s 894us/step - loss: 0.3356 - accuracy: 0.8641\n",
      "Epoch 48/100\n",
      "8000/8000 [==============================] - 5s 646us/step - loss: 0.3355 - accuracy: 0.8600\n",
      "Epoch 49/100\n",
      "8000/8000 [==============================] - 5s 637us/step - loss: 0.3354 - accuracy: 0.8627\n",
      "Epoch 50/100\n",
      "8000/8000 [==============================] - 6s 753us/step - loss: 0.3344 - accuracy: 0.8629\n",
      "Epoch 51/100\n",
      "8000/8000 [==============================] - 4s 545us/step - loss: 0.3352 - accuracy: 0.8635\n",
      "Epoch 52/100\n",
      "8000/8000 [==============================] - 4s 530us/step - loss: 0.3341 - accuracy: 0.8639\n",
      "Epoch 53/100\n",
      "8000/8000 [==============================] - 5s 623us/step - loss: 0.3343 - accuracy: 0.8614\n",
      "Epoch 54/100\n",
      "8000/8000 [==============================] - 4s 553us/step - loss: 0.3332 - accuracy: 0.8629\n",
      "Epoch 55/100\n",
      "8000/8000 [==============================] - 5s 674us/step - loss: 0.3340 - accuracy: 0.8633\n",
      "Epoch 56/100\n",
      "8000/8000 [==============================] - 6s 690us/step - loss: 0.3331 - accuracy: 0.8630\n",
      "Epoch 57/100\n",
      "8000/8000 [==============================] - 6s 706us/step - loss: 0.3328 - accuracy: 0.8640\n",
      "Epoch 58/100\n",
      "8000/8000 [==============================] - 5s 623us/step - loss: 0.3331 - accuracy: 0.8600\n",
      "Epoch 59/100\n",
      "8000/8000 [==============================] - 5s 575us/step - loss: 0.3328 - accuracy: 0.8624\n",
      "Epoch 60/100\n",
      "8000/8000 [==============================] - 5s 602us/step - loss: 0.3330 - accuracy: 0.8616\n",
      "Epoch 61/100\n",
      "8000/8000 [==============================] - 5s 611us/step - loss: 0.3325 - accuracy: 0.86180s - loss: 0.332\n",
      "Epoch 62/100\n",
      "8000/8000 [==============================] - 5s 566us/step - loss: 0.3319 - accuracy: 0.8627\n",
      "Epoch 63/100\n",
      "8000/8000 [==============================] - ETA: 0s - loss: 0.3315 - accuracy: 0.86 - 5s 570us/step - loss: 0.3314 - accuracy: 0.8614\n",
      "Epoch 64/100\n",
      "8000/8000 [==============================] - 5s 566us/step - loss: 0.3316 - accuracy: 0.8622\n",
      "Epoch 65/100\n",
      "8000/8000 [==============================] - 5s 593us/step - loss: 0.3316 - accuracy: 0.8621\n",
      "Epoch 66/100\n",
      "8000/8000 [==============================] - 5s 571us/step - loss: 0.3315 - accuracy: 0.8633\n",
      "Epoch 67/100\n",
      "8000/8000 [==============================] - 5s 604us/step - loss: 0.3308 - accuracy: 0.8608\n",
      "Epoch 68/100\n",
      "8000/8000 [==============================] - 6s 689us/step - loss: 0.3315 - accuracy: 0.8624\n",
      "Epoch 69/100\n",
      "8000/8000 [==============================] - 5s 631us/step - loss: 0.3307 - accuracy: 0.8631\n",
      "Epoch 70/100\n",
      "8000/8000 [==============================] - 5s 663us/step - loss: 0.3312 - accuracy: 0.8622\n",
      "Epoch 71/100\n",
      "8000/8000 [==============================] - 5s 645us/step - loss: 0.3309 - accuracy: 0.8643\n",
      "Epoch 72/100\n",
      "8000/8000 [==============================] - 5s 652us/step - loss: 0.3310 - accuracy: 0.8637\n",
      "Epoch 73/100\n",
      "8000/8000 [==============================] - 4s 549us/step - loss: 0.3312 - accuracy: 0.8627\n",
      "Epoch 74/100\n",
      "8000/8000 [==============================] - 5s 585us/step - loss: 0.3303 - accuracy: 0.8631\n",
      "Epoch 75/100\n",
      "8000/8000 [==============================] - 5s 567us/step - loss: 0.3312 - accuracy: 0.8641\n",
      "Epoch 76/100\n",
      "8000/8000 [==============================] - 5s 568us/step - loss: 0.3308 - accuracy: 0.8630\n",
      "Epoch 77/100\n",
      "8000/8000 [==============================] - 5s 580us/step - loss: 0.3305 - accuracy: 0.8622\n",
      "Epoch 78/100\n",
      "8000/8000 [==============================] - 5s 563us/step - loss: 0.3301 - accuracy: 0.8637\n",
      "Epoch 79/100\n",
      "8000/8000 [==============================] - 5s 565us/step - loss: 0.3310 - accuracy: 0.8635\n",
      "Epoch 80/100\n",
      "8000/8000 [==============================] - 5s 581us/step - loss: 0.3307 - accuracy: 0.8633\n",
      "Epoch 81/100\n",
      "8000/8000 [==============================] - 5s 608us/step - loss: 0.3306 - accuracy: 0.8624\n",
      "Epoch 82/100\n",
      "8000/8000 [==============================] - 5s 593us/step - loss: 0.3299 - accuracy: 0.8627\n",
      "Epoch 83/100\n",
      "8000/8000 [==============================] - 6s 786us/step - loss: 0.3305 - accuracy: 0.8640\n",
      "Epoch 84/100\n",
      "8000/8000 [==============================] - 5s 648us/step - loss: 0.3308 - accuracy: 0.8622\n",
      "Epoch 85/100\n",
      "8000/8000 [==============================] - 5s 568us/step - loss: 0.3308 - accuracy: 0.8627\n",
      "Epoch 86/100\n",
      "8000/8000 [==============================] - 5s 586us/step - loss: 0.3311 - accuracy: 0.8645\n",
      "Epoch 87/100\n",
      "8000/8000 [==============================] - 5s 583us/step - loss: 0.3303 - accuracy: 0.8619\n",
      "Epoch 88/100\n",
      "8000/8000 [==============================] - 4s 555us/step - loss: 0.3305 - accuracy: 0.8639\n",
      "Epoch 89/100\n",
      "8000/8000 [==============================] - 5s 584us/step - loss: 0.3297 - accuracy: 0.8643\n",
      "Epoch 90/100\n",
      "8000/8000 [==============================] - 5s 567us/step - loss: 0.3302 - accuracy: 0.8649\n",
      "Epoch 91/100\n",
      "8000/8000 [==============================] - 5s 575us/step - loss: 0.3296 - accuracy: 0.8639\n",
      "Epoch 92/100\n",
      "8000/8000 [==============================] - 4s 560us/step - loss: 0.3308 - accuracy: 0.8634\n",
      "Epoch 93/100\n",
      "8000/8000 [==============================] - 4s 554us/step - loss: 0.3301 - accuracy: 0.8636\n",
      "Epoch 94/100\n",
      "8000/8000 [==============================] - 5s 565us/step - loss: 0.3300 - accuracy: 0.8635\n",
      "Epoch 95/100\n",
      "8000/8000 [==============================] - 5s 583us/step - loss: 0.3298 - accuracy: 0.8640\n",
      "Epoch 96/100\n",
      "8000/8000 [==============================] - 5s 579us/step - loss: 0.3306 - accuracy: 0.8627\n",
      "Epoch 97/100\n",
      "8000/8000 [==============================] - 5s 574us/step - loss: 0.3305 - accuracy: 0.8625\n",
      "Epoch 98/100\n",
      "8000/8000 [==============================] - 4s 558us/step - loss: 0.3303 - accuracy: 0.8650\n",
      "Epoch 99/100\n",
      "8000/8000 [==============================] - 5s 606us/step - loss: 0.3304 - accuracy: 0.8633\n",
      "Epoch 100/100\n",
      "8000/8000 [==============================] - 4s 545us/step - loss: 0.3292 - accuracy: 0.8651\n"
     ]
    },
    {
     "data": {
      "text/plain": [
       "<tensorflow.python.keras.callbacks.History at 0x257d2801790>"
      ]
     },
     "execution_count": 89,
     "metadata": {},
     "output_type": "execute_result"
    }
   ],
   "source": [
    "classifier.fit(X_train, y_train, epochs=100, batch_size=1, verbose=1)"
   ]
  },
  {
   "cell_type": "markdown",
   "id": "9968e61f",
   "metadata": {},
   "source": [
    "Una de las primeras observaciones que encontramos es la cantidad de tiempo que necesita tensorflow para ejecutar todas las épocas ya que estamos usando un conjunto *batch* de 1 elemento. Es decir, el modelo tiene que realizar la actualización de los pesos usando el resultado proveniente de haber obtenido resultados con un elemento del conjunto de entrenamiento. Evidentemente, este método no es el más rápido, de ahí los métodos en tandas. Para más inri, si se consigue usar una gpu dedicada, el uso de técnicas en tanda acelera el proceso ya que permite realizar muchos cálculos en paralelo. En estas prácticas no estamos usando gpu dedicada ya que realizamos los cuadernos en windows, en el cual la instalación y configuración de jupyter notebook con CUDA es mucho más complicada que en Linux, donde sí es fácil de ejecutar. La ganancia en tiempo obtenida es notable."
   ]
  },
  {
   "cell_type": "code",
   "execution_count": 110,
   "id": "824e02f1",
   "metadata": {},
   "outputs": [],
   "source": [
    "y_pred = classifier.predict(X_test)\n",
    "#y_pred = (y_pred > 0.5)\n"
   ]
  },
  {
   "cell_type": "code",
   "execution_count": 116,
   "id": "69b88477",
   "metadata": {},
   "outputs": [
    {
     "data": {
      "text/plain": [
       "0.864"
      ]
     },
     "execution_count": 116,
     "metadata": {},
     "output_type": "execute_result"
    }
   ],
   "source": [
    "np.sum(y_test.reshape(1,-1) == np.rint(y_pred.reshape(1, -1)))/len(y_test)\n"
   ]
  },
  {
   "cell_type": "markdown",
   "id": "bd4a0b2f",
   "metadata": {},
   "source": [
    "Obtenemos un *accuracy* de 0.864. De acuerdo al anterior párrafo, es interesante ver si las mismas épocas usando un número de batch mayor empeora el rendimiento a nivel precisión a pesar de ganar en tiempo de ejecución. Probamos con un tamaño de tanda = 100."
   ]
  },
  {
   "cell_type": "code",
   "execution_count": 118,
   "id": "76339af3",
   "metadata": {},
   "outputs": [],
   "source": [
    "classifier_2 = classifier"
   ]
  },
  {
   "cell_type": "code",
   "execution_count": 123,
   "id": "9fa227a5",
   "metadata": {},
   "outputs": [
    {
     "name": "stdout",
     "output_type": "stream",
     "text": [
      "Epoch 1/100\n",
      "80/80 [==============================] - 0s 1ms/step - loss: 0.3221 - accuracy: 0.8658\n",
      "Epoch 2/100\n",
      "80/80 [==============================] - 0s 1ms/step - loss: 0.3218 - accuracy: 0.8654\n",
      "Epoch 3/100\n",
      "80/80 [==============================] - 0s 1ms/step - loss: 0.3221 - accuracy: 0.8650\n",
      "Epoch 4/100\n",
      "80/80 [==============================] - 0s 1ms/step - loss: 0.3220 - accuracy: 0.8648\n",
      "Epoch 5/100\n",
      "80/80 [==============================] - 0s 1ms/step - loss: 0.3220 - accuracy: 0.8658\n",
      "Epoch 6/100\n",
      "80/80 [==============================] - 0s 1ms/step - loss: 0.3220 - accuracy: 0.8650\n",
      "Epoch 7/100\n",
      "80/80 [==============================] - 0s 1ms/step - loss: 0.3219 - accuracy: 0.8655\n",
      "Epoch 8/100\n",
      "80/80 [==============================] - 0s 1ms/step - loss: 0.3219 - accuracy: 0.8650\n",
      "Epoch 9/100\n",
      "80/80 [==============================] - 0s 1ms/step - loss: 0.3220 - accuracy: 0.8656\n",
      "Epoch 10/100\n",
      "80/80 [==============================] - 0s 1ms/step - loss: 0.3218 - accuracy: 0.8660\n",
      "Epoch 11/100\n",
      "80/80 [==============================] - 0s 1ms/step - loss: 0.3218 - accuracy: 0.8654\n",
      "Epoch 12/100\n",
      "80/80 [==============================] - 0s 1ms/step - loss: 0.3219 - accuracy: 0.8641\n",
      "Epoch 13/100\n",
      "80/80 [==============================] - 0s 1ms/step - loss: 0.3222 - accuracy: 0.8660\n",
      "Epoch 14/100\n",
      "80/80 [==============================] - 0s 1ms/step - loss: 0.3219 - accuracy: 0.8660\n",
      "Epoch 15/100\n",
      "80/80 [==============================] - 0s 2ms/step - loss: 0.3222 - accuracy: 0.8639\n",
      "Epoch 16/100\n",
      "80/80 [==============================] - 0s 1ms/step - loss: 0.3219 - accuracy: 0.8655\n",
      "Epoch 17/100\n",
      "80/80 [==============================] - 0s 1ms/step - loss: 0.3217 - accuracy: 0.8654\n",
      "Epoch 18/100\n",
      "80/80 [==============================] - 0s 1ms/step - loss: 0.3219 - accuracy: 0.8655\n",
      "Epoch 19/100\n",
      "80/80 [==============================] - 0s 1ms/step - loss: 0.3220 - accuracy: 0.8646\n",
      "Epoch 20/100\n",
      "80/80 [==============================] - 0s 1ms/step - loss: 0.3218 - accuracy: 0.8658\n",
      "Epoch 21/100\n",
      "80/80 [==============================] - 0s 1ms/step - loss: 0.3218 - accuracy: 0.8644\n",
      "Epoch 22/100\n",
      "80/80 [==============================] - 0s 1ms/step - loss: 0.3218 - accuracy: 0.8652\n",
      "Epoch 23/100\n",
      "80/80 [==============================] - 0s 1ms/step - loss: 0.3219 - accuracy: 0.8656\n",
      "Epoch 24/100\n",
      "80/80 [==============================] - 0s 1ms/step - loss: 0.3220 - accuracy: 0.8655\n",
      "Epoch 25/100\n",
      "80/80 [==============================] - 0s 1ms/step - loss: 0.3217 - accuracy: 0.8655\n",
      "Epoch 26/100\n",
      "80/80 [==============================] - 0s 2ms/step - loss: 0.3219 - accuracy: 0.8652\n",
      "Epoch 27/100\n",
      "80/80 [==============================] - 0s 1ms/step - loss: 0.3220 - accuracy: 0.8651\n",
      "Epoch 28/100\n",
      "80/80 [==============================] - 0s 1ms/step - loss: 0.3222 - accuracy: 0.8652\n",
      "Epoch 29/100\n",
      "80/80 [==============================] - 0s 1ms/step - loss: 0.3218 - accuracy: 0.8654\n",
      "Epoch 30/100\n",
      "80/80 [==============================] - 0s 1ms/step - loss: 0.3219 - accuracy: 0.8649\n",
      "Epoch 31/100\n",
      "80/80 [==============================] - 0s 1ms/step - loss: 0.3220 - accuracy: 0.8654\n",
      "Epoch 32/100\n",
      "80/80 [==============================] - 0s 1ms/step - loss: 0.3218 - accuracy: 0.8651\n",
      "Epoch 33/100\n",
      "80/80 [==============================] - 0s 1ms/step - loss: 0.3219 - accuracy: 0.8645\n",
      "Epoch 34/100\n",
      "80/80 [==============================] - 0s 2ms/step - loss: 0.3219 - accuracy: 0.8652\n",
      "Epoch 35/100\n",
      "80/80 [==============================] - 0s 1ms/step - loss: 0.3220 - accuracy: 0.8646\n",
      "Epoch 36/100\n",
      "80/80 [==============================] - 0s 1ms/step - loss: 0.3219 - accuracy: 0.8654\n",
      "Epoch 37/100\n",
      "80/80 [==============================] - 0s 1ms/step - loss: 0.3217 - accuracy: 0.8651\n",
      "Epoch 38/100\n",
      "80/80 [==============================] - 0s 1ms/step - loss: 0.3217 - accuracy: 0.8650\n",
      "Epoch 39/100\n",
      "80/80 [==============================] - 0s 1ms/step - loss: 0.3217 - accuracy: 0.8651\n",
      "Epoch 40/100\n",
      "80/80 [==============================] - 0s 1ms/step - loss: 0.3218 - accuracy: 0.8662\n",
      "Epoch 41/100\n",
      "80/80 [==============================] - 0s 1ms/step - loss: 0.3218 - accuracy: 0.8646\n",
      "Epoch 42/100\n",
      "80/80 [==============================] - 0s 1ms/step - loss: 0.3218 - accuracy: 0.8652\n",
      "Epoch 43/100\n",
      "80/80 [==============================] - 0s 1ms/step - loss: 0.3217 - accuracy: 0.8652\n",
      "Epoch 44/100\n",
      "80/80 [==============================] - 0s 1ms/step - loss: 0.3218 - accuracy: 0.8658\n",
      "Epoch 45/100\n",
      "80/80 [==============================] - 0s 1ms/step - loss: 0.3218 - accuracy: 0.8658\n",
      "Epoch 46/100\n",
      "80/80 [==============================] - 0s 1ms/step - loss: 0.3218 - accuracy: 0.8650\n",
      "Epoch 47/100\n",
      "80/80 [==============================] - 0s 1ms/step - loss: 0.3221 - accuracy: 0.8655\n",
      "Epoch 48/100\n",
      "80/80 [==============================] - 0s 1ms/step - loss: 0.3218 - accuracy: 0.8656\n",
      "Epoch 49/100\n",
      "80/80 [==============================] - 0s 1ms/step - loss: 0.3218 - accuracy: 0.8658\n",
      "Epoch 50/100\n",
      "80/80 [==============================] - 0s 1ms/step - loss: 0.3215 - accuracy: 0.8651\n",
      "Epoch 51/100\n",
      "80/80 [==============================] - 0s 1ms/step - loss: 0.3218 - accuracy: 0.8654\n",
      "Epoch 52/100\n",
      "80/80 [==============================] - 0s 1ms/step - loss: 0.3217 - accuracy: 0.8652\n",
      "Epoch 53/100\n",
      "80/80 [==============================] - 0s 1ms/step - loss: 0.3216 - accuracy: 0.8662\n",
      "Epoch 54/100\n",
      "80/80 [==============================] - 0s 1ms/step - loss: 0.3216 - accuracy: 0.8654\n",
      "Epoch 55/100\n",
      "80/80 [==============================] - 0s 1ms/step - loss: 0.3217 - accuracy: 0.8646\n",
      "Epoch 56/100\n",
      "80/80 [==============================] - 0s 2ms/step - loss: 0.3218 - accuracy: 0.8651\n",
      "Epoch 57/100\n",
      "80/80 [==============================] - 0s 1ms/step - loss: 0.3217 - accuracy: 0.8660\n",
      "Epoch 58/100\n",
      "80/80 [==============================] - 0s 1ms/step - loss: 0.3215 - accuracy: 0.8658\n",
      "Epoch 59/100\n",
      "80/80 [==============================] - 0s 1ms/step - loss: 0.3218 - accuracy: 0.8654\n",
      "Epoch 60/100\n",
      "80/80 [==============================] - 0s 1ms/step - loss: 0.3218 - accuracy: 0.8652\n",
      "Epoch 61/100\n",
      "80/80 [==============================] - 0s 1ms/step - loss: 0.3218 - accuracy: 0.8652\n",
      "Epoch 62/100\n",
      "80/80 [==============================] - 0s 1ms/step - loss: 0.3215 - accuracy: 0.8660\n",
      "Epoch 63/100\n",
      "80/80 [==============================] - 0s 1ms/step - loss: 0.3217 - accuracy: 0.8660\n",
      "Epoch 64/100\n",
      "80/80 [==============================] - 0s 1ms/step - loss: 0.3216 - accuracy: 0.8655\n",
      "Epoch 65/100\n",
      "80/80 [==============================] - 0s 1ms/step - loss: 0.3217 - accuracy: 0.8660\n",
      "Epoch 66/100\n",
      "80/80 [==============================] - 0s 2ms/step - loss: 0.3217 - accuracy: 0.8648\n",
      "Epoch 67/100\n",
      "80/80 [==============================] - 0s 1ms/step - loss: 0.3217 - accuracy: 0.8659\n",
      "Epoch 68/100\n",
      "80/80 [==============================] - 0s 1ms/step - loss: 0.3218 - accuracy: 0.8652\n",
      "Epoch 69/100\n",
      "80/80 [==============================] - 0s 1ms/step - loss: 0.3216 - accuracy: 0.8658\n",
      "Epoch 70/100\n",
      "80/80 [==============================] - 0s 1ms/step - loss: 0.3220 - accuracy: 0.8650\n",
      "Epoch 71/100\n",
      "80/80 [==============================] - 0s 1ms/step - loss: 0.3215 - accuracy: 0.8656\n",
      "Epoch 72/100\n",
      "80/80 [==============================] - 0s 1ms/step - loss: 0.3216 - accuracy: 0.8648\n",
      "Epoch 73/100\n",
      "80/80 [==============================] - 0s 1ms/step - loss: 0.3216 - accuracy: 0.8662\n",
      "Epoch 74/100\n",
      "80/80 [==============================] - 0s 1ms/step - loss: 0.3217 - accuracy: 0.8658\n",
      "Epoch 75/100\n",
      "80/80 [==============================] - 0s 1ms/step - loss: 0.3217 - accuracy: 0.8644\n",
      "Epoch 76/100\n",
      "80/80 [==============================] - 0s 1ms/step - loss: 0.3217 - accuracy: 0.8651\n",
      "Epoch 77/100\n",
      "80/80 [==============================] - 0s 2ms/step - loss: 0.3216 - accuracy: 0.8649\n",
      "Epoch 78/100\n",
      "80/80 [==============================] - 0s 2ms/step - loss: 0.3213 - accuracy: 0.8661\n",
      "Epoch 79/100\n",
      "80/80 [==============================] - 0s 1ms/step - loss: 0.3218 - accuracy: 0.8662\n",
      "Epoch 80/100\n",
      "80/80 [==============================] - 0s 1ms/step - loss: 0.3217 - accuracy: 0.8656\n",
      "Epoch 81/100\n",
      "80/80 [==============================] - 0s 1ms/step - loss: 0.3215 - accuracy: 0.8660\n",
      "Epoch 82/100\n",
      "80/80 [==============================] - 0s 1ms/step - loss: 0.3216 - accuracy: 0.8655\n",
      "Epoch 83/100\n",
      "80/80 [==============================] - 0s 1ms/step - loss: 0.3215 - accuracy: 0.8659\n",
      "Epoch 84/100\n",
      "80/80 [==============================] - 0s 2ms/step - loss: 0.3218 - accuracy: 0.8661\n",
      "Epoch 85/100\n",
      "80/80 [==============================] - 0s 1ms/step - loss: 0.3216 - accuracy: 0.8658\n",
      "Epoch 86/100\n",
      "80/80 [==============================] - 0s 1ms/step - loss: 0.3218 - accuracy: 0.8661\n",
      "Epoch 87/100\n",
      "80/80 [==============================] - 0s 1ms/step - loss: 0.3216 - accuracy: 0.8655\n",
      "Epoch 88/100\n",
      "80/80 [==============================] - 0s 1ms/step - loss: 0.3216 - accuracy: 0.8659\n",
      "Epoch 89/100\n",
      "80/80 [==============================] - 0s 1ms/step - loss: 0.3217 - accuracy: 0.8656\n",
      "Epoch 90/100\n",
      "80/80 [==============================] - 0s 1ms/step - loss: 0.3217 - accuracy: 0.8661\n",
      "Epoch 91/100\n",
      "80/80 [==============================] - 0s 1ms/step - loss: 0.3216 - accuracy: 0.8660\n",
      "Epoch 92/100\n",
      "80/80 [==============================] - 0s 1ms/step - loss: 0.3216 - accuracy: 0.8655\n",
      "Epoch 93/100\n",
      "80/80 [==============================] - 0s 1ms/step - loss: 0.3216 - accuracy: 0.8656\n",
      "Epoch 94/100\n",
      "80/80 [==============================] - 0s 1ms/step - loss: 0.3214 - accuracy: 0.8648\n",
      "Epoch 95/100\n",
      "80/80 [==============================] - 0s 1ms/step - loss: 0.3217 - accuracy: 0.8659\n",
      "Epoch 96/100\n",
      "80/80 [==============================] - 0s 1ms/step - loss: 0.3217 - accuracy: 0.8665\n",
      "Epoch 97/100\n",
      "80/80 [==============================] - 0s 1ms/step - loss: 0.3218 - accuracy: 0.8659\n",
      "Epoch 98/100\n",
      "80/80 [==============================] - 0s 1ms/step - loss: 0.3216 - accuracy: 0.8674\n",
      "Epoch 99/100\n",
      "80/80 [==============================] - 0s 2ms/step - loss: 0.3216 - accuracy: 0.8656\n",
      "Epoch 100/100\n",
      "80/80 [==============================] - 0s 1ms/step - loss: 0.3217 - accuracy: 0.8662\n"
     ]
    }
   ],
   "source": [
    "prueba_2 = classifier_2.fit(X_train, y_train, epochs=100, batch_size=100, verbose=1)"
   ]
  },
  {
   "cell_type": "code",
   "execution_count": 126,
   "id": "53f740d3",
   "metadata": {},
   "outputs": [
    {
     "data": {
      "text/plain": [
       "0.867"
      ]
     },
     "execution_count": 126,
     "metadata": {},
     "output_type": "execute_result"
    }
   ],
   "source": [
    "y_pred = classifier_2.predict(X_test)\n",
    "np.sum(y_test.reshape(1,-1) == np.rint(y_pred.reshape(1, -1)))/len(y_test)"
   ]
  },
  {
   "cell_type": "markdown",
   "id": "f905d1af",
   "metadata": {},
   "source": [
    "Obtenemos la misma puntuación que en el caso anterior con un tiempo de ejecución mucho menor (segundos frente a 2-3 minutos en mi pc en la prueba anterior). Por lo tanto, actualizar los pesos mediante la media de los gradientes de los distintos gradientes obtenidos con cada uno de los elementos del batch provee buenos resultados a la vez que mejoramos los tiempos. "
   ]
  },
  {
   "cell_type": "markdown",
   "id": "0281de51",
   "metadata": {},
   "source": [
    "Probamos ahora a aumentar el número de iteraciones. Antes de ejecutar una nueva prueba, podemos intuir el resultado de aumentar las iteraciones viendo la evolución de *accuracy* durante el entrenamiento:"
   ]
  },
  {
   "cell_type": "code",
   "execution_count": 135,
   "id": "47d6ba74",
   "metadata": {},
   "outputs": [
    {
     "data": {
      "text/plain": [
       "[<matplotlib.lines.Line2D at 0x257db211af0>]"
      ]
     },
     "execution_count": 135,
     "metadata": {},
     "output_type": "execute_result"
    },
    {
     "data": {
      "image/png": "[encoded data removed]",
      "text/plain": [
       "<Figure size 432x288 with 1 Axes>"
      ]
     },
     "metadata": {
      "needs_background": "light"
     },
     "output_type": "display_data"
    }
   ],
   "source": [
    "plt.plot(prueba_2.history['accuracy'])"
   ]
  },
  {
   "cell_type": "markdown",
   "id": "e46085d7",
   "metadata": {},
   "source": [
    "Como podemos observar, desde el principio obtenemos un valor de 0.86 y durante todo el entrenamiento no obtenemos un gran aumento (fijémonos en el rango del eje y). Podemos intuir que aumentando el número de épocas, no obtengamos muchos mejores resultados ya que el modelo parece *saturar* desde el primer momento."
   ]
  },
  {
   "cell_type": "code",
   "execution_count": 137,
   "id": "89787074",
   "metadata": {},
   "outputs": [
    {
     "name": "stdout",
     "output_type": "stream",
     "text": [
      "Epoch 1/300\n",
      "80/80 [==============================] - 0s 1ms/step - loss: 0.3218 - accuracy: 0.8658\n",
      "Epoch 2/300\n",
      "80/80 [==============================] - 0s 1ms/step - loss: 0.3215 - accuracy: 0.8652\n",
      "Epoch 3/300\n",
      "80/80 [==============================] - 0s 1ms/step - loss: 0.3216 - accuracy: 0.8654\n",
      "Epoch 4/300\n",
      "80/80 [==============================] - 0s 1ms/step - loss: 0.3216 - accuracy: 0.8658\n",
      "Epoch 5/300\n",
      "80/80 [==============================] - 0s 1ms/step - loss: 0.3216 - accuracy: 0.8651\n",
      "Epoch 6/300\n",
      "80/80 [==============================] - 0s 1ms/step - loss: 0.3216 - accuracy: 0.8655\n",
      "Epoch 7/300\n",
      "80/80 [==============================] - 0s 1ms/step - loss: 0.3214 - accuracy: 0.8659\n",
      "Epoch 8/300\n",
      "80/80 [==============================] - 0s 1ms/step - loss: 0.3214 - accuracy: 0.8658\n",
      "Epoch 9/300\n",
      "80/80 [==============================] - 0s 1ms/step - loss: 0.3216 - accuracy: 0.8660\n",
      "Epoch 10/300\n",
      "80/80 [==============================] - 0s 1ms/step - loss: 0.3217 - accuracy: 0.8656\n",
      "Epoch 11/300\n",
      "80/80 [==============================] - 0s 1ms/step - loss: 0.3214 - accuracy: 0.8652\n",
      "Epoch 12/300\n",
      "80/80 [==============================] - 0s 1ms/step - loss: 0.3217 - accuracy: 0.8659\n",
      "Epoch 13/300\n",
      "80/80 [==============================] - 0s 1ms/step - loss: 0.3214 - accuracy: 0.8661\n",
      "Epoch 14/300\n",
      "80/80 [==============================] - 0s 2ms/step - loss: 0.3216 - accuracy: 0.8656\n",
      "Epoch 15/300\n",
      "80/80 [==============================] - 0s 2ms/step - loss: 0.3215 - accuracy: 0.8649\n",
      "Epoch 16/300\n",
      "80/80 [==============================] - 0s 2ms/step - loss: 0.3217 - accuracy: 0.8660\n",
      "Epoch 17/300\n",
      "80/80 [==============================] - 0s 1ms/step - loss: 0.3216 - accuracy: 0.8654\n",
      "Epoch 18/300\n",
      "80/80 [==============================] - 0s 1ms/step - loss: 0.3216 - accuracy: 0.8659\n",
      "Epoch 19/300\n",
      "80/80 [==============================] - 0s 1ms/step - loss: 0.3215 - accuracy: 0.8656\n",
      "Epoch 20/300\n",
      "80/80 [==============================] - 0s 1ms/step - loss: 0.3217 - accuracy: 0.8660\n",
      "Epoch 21/300\n",
      "80/80 [==============================] - 0s 1ms/step - loss: 0.3215 - accuracy: 0.8664\n",
      "Epoch 22/300\n",
      "80/80 [==============================] - 0s 1ms/step - loss: 0.3217 - accuracy: 0.8660\n",
      "Epoch 23/300\n",
      "80/80 [==============================] - 0s 2ms/step - loss: 0.3215 - accuracy: 0.8659\n",
      "Epoch 24/300\n",
      "80/80 [==============================] - 0s 1ms/step - loss: 0.3217 - accuracy: 0.8649\n",
      "Epoch 25/300\n",
      "80/80 [==============================] - 0s 1ms/step - loss: 0.3216 - accuracy: 0.8658\n",
      "Epoch 26/300\n",
      "80/80 [==============================] - 0s 1ms/step - loss: 0.3217 - accuracy: 0.8660\n",
      "Epoch 27/300\n",
      "80/80 [==============================] - 0s 1ms/step - loss: 0.3215 - accuracy: 0.8654\n",
      "Epoch 28/300\n",
      "80/80 [==============================] - 0s 1ms/step - loss: 0.3215 - accuracy: 0.8659\n",
      "Epoch 29/300\n",
      "80/80 [==============================] - 0s 1ms/step - loss: 0.3216 - accuracy: 0.8655\n",
      "Epoch 30/300\n",
      "80/80 [==============================] - 0s 1ms/step - loss: 0.3214 - accuracy: 0.8651\n",
      "Epoch 31/300\n",
      "80/80 [==============================] - 0s 1ms/step - loss: 0.3214 - accuracy: 0.8655\n",
      "Epoch 32/300\n",
      "80/80 [==============================] - 0s 1ms/step - loss: 0.3216 - accuracy: 0.8662\n",
      "Epoch 33/300\n",
      "80/80 [==============================] - 0s 2ms/step - loss: 0.3215 - accuracy: 0.8658\n",
      "Epoch 34/300\n",
      "80/80 [==============================] - 0s 1ms/step - loss: 0.3215 - accuracy: 0.8655\n",
      "Epoch 35/300\n",
      "80/80 [==============================] - 0s 2ms/step - loss: 0.3214 - accuracy: 0.8656\n",
      "Epoch 36/300\n",
      "80/80 [==============================] - 0s 1ms/step - loss: 0.3216 - accuracy: 0.8656\n",
      "Epoch 37/300\n",
      "80/80 [==============================] - 0s 1ms/step - loss: 0.3216 - accuracy: 0.8665\n",
      "Epoch 38/300\n",
      "80/80 [==============================] - 0s 1ms/step - loss: 0.3214 - accuracy: 0.8661\n",
      "Epoch 39/300\n",
      "80/80 [==============================] - 0s 1ms/step - loss: 0.3217 - accuracy: 0.8656\n",
      "Epoch 40/300\n",
      "80/80 [==============================] - 0s 1ms/step - loss: 0.3215 - accuracy: 0.8656\n",
      "Epoch 41/300\n",
      "80/80 [==============================] - 0s 1ms/step - loss: 0.3217 - accuracy: 0.8660\n",
      "Epoch 42/300\n",
      "80/80 [==============================] - 0s 1ms/step - loss: 0.3214 - accuracy: 0.8651\n",
      "Epoch 43/300\n",
      "80/80 [==============================] - 0s 2ms/step - loss: 0.3216 - accuracy: 0.8656\n",
      "Epoch 44/300\n",
      "80/80 [==============================] - 0s 1ms/step - loss: 0.3215 - accuracy: 0.8668\n",
      "Epoch 45/300\n",
      "80/80 [==============================] - 0s 1ms/step - loss: 0.3213 - accuracy: 0.8656\n",
      "Epoch 46/300\n",
      "80/80 [==============================] - 0s 1ms/step - loss: 0.3215 - accuracy: 0.8662\n",
      "Epoch 47/300\n",
      "80/80 [==============================] - 0s 1ms/step - loss: 0.3215 - accuracy: 0.8649\n",
      "Epoch 48/300\n",
      "80/80 [==============================] - 0s 1ms/step - loss: 0.3216 - accuracy: 0.8660\n",
      "Epoch 49/300\n",
      "80/80 [==============================] - 0s 1ms/step - loss: 0.3214 - accuracy: 0.8664\n",
      "Epoch 50/300\n",
      "80/80 [==============================] - 0s 1ms/step - loss: 0.3216 - accuracy: 0.8648\n",
      "Epoch 51/300\n",
      "80/80 [==============================] - 0s 1ms/step - loss: 0.3214 - accuracy: 0.8659\n",
      "Epoch 52/300\n",
      "80/80 [==============================] - 0s 1ms/step - loss: 0.3216 - accuracy: 0.8655\n",
      "Epoch 53/300\n",
      "80/80 [==============================] - 0s 1ms/step - loss: 0.3214 - accuracy: 0.8652\n",
      "Epoch 54/300\n",
      "80/80 [==============================] - 0s 1ms/step - loss: 0.3216 - accuracy: 0.8656\n",
      "Epoch 55/300\n",
      "80/80 [==============================] - 0s 1ms/step - loss: 0.3216 - accuracy: 0.8660\n",
      "Epoch 56/300\n",
      "80/80 [==============================] - ETA: 0s - loss: 0.3276 - accuracy: 0.86 - 0s 1ms/step - loss: 0.3214 - accuracy: 0.8649\n",
      "Epoch 57/300\n",
      "80/80 [==============================] - 0s 1ms/step - loss: 0.3216 - accuracy: 0.8658\n",
      "Epoch 58/300\n",
      "80/80 [==============================] - 0s 1ms/step - loss: 0.3215 - accuracy: 0.8660\n",
      "Epoch 59/300\n",
      "80/80 [==============================] - 0s 1ms/step - loss: 0.3214 - accuracy: 0.8654\n",
      "Epoch 60/300\n",
      "80/80 [==============================] - 0s 1ms/step - loss: 0.3215 - accuracy: 0.8658\n",
      "Epoch 61/300\n",
      "80/80 [==============================] - 0s 1ms/step - loss: 0.3216 - accuracy: 0.8650\n",
      "Epoch 62/300\n",
      "80/80 [==============================] - 0s 1ms/step - loss: 0.3215 - accuracy: 0.8651\n",
      "Epoch 63/300\n",
      "80/80 [==============================] - 0s 1ms/step - loss: 0.3216 - accuracy: 0.8660\n",
      "Epoch 64/300\n",
      "80/80 [==============================] - 0s 2ms/step - loss: 0.3216 - accuracy: 0.8654\n",
      "Epoch 65/300\n",
      "80/80 [==============================] - 0s 2ms/step - loss: 0.3215 - accuracy: 0.8655\n",
      "Epoch 66/300\n",
      "80/80 [==============================] - 0s 1ms/step - loss: 0.3215 - accuracy: 0.8659\n",
      "Epoch 67/300\n",
      "80/80 [==============================] - 0s 1ms/step - loss: 0.3216 - accuracy: 0.8648\n",
      "Epoch 68/300\n",
      "80/80 [==============================] - 0s 1ms/step - loss: 0.3215 - accuracy: 0.8659\n",
      "Epoch 69/300\n",
      "80/80 [==============================] - 0s 2ms/step - loss: 0.3215 - accuracy: 0.8654\n",
      "Epoch 70/300\n",
      "80/80 [==============================] - 0s 1ms/step - loss: 0.3215 - accuracy: 0.8660\n",
      "Epoch 71/300\n",
      "80/80 [==============================] - 0s 1ms/step - loss: 0.3214 - accuracy: 0.8650\n",
      "Epoch 72/300\n",
      "80/80 [==============================] - 0s 1ms/step - loss: 0.3216 - accuracy: 0.8661\n",
      "Epoch 73/300\n",
      "80/80 [==============================] - 0s 1ms/step - loss: 0.3215 - accuracy: 0.8659\n",
      "Epoch 74/300\n",
      "80/80 [==============================] - 0s 1ms/step - loss: 0.3215 - accuracy: 0.8654\n",
      "Epoch 75/300\n",
      "80/80 [==============================] - 0s 1ms/step - loss: 0.3214 - accuracy: 0.8658\n",
      "Epoch 76/300\n",
      "80/80 [==============================] - 0s 1ms/step - loss: 0.3215 - accuracy: 0.8659\n",
      "Epoch 77/300\n",
      "80/80 [==============================] - 0s 1ms/step - loss: 0.3216 - accuracy: 0.8650\n",
      "Epoch 78/300\n",
      "80/80 [==============================] - 0s 1ms/step - loss: 0.3213 - accuracy: 0.8655\n",
      "Epoch 79/300\n",
      "80/80 [==============================] - 0s 1ms/step - loss: 0.3214 - accuracy: 0.8665\n",
      "Epoch 80/300\n",
      "80/80 [==============================] - 0s 2ms/step - loss: 0.3214 - accuracy: 0.8660\n",
      "Epoch 81/300\n",
      "80/80 [==============================] - 0s 2ms/step - loss: 0.3216 - accuracy: 0.8659\n",
      "Epoch 82/300\n",
      "80/80 [==============================] - 0s 2ms/step - loss: 0.3216 - accuracy: 0.8661\n",
      "Epoch 83/300\n",
      "80/80 [==============================] - 0s 2ms/step - loss: 0.3216 - accuracy: 0.8654\n",
      "Epoch 84/300\n",
      "80/80 [==============================] - 0s 1ms/step - loss: 0.3215 - accuracy: 0.8658\n",
      "Epoch 85/300\n",
      "80/80 [==============================] - 0s 1ms/step - loss: 0.3214 - accuracy: 0.8649\n",
      "Epoch 86/300\n",
      "80/80 [==============================] - 0s 1ms/step - loss: 0.3215 - accuracy: 0.8650\n",
      "Epoch 87/300\n",
      "80/80 [==============================] - 0s 1ms/step - loss: 0.3215 - accuracy: 0.8661\n",
      "Epoch 88/300\n",
      "80/80 [==============================] - 0s 1ms/step - loss: 0.3216 - accuracy: 0.8659\n",
      "Epoch 89/300\n",
      "80/80 [==============================] - 0s 1ms/step - loss: 0.3215 - accuracy: 0.8655\n",
      "Epoch 90/300\n",
      "80/80 [==============================] - 0s 1ms/step - loss: 0.3216 - accuracy: 0.8646\n",
      "Epoch 91/300\n",
      "80/80 [==============================] - 0s 2ms/step - loss: 0.3214 - accuracy: 0.8666\n",
      "Epoch 92/300\n",
      "80/80 [==============================] - 0s 1ms/step - loss: 0.3216 - accuracy: 0.8658\n",
      "Epoch 93/300\n",
      "80/80 [==============================] - 0s 1ms/step - loss: 0.3213 - accuracy: 0.8658\n",
      "Epoch 94/300\n",
      "80/80 [==============================] - 0s 1ms/step - loss: 0.3214 - accuracy: 0.8652\n",
      "Epoch 95/300\n",
      "80/80 [==============================] - 0s 1ms/step - loss: 0.3214 - accuracy: 0.8659\n",
      "Epoch 96/300\n",
      "80/80 [==============================] - 0s 1ms/step - loss: 0.3214 - accuracy: 0.8652\n",
      "Epoch 97/300\n",
      "80/80 [==============================] - 0s 1ms/step - loss: 0.3215 - accuracy: 0.8652\n",
      "Epoch 98/300\n",
      "80/80 [==============================] - 0s 1ms/step - loss: 0.3216 - accuracy: 0.8661\n",
      "Epoch 99/300\n",
      "80/80 [==============================] - 0s 1ms/step - loss: 0.3215 - accuracy: 0.8656\n",
      "Epoch 100/300\n",
      "80/80 [==============================] - 0s 1ms/step - loss: 0.3213 - accuracy: 0.8660\n",
      "Epoch 101/300\n",
      "80/80 [==============================] - 0s 1ms/step - loss: 0.3216 - accuracy: 0.8656\n",
      "Epoch 102/300\n",
      "80/80 [==============================] - 0s 1ms/step - loss: 0.3214 - accuracy: 0.8660\n",
      "Epoch 103/300\n",
      "80/80 [==============================] - 0s 1ms/step - loss: 0.3215 - accuracy: 0.8655\n",
      "Epoch 104/300\n",
      "80/80 [==============================] - 0s 1ms/step - loss: 0.3216 - accuracy: 0.8656\n",
      "Epoch 105/300\n",
      "80/80 [==============================] - 0s 1ms/step - loss: 0.3214 - accuracy: 0.8648\n",
      "Epoch 106/300\n",
      "80/80 [==============================] - 0s 1ms/step - loss: 0.3213 - accuracy: 0.8656\n",
      "Epoch 107/300\n",
      "80/80 [==============================] - 0s 1ms/step - loss: 0.3213 - accuracy: 0.8652\n",
      "Epoch 108/300\n",
      "80/80 [==============================] - 0s 2ms/step - loss: 0.3214 - accuracy: 0.8656\n",
      "Epoch 109/300\n",
      "80/80 [==============================] - 0s 2ms/step - loss: 0.3216 - accuracy: 0.8659\n",
      "Epoch 110/300\n",
      "80/80 [==============================] - 0s 1ms/step - loss: 0.3215 - accuracy: 0.8652\n",
      "Epoch 111/300\n",
      "80/80 [==============================] - 0s 1ms/step - loss: 0.3214 - accuracy: 0.8652\n",
      "Epoch 112/300\n",
      "80/80 [==============================] - 0s 1ms/step - loss: 0.3213 - accuracy: 0.8650\n",
      "Epoch 113/300\n",
      "80/80 [==============================] - 0s 1ms/step - loss: 0.3214 - accuracy: 0.8656\n",
      "Epoch 114/300\n",
      "80/80 [==============================] - 0s 1ms/step - loss: 0.3216 - accuracy: 0.8658\n",
      "Epoch 115/300\n",
      "80/80 [==============================] - 0s 2ms/step - loss: 0.3213 - accuracy: 0.8652\n",
      "Epoch 116/300\n",
      "80/80 [==============================] - 0s 2ms/step - loss: 0.3212 - accuracy: 0.8666\n",
      "Epoch 117/300\n",
      "80/80 [==============================] - 0s 1ms/step - loss: 0.3215 - accuracy: 0.8656\n",
      "Epoch 118/300\n",
      "80/80 [==============================] - 0s 1ms/step - loss: 0.3214 - accuracy: 0.8655\n",
      "Epoch 119/300\n",
      "80/80 [==============================] - 0s 1ms/step - loss: 0.3215 - accuracy: 0.8650\n",
      "Epoch 120/300\n",
      "80/80 [==============================] - 0s 1ms/step - loss: 0.3214 - accuracy: 0.8666\n",
      "Epoch 121/300\n",
      "80/80 [==============================] - 0s 1ms/step - loss: 0.3216 - accuracy: 0.8656\n",
      "Epoch 122/300\n",
      "80/80 [==============================] - 0s 1ms/step - loss: 0.3214 - accuracy: 0.8655\n",
      "Epoch 123/300\n",
      "80/80 [==============================] - 0s 1ms/step - loss: 0.3217 - accuracy: 0.8658\n",
      "Epoch 124/300\n",
      "80/80 [==============================] - 0s 1ms/step - loss: 0.3213 - accuracy: 0.8660\n",
      "Epoch 125/300\n",
      "80/80 [==============================] - 0s 1ms/step - loss: 0.3216 - accuracy: 0.8655\n",
      "Epoch 126/300\n",
      "80/80 [==============================] - 0s 2ms/step - loss: 0.3214 - accuracy: 0.8650\n",
      "Epoch 127/300\n",
      "80/80 [==============================] - 0s 1ms/step - loss: 0.3213 - accuracy: 0.8656\n",
      "Epoch 128/300\n",
      "80/80 [==============================] - 0s 1ms/step - loss: 0.3217 - accuracy: 0.8662\n",
      "Epoch 129/300\n",
      "80/80 [==============================] - 0s 1ms/step - loss: 0.3214 - accuracy: 0.8658\n",
      "Epoch 130/300\n",
      "80/80 [==============================] - 0s 1ms/step - loss: 0.3213 - accuracy: 0.8659\n",
      "Epoch 131/300\n",
      "80/80 [==============================] - 0s 1ms/step - loss: 0.3213 - accuracy: 0.8661\n",
      "Epoch 132/300\n",
      "80/80 [==============================] - 0s 1ms/step - loss: 0.3214 - accuracy: 0.8656\n",
      "Epoch 133/300\n",
      "80/80 [==============================] - 0s 1ms/step - loss: 0.3214 - accuracy: 0.8656\n",
      "Epoch 134/300\n",
      "80/80 [==============================] - 0s 1ms/step - loss: 0.3212 - accuracy: 0.8655\n",
      "Epoch 135/300\n",
      "80/80 [==============================] - 0s 1ms/step - loss: 0.3214 - accuracy: 0.8658\n",
      "Epoch 136/300\n",
      "80/80 [==============================] - 0s 1ms/step - loss: 0.3214 - accuracy: 0.8650\n",
      "Epoch 137/300\n",
      "80/80 [==============================] - 0s 1ms/step - loss: 0.3213 - accuracy: 0.8656\n",
      "Epoch 138/300\n",
      "80/80 [==============================] - 0s 1ms/step - loss: 0.3213 - accuracy: 0.8656\n",
      "Epoch 139/300\n",
      "80/80 [==============================] - 0s 1ms/step - loss: 0.3215 - accuracy: 0.8664\n",
      "Epoch 140/300\n",
      "80/80 [==============================] - 0s 1ms/step - loss: 0.3214 - accuracy: 0.8662\n",
      "Epoch 141/300\n",
      "80/80 [==============================] - 0s 2ms/step - loss: 0.3215 - accuracy: 0.8654\n",
      "Epoch 142/300\n",
      "80/80 [==============================] - 0s 1ms/step - loss: 0.3213 - accuracy: 0.8664\n",
      "Epoch 143/300\n",
      "80/80 [==============================] - 0s 2ms/step - loss: 0.3213 - accuracy: 0.8659\n",
      "Epoch 144/300\n",
      "80/80 [==============================] - 0s 1ms/step - loss: 0.3215 - accuracy: 0.8654\n",
      "Epoch 145/300\n",
      "80/80 [==============================] - 0s 1ms/step - loss: 0.3214 - accuracy: 0.8659\n",
      "Epoch 146/300\n",
      "80/80 [==============================] - 0s 1ms/step - loss: 0.3212 - accuracy: 0.8656\n",
      "Epoch 147/300\n",
      "80/80 [==============================] - 0s 1ms/step - loss: 0.3214 - accuracy: 0.8650\n",
      "Epoch 148/300\n",
      "80/80 [==============================] - 0s 1ms/step - loss: 0.3214 - accuracy: 0.8662\n",
      "Epoch 149/300\n",
      "80/80 [==============================] - 0s 1ms/step - loss: 0.3214 - accuracy: 0.8658\n",
      "Epoch 150/300\n",
      "80/80 [==============================] - 0s 2ms/step - loss: 0.3216 - accuracy: 0.8648\n",
      "Epoch 151/300\n",
      "80/80 [==============================] - 0s 2ms/step - loss: 0.3214 - accuracy: 0.8656\n",
      "Epoch 152/300\n",
      "80/80 [==============================] - 0s 1ms/step - loss: 0.3213 - accuracy: 0.8648\n",
      "Epoch 153/300\n",
      "80/80 [==============================] - 0s 1ms/step - loss: 0.3213 - accuracy: 0.8654\n",
      "Epoch 154/300\n",
      "80/80 [==============================] - 0s 1ms/step - loss: 0.3213 - accuracy: 0.8654\n",
      "Epoch 155/300\n",
      "80/80 [==============================] - 0s 1ms/step - loss: 0.3216 - accuracy: 0.8655: 0s - loss: 0.3252 - accuracy: 0.86\n",
      "Epoch 156/300\n",
      "80/80 [==============================] - 0s 1ms/step - loss: 0.3217 - accuracy: 0.8654\n",
      "Epoch 157/300\n",
      "80/80 [==============================] - 0s 1ms/step - loss: 0.3216 - accuracy: 0.8666\n",
      "Epoch 158/300\n",
      "80/80 [==============================] - 0s 2ms/step - loss: 0.3213 - accuracy: 0.8658\n",
      "Epoch 159/300\n",
      "80/80 [==============================] - 0s 1ms/step - loss: 0.3215 - accuracy: 0.8658\n",
      "Epoch 160/300\n",
      "80/80 [==============================] - 0s 1ms/step - loss: 0.3216 - accuracy: 0.8648\n",
      "Epoch 161/300\n",
      "80/80 [==============================] - 0s 1ms/step - loss: 0.3214 - accuracy: 0.8660\n",
      "Epoch 162/300\n",
      "80/80 [==============================] - 0s 1ms/step - loss: 0.3212 - accuracy: 0.8658\n",
      "Epoch 163/300\n",
      "80/80 [==============================] - 0s 1ms/step - loss: 0.3213 - accuracy: 0.8655\n",
      "Epoch 164/300\n",
      "80/80 [==============================] - 0s 1ms/step - loss: 0.3214 - accuracy: 0.8654\n",
      "Epoch 165/300\n",
      "80/80 [==============================] - 0s 1ms/step - loss: 0.3216 - accuracy: 0.8656\n",
      "Epoch 166/300\n",
      "80/80 [==============================] - 0s 1ms/step - loss: 0.3215 - accuracy: 0.8649\n",
      "Epoch 167/300\n",
      "80/80 [==============================] - 0s 1ms/step - loss: 0.3217 - accuracy: 0.8659\n",
      "Epoch 168/300\n",
      "80/80 [==============================] - 0s 1ms/step - loss: 0.3214 - accuracy: 0.8661\n",
      "Epoch 169/300\n",
      "80/80 [==============================] - 0s 1ms/step - loss: 0.3214 - accuracy: 0.8660\n",
      "Epoch 170/300\n",
      "80/80 [==============================] - 0s 1ms/step - loss: 0.3213 - accuracy: 0.8655\n",
      "Epoch 171/300\n",
      "80/80 [==============================] - 0s 1ms/step - loss: 0.3214 - accuracy: 0.8656\n",
      "Epoch 172/300\n",
      "80/80 [==============================] - 0s 1ms/step - loss: 0.3213 - accuracy: 0.8655\n",
      "Epoch 173/300\n",
      "80/80 [==============================] - 0s 2ms/step - loss: 0.3213 - accuracy: 0.8665\n",
      "Epoch 174/300\n",
      "80/80 [==============================] - 0s 2ms/step - loss: 0.3212 - accuracy: 0.8656\n",
      "Epoch 175/300\n",
      "80/80 [==============================] - 0s 1ms/step - loss: 0.3213 - accuracy: 0.8654\n",
      "Epoch 176/300\n",
      "80/80 [==============================] - 0s 1ms/step - loss: 0.3214 - accuracy: 0.8662\n",
      "Epoch 177/300\n",
      "80/80 [==============================] - 0s 1ms/step - loss: 0.3213 - accuracy: 0.8656\n",
      "Epoch 178/300\n",
      "80/80 [==============================] - 0s 1ms/step - loss: 0.3212 - accuracy: 0.8656\n",
      "Epoch 179/300\n",
      "80/80 [==============================] - 0s 1ms/step - loss: 0.3213 - accuracy: 0.8666\n",
      "Epoch 180/300\n",
      "80/80 [==============================] - 0s 1ms/step - loss: 0.3214 - accuracy: 0.8664\n",
      "Epoch 181/300\n",
      "80/80 [==============================] - 0s 1ms/step - loss: 0.3215 - accuracy: 0.8661\n",
      "Epoch 182/300\n",
      "80/80 [==============================] - 0s 1ms/step - loss: 0.3215 - accuracy: 0.8650\n",
      "Epoch 183/300\n",
      "80/80 [==============================] - 0s 1ms/step - loss: 0.3213 - accuracy: 0.8660\n",
      "Epoch 184/300\n",
      "80/80 [==============================] - 0s 1ms/step - loss: 0.3213 - accuracy: 0.8661\n",
      "Epoch 185/300\n",
      "80/80 [==============================] - 0s 1ms/step - loss: 0.3214 - accuracy: 0.8656\n",
      "Epoch 186/300\n",
      "80/80 [==============================] - 0s 1ms/step - loss: 0.3213 - accuracy: 0.8658\n",
      "Epoch 187/300\n",
      "80/80 [==============================] - 0s 1ms/step - loss: 0.3212 - accuracy: 0.8655\n",
      "Epoch 188/300\n",
      "80/80 [==============================] - 0s 1ms/step - loss: 0.3213 - accuracy: 0.8660\n",
      "Epoch 189/300\n",
      "80/80 [==============================] - 0s 1ms/step - loss: 0.3215 - accuracy: 0.8650\n",
      "Epoch 190/300\n",
      "80/80 [==============================] - 0s 1ms/step - loss: 0.3216 - accuracy: 0.8651\n",
      "Epoch 191/300\n",
      "80/80 [==============================] - 0s 1ms/step - loss: 0.3213 - accuracy: 0.8659\n",
      "Epoch 192/300\n",
      "80/80 [==============================] - 0s 1ms/step - loss: 0.3214 - accuracy: 0.8655\n",
      "Epoch 193/300\n",
      "80/80 [==============================] - 0s 1ms/step - loss: 0.3214 - accuracy: 0.8656\n",
      "Epoch 194/300\n",
      "80/80 [==============================] - 0s 1ms/step - loss: 0.3214 - accuracy: 0.8659\n",
      "Epoch 195/300\n",
      "80/80 [==============================] - 0s 1ms/step - loss: 0.3215 - accuracy: 0.8646\n",
      "Epoch 196/300\n",
      "80/80 [==============================] - 0s 1ms/step - loss: 0.3215 - accuracy: 0.8652\n",
      "Epoch 197/300\n",
      "80/80 [==============================] - 0s 1ms/step - loss: 0.3211 - accuracy: 0.8659\n",
      "Epoch 198/300\n",
      "80/80 [==============================] - 0s 1ms/step - loss: 0.3212 - accuracy: 0.8650\n",
      "Epoch 199/300\n",
      "80/80 [==============================] - 0s 1ms/step - loss: 0.3214 - accuracy: 0.8652\n",
      "Epoch 200/300\n",
      "80/80 [==============================] - 0s 1ms/step - loss: 0.3213 - accuracy: 0.8649\n",
      "Epoch 201/300\n",
      "80/80 [==============================] - 0s 1ms/step - loss: 0.3214 - accuracy: 0.8659\n",
      "Epoch 202/300\n",
      "80/80 [==============================] - 0s 1ms/step - loss: 0.3213 - accuracy: 0.8652\n",
      "Epoch 203/300\n",
      "80/80 [==============================] - 0s 2ms/step - loss: 0.3212 - accuracy: 0.8668\n",
      "Epoch 204/300\n",
      "80/80 [==============================] - 0s 2ms/step - loss: 0.3214 - accuracy: 0.8656\n",
      "Epoch 205/300\n",
      "80/80 [==============================] - 0s 1ms/step - loss: 0.3212 - accuracy: 0.8666\n",
      "Epoch 206/300\n",
      "80/80 [==============================] - 0s 1ms/step - loss: 0.3215 - accuracy: 0.8659\n",
      "Epoch 207/300\n",
      "80/80 [==============================] - 0s 1ms/step - loss: 0.3214 - accuracy: 0.8658\n",
      "Epoch 208/300\n",
      "80/80 [==============================] - 0s 1ms/step - loss: 0.3213 - accuracy: 0.8658\n",
      "Epoch 209/300\n",
      "80/80 [==============================] - 0s 1ms/step - loss: 0.3215 - accuracy: 0.8649\n",
      "Epoch 210/300\n",
      "80/80 [==============================] - 0s 1ms/step - loss: 0.3212 - accuracy: 0.8652\n",
      "Epoch 211/300\n",
      "80/80 [==============================] - 0s 1ms/step - loss: 0.3212 - accuracy: 0.8661\n",
      "Epoch 212/300\n",
      "80/80 [==============================] - 0s 1ms/step - loss: 0.3215 - accuracy: 0.8644\n",
      "Epoch 213/300\n",
      "80/80 [==============================] - 0s 1ms/step - loss: 0.3215 - accuracy: 0.8661\n",
      "Epoch 214/300\n",
      "80/80 [==============================] - 0s 1ms/step - loss: 0.3213 - accuracy: 0.8660\n",
      "Epoch 215/300\n",
      "80/80 [==============================] - 0s 1ms/step - loss: 0.3213 - accuracy: 0.8654\n",
      "Epoch 216/300\n",
      "80/80 [==============================] - 0s 1ms/step - loss: 0.3213 - accuracy: 0.8655\n",
      "Epoch 217/300\n",
      "80/80 [==============================] - 0s 1ms/step - loss: 0.3214 - accuracy: 0.8650\n",
      "Epoch 218/300\n",
      "80/80 [==============================] - 0s 1ms/step - loss: 0.3213 - accuracy: 0.8662\n",
      "Epoch 219/300\n",
      "80/80 [==============================] - 0s 1ms/step - loss: 0.3214 - accuracy: 0.8655\n",
      "Epoch 220/300\n",
      "80/80 [==============================] - 0s 1ms/step - loss: 0.3213 - accuracy: 0.8656\n",
      "Epoch 221/300\n",
      "80/80 [==============================] - 0s 1ms/step - loss: 0.3213 - accuracy: 0.8651\n",
      "Epoch 222/300\n",
      "80/80 [==============================] - 0s 2ms/step - loss: 0.3212 - accuracy: 0.8654\n",
      "Epoch 223/300\n",
      "80/80 [==============================] - 0s 1ms/step - loss: 0.3215 - accuracy: 0.8655\n",
      "Epoch 224/300\n",
      "80/80 [==============================] - 0s 2ms/step - loss: 0.3213 - accuracy: 0.8651\n",
      "Epoch 225/300\n",
      "80/80 [==============================] - 0s 2ms/step - loss: 0.3214 - accuracy: 0.8646\n",
      "Epoch 226/300\n",
      "80/80 [==============================] - 0s 1ms/step - loss: 0.3214 - accuracy: 0.8662\n",
      "Epoch 227/300\n",
      "80/80 [==============================] - 0s 1ms/step - loss: 0.3213 - accuracy: 0.8659\n",
      "Epoch 228/300\n",
      "80/80 [==============================] - 0s 1ms/step - loss: 0.3216 - accuracy: 0.8659\n",
      "Epoch 229/300\n",
      "80/80 [==============================] - 0s 1ms/step - loss: 0.3213 - accuracy: 0.8664\n",
      "Epoch 230/300\n",
      "80/80 [==============================] - 0s 1ms/step - loss: 0.3214 - accuracy: 0.8652\n",
      "Epoch 231/300\n",
      "80/80 [==============================] - 0s 1ms/step - loss: 0.3216 - accuracy: 0.8654\n",
      "Epoch 232/300\n",
      "80/80 [==============================] - 0s 1ms/step - loss: 0.3215 - accuracy: 0.8660\n",
      "Epoch 233/300\n",
      "80/80 [==============================] - 0s 1ms/step - loss: 0.3213 - accuracy: 0.8660\n",
      "Epoch 234/300\n",
      "80/80 [==============================] - 0s 1ms/step - loss: 0.3213 - accuracy: 0.8654\n",
      "Epoch 235/300\n",
      "80/80 [==============================] - 0s 1ms/step - loss: 0.3213 - accuracy: 0.8658\n",
      "Epoch 236/300\n",
      "80/80 [==============================] - 0s 1ms/step - loss: 0.3214 - accuracy: 0.8662\n",
      "Epoch 237/300\n",
      "80/80 [==============================] - 0s 1ms/step - loss: 0.3214 - accuracy: 0.8651\n",
      "Epoch 238/300\n",
      "80/80 [==============================] - 0s 1ms/step - loss: 0.3212 - accuracy: 0.8654\n",
      "Epoch 239/300\n",
      "80/80 [==============================] - 0s 1ms/step - loss: 0.3213 - accuracy: 0.8646\n",
      "Epoch 240/300\n",
      "80/80 [==============================] - 0s 1ms/step - loss: 0.3212 - accuracy: 0.8654\n",
      "Epoch 241/300\n",
      "80/80 [==============================] - 0s 1ms/step - loss: 0.3214 - accuracy: 0.8664\n",
      "Epoch 242/300\n",
      "80/80 [==============================] - 0s 1ms/step - loss: 0.3213 - accuracy: 0.8655\n",
      "Epoch 243/300\n",
      "80/80 [==============================] - 0s 2ms/step - loss: 0.3215 - accuracy: 0.8659\n",
      "Epoch 244/300\n",
      "80/80 [==============================] - 0s 2ms/step - loss: 0.3214 - accuracy: 0.8654\n",
      "Epoch 245/300\n",
      "80/80 [==============================] - 0s 1ms/step - loss: 0.3213 - accuracy: 0.8656\n",
      "Epoch 246/300\n",
      "80/80 [==============================] - 0s 1ms/step - loss: 0.3212 - accuracy: 0.8658\n",
      "Epoch 247/300\n",
      "80/80 [==============================] - 0s 1ms/step - loss: 0.3215 - accuracy: 0.8660\n",
      "Epoch 248/300\n",
      "80/80 [==============================] - 0s 1ms/step - loss: 0.3214 - accuracy: 0.8651\n",
      "Epoch 249/300\n",
      "80/80 [==============================] - 0s 1ms/step - loss: 0.3212 - accuracy: 0.8652\n",
      "Epoch 250/300\n",
      "80/80 [==============================] - 0s 1ms/step - loss: 0.3214 - accuracy: 0.8656\n",
      "Epoch 251/300\n",
      "80/80 [==============================] - 0s 1ms/step - loss: 0.3214 - accuracy: 0.8660\n",
      "Epoch 252/300\n",
      "80/80 [==============================] - 0s 1ms/step - loss: 0.3215 - accuracy: 0.8660\n",
      "Epoch 253/300\n",
      "80/80 [==============================] - 0s 1ms/step - loss: 0.3214 - accuracy: 0.8652\n",
      "Epoch 254/300\n",
      "80/80 [==============================] - 0s 1ms/step - loss: 0.3212 - accuracy: 0.8655\n",
      "Epoch 255/300\n",
      "80/80 [==============================] - 0s 1ms/step - loss: 0.3215 - accuracy: 0.8654\n",
      "Epoch 256/300\n",
      "80/80 [==============================] - 0s 1ms/step - loss: 0.3213 - accuracy: 0.8655\n",
      "Epoch 257/300\n",
      "80/80 [==============================] - 0s 2ms/step - loss: 0.3213 - accuracy: 0.8658\n",
      "Epoch 258/300\n",
      "80/80 [==============================] - 0s 2ms/step - loss: 0.3216 - accuracy: 0.8643\n",
      "Epoch 259/300\n",
      "80/80 [==============================] - 0s 1ms/step - loss: 0.3211 - accuracy: 0.8665\n",
      "Epoch 260/300\n",
      "80/80 [==============================] - 0s 1ms/step - loss: 0.3212 - accuracy: 0.8662\n",
      "Epoch 261/300\n",
      "80/80 [==============================] - 0s 1ms/step - loss: 0.3215 - accuracy: 0.8655\n",
      "Epoch 262/300\n",
      "80/80 [==============================] - 0s 1ms/step - loss: 0.3212 - accuracy: 0.8654\n",
      "Epoch 263/300\n",
      "80/80 [==============================] - 0s 1ms/step - loss: 0.3211 - accuracy: 0.8656\n",
      "Epoch 264/300\n",
      "80/80 [==============================] - 0s 1ms/step - loss: 0.3214 - accuracy: 0.8655\n",
      "Epoch 265/300\n",
      "80/80 [==============================] - 0s 1ms/step - loss: 0.3213 - accuracy: 0.8654\n",
      "Epoch 266/300\n",
      "80/80 [==============================] - 0s 1ms/step - loss: 0.3215 - accuracy: 0.8654\n",
      "Epoch 267/300\n",
      "80/80 [==============================] - 0s 1ms/step - loss: 0.3214 - accuracy: 0.8662\n",
      "Epoch 268/300\n",
      "80/80 [==============================] - 0s 1ms/step - loss: 0.3213 - accuracy: 0.8654\n",
      "Epoch 269/300\n",
      "80/80 [==============================] - 0s 1ms/step - loss: 0.3213 - accuracy: 0.8652\n",
      "Epoch 270/300\n",
      "80/80 [==============================] - 0s 1ms/step - loss: 0.3211 - accuracy: 0.8658\n",
      "Epoch 271/300\n",
      "80/80 [==============================] - 0s 1ms/step - loss: 0.3213 - accuracy: 0.8662\n",
      "Epoch 272/300\n",
      "80/80 [==============================] - 0s 1ms/step - loss: 0.3212 - accuracy: 0.8665\n",
      "Epoch 273/300\n",
      "80/80 [==============================] - 0s 1ms/step - loss: 0.3212 - accuracy: 0.8658\n",
      "Epoch 274/300\n",
      "80/80 [==============================] - 0s 1ms/step - loss: 0.3213 - accuracy: 0.8654\n",
      "Epoch 275/300\n",
      "80/80 [==============================] - 0s 1ms/step - loss: 0.3212 - accuracy: 0.8655\n",
      "Epoch 276/300\n",
      "80/80 [==============================] - 0s 1ms/step - loss: 0.3212 - accuracy: 0.8654\n",
      "Epoch 277/300\n",
      "80/80 [==============================] - 0s 1ms/step - loss: 0.3214 - accuracy: 0.8658\n",
      "Epoch 278/300\n",
      "80/80 [==============================] - 0s 1ms/step - loss: 0.3212 - accuracy: 0.8660\n",
      "Epoch 279/300\n",
      "80/80 [==============================] - 0s 1ms/step - loss: 0.3212 - accuracy: 0.8664\n",
      "Epoch 280/300\n",
      "80/80 [==============================] - 0s 2ms/step - loss: 0.3214 - accuracy: 0.8666\n",
      "Epoch 281/300\n",
      "80/80 [==============================] - 0s 1ms/step - loss: 0.3211 - accuracy: 0.8654\n",
      "Epoch 282/300\n",
      "80/80 [==============================] - 0s 1ms/step - loss: 0.3213 - accuracy: 0.8650\n",
      "Epoch 283/300\n",
      "80/80 [==============================] - 0s 1ms/step - loss: 0.3213 - accuracy: 0.8660\n",
      "Epoch 284/300\n",
      "80/80 [==============================] - 0s 1ms/step - loss: 0.3215 - accuracy: 0.8655\n",
      "Epoch 285/300\n",
      "80/80 [==============================] - 0s 1ms/step - loss: 0.3214 - accuracy: 0.8651\n",
      "Epoch 286/300\n",
      "80/80 [==============================] - 0s 1ms/step - loss: 0.3212 - accuracy: 0.8645\n",
      "Epoch 287/300\n",
      "80/80 [==============================] - 0s 1ms/step - loss: 0.3215 - accuracy: 0.8661\n",
      "Epoch 288/300\n",
      "80/80 [==============================] - 0s 1ms/step - loss: 0.3213 - accuracy: 0.8660\n",
      "Epoch 289/300\n",
      "80/80 [==============================] - 0s 1ms/step - loss: 0.3212 - accuracy: 0.8652\n",
      "Epoch 290/300\n",
      "80/80 [==============================] - 0s 1ms/step - loss: 0.3213 - accuracy: 0.8662\n",
      "Epoch 291/300\n",
      "80/80 [==============================] - 0s 1ms/step - loss: 0.3215 - accuracy: 0.8644\n",
      "Epoch 292/300\n",
      "80/80 [==============================] - 0s 2ms/step - loss: 0.3212 - accuracy: 0.8659\n",
      "Epoch 293/300\n",
      "80/80 [==============================] - 0s 1ms/step - loss: 0.3213 - accuracy: 0.8655\n",
      "Epoch 294/300\n",
      "80/80 [==============================] - 0s 1ms/step - loss: 0.3212 - accuracy: 0.8658\n",
      "Epoch 295/300\n",
      "80/80 [==============================] - 0s 1ms/step - loss: 0.3212 - accuracy: 0.8652\n",
      "Epoch 296/300\n",
      "80/80 [==============================] - 0s 1ms/step - loss: 0.3213 - accuracy: 0.8652\n",
      "Epoch 297/300\n",
      "80/80 [==============================] - 0s 1ms/step - loss: 0.3211 - accuracy: 0.8659\n",
      "Epoch 298/300\n",
      "80/80 [==============================] - 0s 1ms/step - loss: 0.3211 - accuracy: 0.8662\n",
      "Epoch 299/300\n",
      "80/80 [==============================] - 0s 2ms/step - loss: 0.3213 - accuracy: 0.8659\n",
      "Epoch 300/300\n",
      "80/80 [==============================] - 0s 1ms/step - loss: 0.3214 - accuracy: 0.8659\n"
     ]
    }
   ],
   "source": [
    "classifier_3 = classifier\n",
    "prueba_3 = classifier_3.fit(X_train, y_train, epochs=300, batch_size=100, verbose=1)"
   ]
  },
  {
   "cell_type": "code",
   "execution_count": 138,
   "id": "b6b4a8b4",
   "metadata": {},
   "outputs": [
    {
     "data": {
      "text/plain": [
       "0.8675"
      ]
     },
     "execution_count": 138,
     "metadata": {},
     "output_type": "execute_result"
    }
   ],
   "source": [
    "y_pred = classifier_3.predict(X_test)\n",
    "np.sum(y_test.reshape(1,-1) == np.rint(y_pred.reshape(1, -1)))/len(y_test)"
   ]
  },
  {
   "cell_type": "markdown",
   "id": "8eaba711",
   "metadata": {},
   "source": [
    "Obtenemos la misma precisión. Además, observamos la evolución de la misma durante el entrenamiento:"
   ]
  },
  {
   "cell_type": "code",
   "execution_count": 139,
   "id": "44960a63",
   "metadata": {},
   "outputs": [
    {
     "data": {
      "text/plain": [
       "[<matplotlib.lines.Line2D at 0x257db281a30>]"
      ]
     },
     "execution_count": 139,
     "metadata": {},
     "output_type": "execute_result"
    },
    {
     "data": {
      "image/png": "[encoded data removed]",
      "text/plain": [
       "<Figure size 432x288 with 1 Axes>"
      ]
     },
     "metadata": {
      "needs_background": "light"
     },
     "output_type": "display_data"
    }
   ],
   "source": [
    "plt.plot(prueba_3.history['accuracy'])"
   ]
  },
  {
   "cell_type": "markdown",
   "id": "8411a018",
   "metadata": {},
   "source": [
    "Se trata de un movimiento oscilante, incluso periódico. El modelo no es capaz de obtener valores mayores de precisión. Por lo tanto, no es un fallo de las épocas elegidas o el tamaño de la tanda, sino de la arquitectura del modelo en sí. Puede que no haya suficientes unidades ocultas. \n",
    "\n",
    "Recogemos los resultados de las pruebas obtenidas en la siguiente tabla:"
   ]
  },
  {
   "cell_type": "code",
   "execution_count": 143,
   "id": "e71bf81a",
   "metadata": {},
   "outputs": [
    {
     "data": {
      "text/html": [
       "<div>\n",
       "<style scoped>\n",
       "    .dataframe tbody tr th:only-of-type {\n",
       "        vertical-align: middle;\n",
       "    }\n",
       "\n",
       "    .dataframe tbody tr th {\n",
       "        vertical-align: top;\n",
       "    }\n",
       "\n",
       "    .dataframe thead th {\n",
       "        text-align: right;\n",
       "    }\n",
       "</style>\n",
       "<table border=\"1\" class=\"dataframe\">\n",
       "  <thead>\n",
       "    <tr style=\"text-align: right;\">\n",
       "      <th></th>\n",
       "      <th>Epochs</th>\n",
       "      <th>Batch size</th>\n",
       "      <th>Accuracy</th>\n",
       "    </tr>\n",
       "  </thead>\n",
       "  <tbody>\n",
       "    <tr>\n",
       "      <th>0</th>\n",
       "      <td>100</td>\n",
       "      <td>1</td>\n",
       "      <td>0.8640</td>\n",
       "    </tr>\n",
       "    <tr>\n",
       "      <th>1</th>\n",
       "      <td>100</td>\n",
       "      <td>100</td>\n",
       "      <td>0.8670</td>\n",
       "    </tr>\n",
       "    <tr>\n",
       "      <th>2</th>\n",
       "      <td>300</td>\n",
       "      <td>100</td>\n",
       "      <td>0.8675</td>\n",
       "    </tr>\n",
       "  </tbody>\n",
       "</table>\n",
       "</div>"
      ],
      "text/plain": [
       "   Epochs  Batch size  Accuracy\n",
       "0     100           1    0.8640\n",
       "1     100         100    0.8670\n",
       "2     300         100    0.8675"
      ]
     },
     "execution_count": 143,
     "metadata": {},
     "output_type": "execute_result"
    }
   ],
   "source": [
    "acc = [0.864, 0.867, 0.8675]\n",
    "epochs = [100, 100, 300]\n",
    "batch_size = [1, 100, 100]\n",
    "data = { \"Epochs\" : epochs, \"Batch size\" : batch_size,\"Accuracy\" : acc}\n",
    "pd.DataFrame(data)"
   ]
  },
  {
   "cell_type": "markdown",
   "id": "99fedef7",
   "metadata": {},
   "source": [
    "Vemos que los 3 casos nos dan el mismo resultado."
   ]
  },
  {
   "cell_type": "code",
   "execution_count": null,
   "id": "f60c0fdf",
   "metadata": {},
   "outputs": [],
   "source": []
  }
 ],
 "metadata": {
  "kernelspec": {
   "display_name": "tf",
   "language": "python",
   "name": "tf"
  },
  "language_info": {
   "codemirror_mode": {
    "name": "ipython",
    "version": 3
   },
   "file_extension": ".py",
   "mimetype": "text/x-python",
   "name": "python",
   "nbconvert_exporter": "python",
   "pygments_lexer": "ipython3",
   "version": "3.8.8"
  }
 },
 "nbformat": 4,
 "nbformat_minor": 5
}
