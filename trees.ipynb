{
 "cells": [
  {
   "cell_type": "code",
   "execution_count": 1,
   "id": "c73d5435-badf-4e60-bcc9-ac658ae0dba3",
   "metadata": {},
   "outputs": [],
   "source": [
    "import pandas as pd\n",
    "import numpy as np"
   ]
  },
  {
   "cell_type": "code",
   "execution_count": 2,
   "id": "fab8c963-0c36-47a6-8350-c96203f791ea",
   "metadata": {},
   "outputs": [],
   "source": [
    "data = pd.read_csv(\"krkopt.data\", header=None)"
   ]
  },
  {
   "cell_type": "code",
   "execution_count": 3,
   "id": "f26ea07c-fb45-496e-82ef-c918e92a0626",
   "metadata": {},
   "outputs": [
    {
     "name": "stdout",
     "output_type": "stream",
     "text": [
      "<class 'pandas.core.frame.DataFrame'>\n",
      "RangeIndex: 28056 entries, 0 to 28055\n",
      "Data columns (total 7 columns):\n",
      " #   Column  Non-Null Count  Dtype \n",
      "---  ------  --------------  ----- \n",
      " 0   0       28056 non-null  object\n",
      " 1   1       28056 non-null  int64 \n",
      " 2   2       28056 non-null  object\n",
      " 3   3       28056 non-null  int64 \n",
      " 4   4       28056 non-null  object\n",
      " 5   5       28056 non-null  int64 \n",
      " 6   6       28056 non-null  object\n",
      "dtypes: int64(3), object(4)\n",
      "memory usage: 1.5+ MB\n"
     ]
    }
   ],
   "source": [
    "data.info()"
   ]
  },
  {
   "cell_type": "code",
   "execution_count": 4,
   "id": "2e53c1b4-75dc-4d87-bb5b-995d9fe9c90d",
   "metadata": {},
   "outputs": [],
   "source": [
    "data.columns = [\"wkc\", \"wkr\", \"wrc\", \"wrr\", \"bkc\", \"bkr\", \"opt rank\" ]"
   ]
  },
  {
   "cell_type": "code",
   "execution_count": 5,
   "id": "ddd08383-af47-4ecc-a74c-60dada373956",
   "metadata": {},
   "outputs": [],
   "source": [
    "# data[[\"wkc\", \"wrc\", \"bkc\", \"opt rank\"]] = data[[\"wkc\", \"wrc\", \"bkc\", \"opt rank\"]].astype('string')"
   ]
  },
  {
   "cell_type": "code",
   "execution_count": 6,
   "id": "2a707234-0396-43db-9377-a1dc4cd750a4",
   "metadata": {},
   "outputs": [
    {
     "name": "stdout",
     "output_type": "stream",
     "text": [
      "<class 'pandas.core.frame.DataFrame'>\n",
      "RangeIndex: 28056 entries, 0 to 28055\n",
      "Data columns (total 7 columns):\n",
      " #   Column    Non-Null Count  Dtype \n",
      "---  ------    --------------  ----- \n",
      " 0   wkc       28056 non-null  object\n",
      " 1   wkr       28056 non-null  int64 \n",
      " 2   wrc       28056 non-null  object\n",
      " 3   wrr       28056 non-null  int64 \n",
      " 4   bkc       28056 non-null  object\n",
      " 5   bkr       28056 non-null  int64 \n",
      " 6   opt rank  28056 non-null  object\n",
      "dtypes: int64(3), object(4)\n",
      "memory usage: 1.5+ MB\n"
     ]
    }
   ],
   "source": [
    "data.info()"
   ]
  },
  {
   "cell_type": "code",
   "execution_count": 7,
   "id": "d8e43947-f0d9-4bf5-a867-c7b8b02460a9",
   "metadata": {},
   "outputs": [],
   "source": [
    "# X = data.iloc[:, 0:6]\n",
    "# y = data['opt rank']"
   ]
  },
  {
   "cell_type": "code",
   "execution_count": 8,
   "id": "5f0361b0-aefa-4e48-b84a-3cd8c556e100",
   "metadata": {},
   "outputs": [],
   "source": [
    "# X"
   ]
  },
  {
   "cell_type": "code",
   "execution_count": 9,
   "id": "50dae2d1-182c-4019-a45f-69d88c7060f3",
   "metadata": {},
   "outputs": [],
   "source": [
    "from sklearn.model_selection import train_test_split\n",
    "train, test = train_test_split(data, test_size=0.2)"
   ]
  },
  {
   "cell_type": "code",
   "execution_count": 10,
   "id": "2792257a-fe15-45d2-b360-2751fe5a91e2",
   "metadata": {},
   "outputs": [
    {
     "data": {
      "text/plain": [
       "((22444, 7), (5612, 7))"
      ]
     },
     "execution_count": 10,
     "metadata": {},
     "output_type": "execute_result"
    }
   ],
   "source": [
    "train.shape, test.shape"
   ]
  },
  {
   "cell_type": "code",
   "execution_count": 11,
   "id": "27a457a7-8025-4055-8ff3-809112836c69",
   "metadata": {},
   "outputs": [],
   "source": [
    "import tensorflow as tf"
   ]
  },
  {
   "cell_type": "code",
   "execution_count": 12,
   "id": "6288590b-2c80-4804-8274-c07cb0989946",
   "metadata": {},
   "outputs": [
    {
     "data": {
      "text/plain": [
       "'2.5.0'"
      ]
     },
     "execution_count": 12,
     "metadata": {},
     "output_type": "execute_result"
    }
   ],
   "source": [
    "tf.__version__"
   ]
  },
  {
   "cell_type": "code",
   "execution_count": 13,
   "id": "4fd4b2d4-1e82-44ba-a3a2-b41c5599ae03",
   "metadata": {},
   "outputs": [],
   "source": [
    "import tensorflow_decision_forests as tfdf"
   ]
  },
  {
   "cell_type": "code",
   "execution_count": 14,
   "id": "9c25ac67-9212-4fde-8baf-65f95a7170d5",
   "metadata": {},
   "outputs": [
    {
     "data": {
      "text/plain": [
       "'1.19.5'"
      ]
     },
     "execution_count": 14,
     "metadata": {},
     "output_type": "execute_result"
    }
   ],
   "source": [
    "np.version.version"
   ]
  },
  {
   "cell_type": "code",
   "execution_count": 15,
   "id": "bc1047b2-2ac9-4704-b835-d0c482694838",
   "metadata": {},
   "outputs": [],
   "source": [
    "train = tfdf.keras.pd_dataframe_to_tf_dataset(train, label=\"opt rank\")\n",
    "test = tfdf.keras.pd_dataframe_to_tf_dataset(test, label=\"opt rank\")"
   ]
  },
  {
   "cell_type": "code",
   "execution_count": 16,
   "id": "c49dae40-52e6-4804-977c-99cc955e7c2f",
   "metadata": {},
   "outputs": [
    {
     "data": {
      "text/plain": [
       "<BatchDataset shapes: ({wkc: (None,), wkr: (None,), wrc: (None,), wrr: (None,), bkc: (None,), bkr: (None,)}, (None,)), types: ({wkc: tf.string, wkr: tf.int64, wrc: tf.string, wrr: tf.int64, bkc: tf.string, bkr: tf.int64}, tf.int64)>"
      ]
     },
     "execution_count": 16,
     "metadata": {},
     "output_type": "execute_result"
    }
   ],
   "source": [
    "train"
   ]
  },
  {
   "cell_type": "code",
   "execution_count": 17,
   "id": "6bc4de29-2c41-4be6-a6ae-ae418247a8d9",
   "metadata": {},
   "outputs": [],
   "source": [
    "model = tfdf.keras.RandomForestModel()"
   ]
  },
  {
   "cell_type": "code",
   "execution_count": 18,
   "id": "84c39d26-3ede-4c00-a718-ff50b16ce887",
   "metadata": {},
   "outputs": [
    {
     "name": "stdout",
     "output_type": "stream",
     "text": [
      "351/351 [==============================] - 3s 989us/step\n"
     ]
    },
    {
     "data": {
      "text/plain": [
       "<tensorflow.python.keras.callbacks.History at 0x7fed41422160>"
      ]
     },
     "execution_count": 18,
     "metadata": {},
     "output_type": "execute_result"
    }
   ],
   "source": [
    "model.fit(train)"
   ]
  },
  {
   "cell_type": "code",
   "execution_count": 19,
   "id": "7d3b5a6e-5500-4254-ad6b-e38c66f4cded",
   "metadata": {},
   "outputs": [
    {
     "name": "stdout",
     "output_type": "stream",
     "text": [
      "Model: \"random_forest_model\"\n",
      "_________________________________________________________________\n",
      "Layer (type)                 Output Shape              Param #   \n",
      "=================================================================\n",
      "Total params: 1\n",
      "Trainable params: 0\n",
      "Non-trainable params: 1\n",
      "_________________________________________________________________\n",
      "Type: \"RANDOM_FOREST\"\n",
      "Task: CLASSIFICATION\n",
      "Label: \"__LABEL\"\n",
      "\n",
      "Input Features (6):\n",
      "\tbkc\n",
      "\tbkr\n",
      "\twkc\n",
      "\twkr\n",
      "\twrc\n",
      "\twrr\n",
      "\n",
      "No weights\n",
      "\n",
      "Variable Importance: NUM_NODES:\n",
      "    1. \"wrr\" 217805.000000 ################\n",
      "    2. \"wrc\" 164809.000000 ###########\n",
      "    3. \"bkr\" 118635.000000 #######\n",
      "    4. \"bkc\" 111789.000000 #######\n",
      "    5. \"wkc\" 50842.000000 ##\n",
      "    6. \"wkr\" 21767.000000 \n",
      "\n",
      "Variable Importance: NUM_AS_ROOT:\n",
      "    1. \"bkr\" 197.000000 ################\n",
      "    2. \"wkr\" 85.000000 ######\n",
      "    3. \"wkc\" 15.000000 \n",
      "    4. \"bkc\"  3.000000 \n",
      "\n",
      "Variable Importance: SUM_SCORE:\n",
      "    1. \"wrr\" 2951741.765141 ################\n",
      "    2. \"wrc\" 2797621.897747 ##############\n",
      "    3. \"bkr\" 2761827.488663 ##############\n",
      "    4. \"bkc\" 2522625.358567 ###########\n",
      "    5. \"wkr\" 1698721.792017 ###\n",
      "    6. \"wkc\" 1365927.494310 \n",
      "\n",
      "Variable Importance: MEAN_MIN_DEPTH:\n",
      "    1. \"__LABEL\" 12.352353 ################\n",
      "    2.     \"wrr\"  7.215869 #########\n",
      "    3.     \"wrc\"  5.552691 ######\n",
      "    4.     \"wkc\"  4.349205 #####\n",
      "    5.     \"wkr\"  2.241071 ##\n",
      "    6.     \"bkc\"  2.068916 ##\n",
      "    7.     \"bkr\"  0.523617 \n",
      "\n",
      "\n",
      "\n",
      "Winner take all: true\n",
      "Out-of-bag evaluation: accuracy:0.763946 logloss:0.750141\n",
      "Number of trees: 300\n",
      "Total number of nodes: 1371594\n",
      "\n",
      "Number of nodes by tree:\n",
      "Count: 300 Average: 4571.98 StdDev: 80.7253\n",
      "Min: 4351 Max: 4775 Ignored: 0\n",
      "----------------------------------------------\n",
      "[ 4351, 4372)  3   1.00%   1.00% #\n",
      "[ 4372, 4393)  4   1.33%   2.33% #\n",
      "[ 4393, 4414)  1   0.33%   2.67%\n",
      "[ 4414, 4436)  4   1.33%   4.00% #\n",
      "[ 4436, 4457)  6   2.00%   6.00% ##\n",
      "[ 4457, 4478) 21   7.00%  13.00% ######\n",
      "[ 4478, 4499) 15   5.00%  18.00% ####\n",
      "[ 4499, 4521) 25   8.33%  26.33% #######\n",
      "[ 4521, 4542) 31  10.33%  36.67% #########\n",
      "[ 4542, 4563) 22   7.33%  44.00% ######\n",
      "[ 4563, 4584) 34  11.33%  55.33% ##########\n",
      "[ 4584, 4606) 30  10.00%  65.33% #########\n",
      "[ 4606, 4627) 33  11.00%  76.33% ##########\n",
      "[ 4627, 4648) 21   7.00%  83.33% ######\n",
      "[ 4648, 4669) 18   6.00%  89.33% #####\n",
      "[ 4669, 4691)  9   3.00%  92.33% ###\n",
      "[ 4691, 4712)  8   2.67%  95.00% ##\n",
      "[ 4712, 4733)  7   2.33%  97.33% ##\n",
      "[ 4733, 4754)  4   1.33%  98.67% #\n",
      "[ 4754, 4775]  4   1.33% 100.00% #\n",
      "\n",
      "Depth by leafs:\n",
      "Count: 685947 Average: 12.3523 StdDev: 1.81501\n",
      "Min: 5 Max: 15 Ignored: 0\n",
      "----------------------------------------------\n",
      "[  5,  6)      3   0.00%   0.00%\n",
      "[  6,  7)    187   0.03%   0.03%\n",
      "[  7,  8)   2034   0.30%   0.32%\n",
      "[  8,  9)  10783   1.57%   1.90% #\n",
      "[  9, 10)  31318   4.57%   6.46% ##\n",
      "[ 10, 11)  69238  10.09%  16.56% #####\n",
      "[ 11, 12) 109171  15.92%  32.47% ########\n",
      "[ 12, 13) 130157  18.97%  51.45% ##########\n",
      "[ 13, 14) 128185  18.69%  70.13% ##########\n",
      "[ 14, 15) 105085  15.32%  85.45% ########\n",
      "[ 15, 15]  99786  14.55% 100.00% ########\n",
      "\n",
      "Number of training obs by leaf:\n",
      "Count: 685947 Average: 9.81592 StdDev: 10.3275\n",
      "Min: 5 Max: 265 Ignored: 0\n",
      "----------------------------------------------\n",
      "[   5,  18) 627359  91.46%  91.46% ##########\n",
      "[  18,  31)  36656   5.34%  96.80% #\n",
      "[  31,  44)  11355   1.66%  98.46%\n",
      "[  44,  57)   4833   0.70%  99.16%\n",
      "[  57,  70)   2345   0.34%  99.50%\n",
      "[  70,  83)   1164   0.17%  99.67%\n",
      "[  83,  96)    750   0.11%  99.78%\n",
      "[  96, 109)    345   0.05%  99.83%\n",
      "[ 109, 122)    202   0.03%  99.86%\n",
      "[ 122, 135)    184   0.03%  99.89%\n",
      "[ 135, 148)    189   0.03%  99.92%\n",
      "[ 148, 161)    139   0.02%  99.94%\n",
      "[ 161, 174)     90   0.01%  99.95%\n",
      "[ 174, 187)    103   0.02%  99.97%\n",
      "[ 187, 200)    118   0.02%  99.98%\n",
      "[ 200, 213)     83   0.01% 100.00%\n",
      "[ 213, 226)     25   0.00% 100.00%\n",
      "[ 226, 239)      4   0.00% 100.00%\n",
      "[ 239, 252)      1   0.00% 100.00%\n",
      "[ 252, 265]      2   0.00% 100.00%\n",
      "\n",
      "Attribute in nodes:\n",
      "\t217805 : wrr [NUMERICAL]\n",
      "\t164809 : wrc [CATEGORICAL]\n",
      "\t118635 : bkr [NUMERICAL]\n",
      "\t111789 : bkc [CATEGORICAL]\n",
      "\t50842 : wkc [CATEGORICAL]\n",
      "\t21767 : wkr [NUMERICAL]\n",
      "\n",
      "Attribute in nodes with depth <= 0:\n",
      "\t197 : bkr [NUMERICAL]\n",
      "\t85 : wkr [NUMERICAL]\n",
      "\t15 : wkc [CATEGORICAL]\n",
      "\t3 : bkc [CATEGORICAL]\n",
      "\n",
      "Attribute in nodes with depth <= 1:\n",
      "\t325 : bkr [NUMERICAL]\n",
      "\t230 : wkr [NUMERICAL]\n",
      "\t175 : bkc [CATEGORICAL]\n",
      "\t163 : wkc [CATEGORICAL]\n",
      "\t7 : wrr [NUMERICAL]\n",
      "\n",
      "Attribute in nodes with depth <= 2:\n",
      "\t671 : bkc [CATEGORICAL]\n",
      "\t486 : bkr [NUMERICAL]\n",
      "\t467 : wkr [NUMERICAL]\n",
      "\t371 : wkc [CATEGORICAL]\n",
      "\t94 : wrr [NUMERICAL]\n",
      "\t11 : wrc [CATEGORICAL]\n",
      "\n",
      "Attribute in nodes with depth <= 3:\n",
      "\t1221 : bkc [CATEGORICAL]\n",
      "\t956 : wkr [NUMERICAL]\n",
      "\t850 : wkc [CATEGORICAL]\n",
      "\t834 : bkr [NUMERICAL]\n",
      "\t412 : wrr [NUMERICAL]\n",
      "\t227 : wrc [CATEGORICAL]\n",
      "\n",
      "Attribute in nodes with depth <= 5:\n",
      "\t4303 : wrc [CATEGORICAL]\n",
      "\t3463 : bkc [CATEGORICAL]\n",
      "\t3074 : bkr [NUMERICAL]\n",
      "\t2861 : wkc [CATEGORICAL]\n",
      "\t2775 : wrr [NUMERICAL]\n",
      "\t2421 : wkr [NUMERICAL]\n",
      "\n",
      "Condition type in nodes:\n",
      "\t358207 : HigherCondition\n",
      "\t327440 : ContainsBitmapCondition\n",
      "Condition type in nodes with depth <= 0:\n",
      "\t282 : HigherCondition\n",
      "\t18 : ContainsBitmapCondition\n",
      "Condition type in nodes with depth <= 1:\n",
      "\t562 : HigherCondition\n",
      "\t338 : ContainsBitmapCondition\n",
      "Condition type in nodes with depth <= 2:\n",
      "\t1053 : ContainsBitmapCondition\n",
      "\t1047 : HigherCondition\n",
      "Condition type in nodes with depth <= 3:\n",
      "\t2298 : ContainsBitmapCondition\n",
      "\t2202 : HigherCondition\n",
      "Condition type in nodes with depth <= 5:\n",
      "\t10627 : ContainsBitmapCondition\n",
      "\t8270 : HigherCondition\n",
      "\n",
      "Training OOB:\n",
      "\ttrees: 1, Out-of-bag evaluation: accuracy:0.63665 logloss:13.0965\n",
      "\ttrees: 11, Out-of-bag evaluation: accuracy:0.697497 logloss:4.93219\n",
      "\ttrees: 21, Out-of-bag evaluation: accuracy:0.728111 logloss:2.70714\n",
      "\ttrees: 31, Out-of-bag evaluation: accuracy:0.738906 logloss:1.96113\n",
      "\ttrees: 41, Out-of-bag evaluation: accuracy:0.745856 logloss:1.57919\n",
      "\ttrees: 51, Out-of-bag evaluation: accuracy:0.748752 logloss:1.36276\n",
      "\ttrees: 61, Out-of-bag evaluation: accuracy:0.752495 logloss:1.22899\n",
      "\ttrees: 71, Out-of-bag evaluation: accuracy:0.754857 logloss:1.14546\n",
      "\ttrees: 81, Out-of-bag evaluation: accuracy:0.756817 logloss:1.06908\n",
      "\ttrees: 91, Out-of-bag evaluation: accuracy:0.757708 logloss:1.01677\n",
      "\ttrees: 101, Out-of-bag evaluation: accuracy:0.759891 logloss:0.987157\n",
      "\ttrees: 111, Out-of-bag evaluation: accuracy:0.761406 logloss:0.945177\n",
      "\ttrees: 121, Out-of-bag evaluation: accuracy:0.761896 logloss:0.904972\n",
      "\ttrees: 131, Out-of-bag evaluation: accuracy:0.762654 logloss:0.888208\n",
      "\ttrees: 141, Out-of-bag evaluation: accuracy:0.763144 logloss:0.877932\n",
      "\ttrees: 151, Out-of-bag evaluation: accuracy:0.762119 logloss:0.866157\n",
      "\ttrees: 161, Out-of-bag evaluation: accuracy:0.762565 logloss:0.852643\n",
      "\ttrees: 171, Out-of-bag evaluation: accuracy:0.761941 logloss:0.842697\n",
      "\ttrees: 181, Out-of-bag evaluation: accuracy:0.761718 logloss:0.8334\n",
      "\ttrees: 191, Out-of-bag evaluation: accuracy:0.761896 logloss:0.82166\n",
      "\ttrees: 201, Out-of-bag evaluation: accuracy:0.762164 logloss:0.80875\n",
      "\ttrees: 211, Out-of-bag evaluation: accuracy:0.761763 logloss:0.804167\n",
      "\ttrees: 221, Out-of-bag evaluation: accuracy:0.761852 logloss:0.798366\n",
      "\ttrees: 231, Out-of-bag evaluation: accuracy:0.762743 logloss:0.789862\n",
      "\ttrees: 241, Out-of-bag evaluation: accuracy:0.762743 logloss:0.785281\n",
      "\ttrees: 251, Out-of-bag evaluation: accuracy:0.762164 logloss:0.779161\n",
      "\ttrees: 261, Out-of-bag evaluation: accuracy:0.763233 logloss:0.774808\n",
      "\ttrees: 271, Out-of-bag evaluation: accuracy:0.762832 logloss:0.764863\n",
      "\ttrees: 281, Out-of-bag evaluation: accuracy:0.764124 logloss:0.763091\n",
      "\ttrees: 291, Out-of-bag evaluation: accuracy:0.763946 logloss:0.758952\n",
      "\ttrees: 300, Out-of-bag evaluation: accuracy:0.763946 logloss:0.750141\n",
      "\n"
     ]
    }
   ],
   "source": [
    "model.summary()"
   ]
  },
  {
   "cell_type": "code",
   "execution_count": 20,
   "id": "e2168539-b715-4f85-83d4-e37bd3b74213",
   "metadata": {},
   "outputs": [
    {
     "name": "stdout",
     "output_type": "stream",
     "text": [
      "88/88 [==============================] - 1s 11ms/step - loss: 0.0000e+00 - accuracy: 0.7641\n",
      "[0.0, 0.7640769481658936]\n"
     ]
    }
   ],
   "source": [
    "model.compile(metrics=[\"accuracy\"])\n",
    "print(model.evaluate(test))\n"
   ]
  },
  {
   "cell_type": "code",
   "execution_count": 21,
   "id": "aa3617f3-b88d-4d25-b55c-692225ca49f9",
   "metadata": {},
   "outputs": [
    {
     "ename": "NameError",
     "evalue": "name 'pred' is not defined",
     "output_type": "error",
     "traceback": [
      "\u001b[0;31m---------------------------------------------------------------------------\u001b[0m",
      "\u001b[0;31mNameError\u001b[0m                                 Traceback (most recent call last)",
      "\u001b[0;32m<ipython-input-21-c6fc79dbd350>\u001b[0m in \u001b[0;36m<module>\u001b[0;34m\u001b[0m\n\u001b[0;32m----> 1\u001b[0;31m \u001b[0mpred\u001b[0m\u001b[0;34m\u001b[0m\u001b[0;34m\u001b[0m\u001b[0m\n\u001b[0m",
      "\u001b[0;31mNameError\u001b[0m: name 'pred' is not defined"
     ]
    }
   ],
   "source": [
    "pred"
   ]
  },
  {
   "cell_type": "code",
   "execution_count": null,
   "id": "0d09f6b4-bfcc-48db-b932-a4cd1d2ed20c",
   "metadata": {},
   "outputs": [],
   "source": [
    "tfdf.model_plotter.plot_model_in_colab(model, tree_idx=0)"
   ]
  },
  {
   "cell_type": "code",
   "execution_count": null,
   "id": "b527dcd5-587b-4712-8dd6-7a9cd2cfb9c1",
   "metadata": {},
   "outputs": [],
   "source": [
    "# List all the other available learning algorithms\n",
    "# tfdf.keras.get_all_models()\n",
    "\n",
    "# ? tfdf.keras.GradientBoostedTreesModel\n",
    "\n",
    "\n",
    "# Create another model with specified hyper-parameters\n",
    "model = tfdf.keras.GradientBoostedTreesModel(\n",
    "    num_trees=500,\n",
    "    growing_strategy=\"BEST_FIRST_GLOBAL\",\n",
    "    max_depth=8,\n",
    "    split_axis=\"SPARSE_OBLIQUE\"\n",
    "    )\n",
    "model.fit(train)\n",
    "\n"
   ]
  },
  {
   "cell_type": "code",
   "execution_count": null,
   "id": "e6d74b0f-77a9-49f4-a74f-48e8a0c0ded9",
   "metadata": {},
   "outputs": [],
   "source": [
    "# Evaluate the model\n",
    "model.compile(metrics=[\"accuracy\"])\n",
    "print(model.evaluate(test))"
   ]
  },
  {
   "cell_type": "code",
   "execution_count": null,
   "id": "4e47f3dc-4aa9-4c52-9341-d222888a070a",
   "metadata": {},
   "outputs": [],
   "source": [
    "tfdf.keras.GradientBoostedTreesModel?"
   ]
  },
  {
   "cell_type": "code",
   "execution_count": null,
   "id": "ff0bc498-818d-4466-887d-3cf717548611",
   "metadata": {},
   "outputs": [],
   "source": []
  }
 ],
 "metadata": {
  "kernelspec": {
   "display_name": "tf2.5",
   "language": "python",
   "name": "tf2.5"
  },
  "language_info": {
   "codemirror_mode": {
    "name": "ipython",
    "version": 3
   },
   "file_extension": ".py",
   "mimetype": "text/x-python",
   "name": "python",
   "nbconvert_exporter": "python",
   "pygments_lexer": "ipython3",
   "version": "3.8.10"
  }
 },
 "nbformat": 4,
 "nbformat_minor": 5
}
