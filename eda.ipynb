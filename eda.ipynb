{
 "cells": [
  {
   "cell_type": "code",
   "execution_count": 1,
   "id": "3ff4a541-8415-430a-8b15-79fe76e0bc77",
   "metadata": {},
   "outputs": [],
   "source": [
    "import pandas as pd\n",
    "import numpy as np\n",
    "import matplotlib.pyplot as plt\n",
    "import seaborn as sns"
   ]
  },
  {
   "cell_type": "code",
   "execution_count": null,
   "id": "0ff975e5-a540-4562-8322-7b68b886f4e9",
   "metadata": {},
   "outputs": [],
   "source": []
  },
  {
   "cell_type": "code",
   "execution_count": 2,
   "id": "b30509f3-68e9-427c-8f82-c64a30f0e21d",
   "metadata": {},
   "outputs": [],
   "source": [
    "data = pd.read_csv(\"krkopt.data\", header=None)\n",
    "data.columns = [\"wkc\", \"wkr\", \"wrc\", \"wrr\", \"bkc\", \"bkr\", \"opt rank\" ]\n"
   ]
  },
  {
   "cell_type": "code",
   "execution_count": 3,
   "id": "a1ff1453-6512-482b-ae0d-a28b9e21c188",
   "metadata": {},
   "outputs": [
    {
     "data": {
      "text/html": [
       "<div>\n",
       "<style scoped>\n",
       "    .dataframe tbody tr th:only-of-type {\n",
       "        vertical-align: middle;\n",
       "    }\n",
       "\n",
       "    .dataframe tbody tr th {\n",
       "        vertical-align: top;\n",
       "    }\n",
       "\n",
       "    .dataframe thead th {\n",
       "        text-align: right;\n",
       "    }\n",
       "</style>\n",
       "<table border=\"1\" class=\"dataframe\">\n",
       "  <thead>\n",
       "    <tr style=\"text-align: right;\">\n",
       "      <th></th>\n",
       "      <th>wkc</th>\n",
       "      <th>wkr</th>\n",
       "      <th>wrc</th>\n",
       "      <th>wrr</th>\n",
       "      <th>bkc</th>\n",
       "      <th>bkr</th>\n",
       "      <th>opt rank</th>\n",
       "    </tr>\n",
       "  </thead>\n",
       "  <tbody>\n",
       "    <tr>\n",
       "      <th>0</th>\n",
       "      <td>a</td>\n",
       "      <td>1</td>\n",
       "      <td>b</td>\n",
       "      <td>3</td>\n",
       "      <td>c</td>\n",
       "      <td>2</td>\n",
       "      <td>draw</td>\n",
       "    </tr>\n",
       "    <tr>\n",
       "      <th>1</th>\n",
       "      <td>a</td>\n",
       "      <td>1</td>\n",
       "      <td>c</td>\n",
       "      <td>1</td>\n",
       "      <td>c</td>\n",
       "      <td>2</td>\n",
       "      <td>draw</td>\n",
       "    </tr>\n",
       "    <tr>\n",
       "      <th>2</th>\n",
       "      <td>a</td>\n",
       "      <td>1</td>\n",
       "      <td>c</td>\n",
       "      <td>1</td>\n",
       "      <td>d</td>\n",
       "      <td>1</td>\n",
       "      <td>draw</td>\n",
       "    </tr>\n",
       "    <tr>\n",
       "      <th>3</th>\n",
       "      <td>a</td>\n",
       "      <td>1</td>\n",
       "      <td>c</td>\n",
       "      <td>1</td>\n",
       "      <td>d</td>\n",
       "      <td>2</td>\n",
       "      <td>draw</td>\n",
       "    </tr>\n",
       "    <tr>\n",
       "      <th>4</th>\n",
       "      <td>a</td>\n",
       "      <td>1</td>\n",
       "      <td>c</td>\n",
       "      <td>2</td>\n",
       "      <td>c</td>\n",
       "      <td>1</td>\n",
       "      <td>draw</td>\n",
       "    </tr>\n",
       "    <tr>\n",
       "      <th>...</th>\n",
       "      <td>...</td>\n",
       "      <td>...</td>\n",
       "      <td>...</td>\n",
       "      <td>...</td>\n",
       "      <td>...</td>\n",
       "      <td>...</td>\n",
       "      <td>...</td>\n",
       "    </tr>\n",
       "    <tr>\n",
       "      <th>28051</th>\n",
       "      <td>b</td>\n",
       "      <td>1</td>\n",
       "      <td>g</td>\n",
       "      <td>7</td>\n",
       "      <td>e</td>\n",
       "      <td>5</td>\n",
       "      <td>sixteen</td>\n",
       "    </tr>\n",
       "    <tr>\n",
       "      <th>28052</th>\n",
       "      <td>b</td>\n",
       "      <td>1</td>\n",
       "      <td>g</td>\n",
       "      <td>7</td>\n",
       "      <td>e</td>\n",
       "      <td>6</td>\n",
       "      <td>sixteen</td>\n",
       "    </tr>\n",
       "    <tr>\n",
       "      <th>28053</th>\n",
       "      <td>b</td>\n",
       "      <td>1</td>\n",
       "      <td>g</td>\n",
       "      <td>7</td>\n",
       "      <td>e</td>\n",
       "      <td>7</td>\n",
       "      <td>sixteen</td>\n",
       "    </tr>\n",
       "    <tr>\n",
       "      <th>28054</th>\n",
       "      <td>b</td>\n",
       "      <td>1</td>\n",
       "      <td>g</td>\n",
       "      <td>7</td>\n",
       "      <td>f</td>\n",
       "      <td>5</td>\n",
       "      <td>sixteen</td>\n",
       "    </tr>\n",
       "    <tr>\n",
       "      <th>28055</th>\n",
       "      <td>b</td>\n",
       "      <td>1</td>\n",
       "      <td>g</td>\n",
       "      <td>7</td>\n",
       "      <td>g</td>\n",
       "      <td>5</td>\n",
       "      <td>sixteen</td>\n",
       "    </tr>\n",
       "  </tbody>\n",
       "</table>\n",
       "<p>28056 rows × 7 columns</p>\n",
       "</div>"
      ],
      "text/plain": [
       "      wkc  wkr wrc  wrr bkc  bkr opt rank\n",
       "0       a    1   b    3   c    2     draw\n",
       "1       a    1   c    1   c    2     draw\n",
       "2       a    1   c    1   d    1     draw\n",
       "3       a    1   c    1   d    2     draw\n",
       "4       a    1   c    2   c    1     draw\n",
       "...    ..  ...  ..  ...  ..  ...      ...\n",
       "28051   b    1   g    7   e    5  sixteen\n",
       "28052   b    1   g    7   e    6  sixteen\n",
       "28053   b    1   g    7   e    7  sixteen\n",
       "28054   b    1   g    7   f    5  sixteen\n",
       "28055   b    1   g    7   g    5  sixteen\n",
       "\n",
       "[28056 rows x 7 columns]"
      ]
     },
     "execution_count": 3,
     "metadata": {},
     "output_type": "execute_result"
    }
   ],
   "source": [
    "data"
   ]
  },
  {
   "cell_type": "code",
   "execution_count": 8,
   "id": "65f8fd85-0e7b-444d-8dee-362b99b1cfee",
   "metadata": {},
   "outputs": [
    {
     "data": {
      "text/plain": [
       "<AxesSubplot:xlabel='opt rank', ylabel='count'>"
      ]
     },
     "execution_count": 8,
     "metadata": {},
     "output_type": "execute_result"
    },
    {
     "data": {
      "image/png": "[encoded data removed]",
      "text/plain": [
       "<Figure size 432x288 with 1 Axes>"
      ]
     },
     "metadata": {
      "needs_background": "light"
     },
     "output_type": "display_data"
    }
   ],
   "source": [
    "plt.xticks(rotation=45)\n",
    "sns.countplot(x='opt rank',\n",
    "             data=data)"
   ]
  },
  {
   "cell_type": "code",
   "execution_count": 195,
   "id": "e5228191-de55-4df2-86e5-3e2668aee001",
   "metadata": {},
   "outputs": [
    {
     "name": "stdout",
     "output_type": "stream",
     "text": [
      "Class=draw, n=2796 (9.966%)\n",
      "Class=zero, n=27 (0.096%)\n",
      "Class=one, n=78 (0.278%)\n",
      "Class=two, n=246 (0.877%)\n",
      "Class=three, n=81 (0.289%)\n",
      "Class=four, n=198 (0.706%)\n",
      "Class=five, n=471 (1.679%)\n",
      "Class=six, n=592 (2.110%)\n",
      "Class=seven, n=683 (2.434%)\n",
      "Class=eight, n=1433 (5.108%)\n",
      "Class=nine, n=1712 (6.102%)\n",
      "Class=ten, n=1985 (7.075%)\n",
      "Class=eleven, n=2854 (10.173%)\n",
      "Class=twelve, n=3597 (12.821%)\n",
      "Class=thirteen, n=4194 (14.949%)\n",
      "Class=fourteen, n=4553 (16.228%)\n",
      "Class=fifteen, n=2166 (7.720%)\n",
      "Class=sixteen, n=390 (1.390%)\n"
     ]
    }
   ],
   "source": [
    "from collections import Counter\n",
    "counter = Counter(data['opt rank'])\n",
    "for k,v in counter.items():\n",
    "\tper = v / len(data['opt rank']) * 100\n",
    "\tprint('Class=%s, n=%d (%.3f%%)' % (k, v, per))"
   ]
  },
  {
   "cell_type": "code",
   "execution_count": 178,
   "id": "94bc4c5f-8979-4201-961c-7800de46bd0a",
   "metadata": {},
   "outputs": [
    {
     "data": {
      "image/png": "[encoded data removed]",
      "text/plain": [
       "<Figure size 864x864 with 6 Axes>"
      ]
     },
     "metadata": {
      "needs_background": "light"
     },
     "output_type": "display_data"
    }
   ],
   "source": [
    "f, ax = plt.subplots(2,3, figsize=(12,12) )\n",
    "sns.countplot(ax= ax[0,0], x='wkc',\n",
    "             data=data)\n",
    "sns.countplot(ax= ax[0,1], x='wkr',\n",
    "             data=data)\n",
    "sns.countplot(ax= ax[0,2], x='wrc',\n",
    "             data=data)\n",
    "sns.countplot(ax= ax[1,0], x='wrr',\n",
    "             data=data)\n",
    "sns.countplot(ax= ax[1,1], x='bkc',\n",
    "             data=data)\n",
    "sns.countplot(ax= ax[1,2], x='bkr',\n",
    "             data=data)\n",
    "\n",
    "\n",
    "ax[0,0].set_title(\"wkc\")\n",
    "ax[0,1].set_title(\"wkr\")\n",
    "ax[0,2].set_title(\"wrc\")\n",
    "ax[1,0].set_title(\"wrr\")\n",
    "ax[0,1].set_title(\"bkc\")\n",
    "ax[0,2].set_title(\"bkr\")\n",
    "\n",
    "plt.tight_layout()\n",
    "plt.savefig('foo.pdf', transparent=True)"
   ]
  },
  {
   "cell_type": "code",
   "execution_count": 53,
   "id": "42667441-bbda-489f-9e1b-3b3d6fbf5b7d",
   "metadata": {},
   "outputs": [],
   "source": [
    "data_aux = data.copy()"
   ]
  },
  {
   "cell_type": "code",
   "execution_count": 67,
   "id": "02203077-caad-41fd-9cce-06162c39b2fe",
   "metadata": {},
   "outputs": [],
   "source": [
    "data_aux[['wkc', 'wrc', 'bkc']] = data_aux[['wkc', 'wrc', 'bkc']].astype('category')\n",
    "\n",
    "data_aux['wkc'] = data_aux['wkc'].cat.codes\n",
    "data_aux['wrc'] = data_aux['wrc'].cat.codes\n",
    "data_aux['bkc'] = data_aux['bkc'].cat.codes\n"
   ]
  },
  {
   "cell_type": "code",
   "execution_count": 68,
   "id": "33ffc9a8-f770-4974-80c6-9face7618642",
   "metadata": {},
   "outputs": [
    {
     "data": {
      "text/plain": [
       "wkc           int8\n",
       "wkr          int64\n",
       "wrc           int8\n",
       "wrr          int64\n",
       "bkc           int8\n",
       "bkr          int64\n",
       "opt rank    object\n",
       "dtype: object"
      ]
     },
     "execution_count": 68,
     "metadata": {},
     "output_type": "execute_result"
    }
   ],
   "source": [
    "data_aux.dtypes"
   ]
  },
  {
   "cell_type": "code",
   "execution_count": 69,
   "id": "28a5981b-7985-4613-b24c-48e2190d8897",
   "metadata": {},
   "outputs": [],
   "source": [
    "from sklearn.ensemble import RandomForestClassifier\n",
    "from sklearn.model_selection import train_test_split\n",
    "\n",
    "X_train, X_test, y_train, y_test = train_test_split(data_aux.drop(\"opt rank\", axis=1), data_aux['opt rank']\n",
    "                                                    ,test_size=0.2)"
   ]
  },
  {
   "cell_type": "code",
   "execution_count": 70,
   "id": "7a412eb2-a3b2-4c3f-ab57-af16d7cd9a2b",
   "metadata": {},
   "outputs": [],
   "source": [
    "feature_names = [f'feature {i}' for i in range(data_aux.drop('opt rank', axis=1).shape[1])]"
   ]
  },
  {
   "cell_type": "code",
   "execution_count": 71,
   "id": "70a2f52b-cd38-478d-8540-9c59554b78a9",
   "metadata": {},
   "outputs": [
    {
     "data": {
      "text/plain": [
       "['feature 0', 'feature 1', 'feature 2', 'feature 3', 'feature 4', 'feature 5']"
      ]
     },
     "execution_count": 71,
     "metadata": {},
     "output_type": "execute_result"
    }
   ],
   "source": [
    "feature_names"
   ]
  },
  {
   "cell_type": "code",
   "execution_count": 72,
   "id": "fb85f21e-d255-4283-8f2e-95797f9e6b4b",
   "metadata": {},
   "outputs": [
    {
     "data": {
      "text/plain": [
       "RandomForestClassifier(random_state=0)"
      ]
     },
     "execution_count": 72,
     "metadata": {},
     "output_type": "execute_result"
    }
   ],
   "source": [
    "forest = RandomForestClassifier(random_state=0)\n",
    "forest.fit(X_train, y_train)"
   ]
  },
  {
   "cell_type": "code",
   "execution_count": 73,
   "id": "0bbfbf85-d0f4-447b-a949-b09979fdf798",
   "metadata": {},
   "outputs": [],
   "source": [
    "importances = forest.feature_importances_\n",
    "std = np.std([\n",
    "    tree.feature_importances_ for tree in forest.estimators_], axis=0)"
   ]
  },
  {
   "cell_type": "code",
   "execution_count": 99,
   "id": "7609b0da-bba4-4951-9230-87ea7cde1a95",
   "metadata": {},
   "outputs": [
    {
     "data": {
      "image/png": "[encoded data removed]",
      "text/plain": [
       "<Figure size 432x288 with 1 Axes>"
      ]
     },
     "metadata": {
      "needs_background": "light"
     },
     "output_type": "display_data"
    }
   ],
   "source": [
    "forest_importances = pd.Series(importances, index=feature_names)\n",
    "\n",
    "fig, ax = plt.subplots()\n",
    "forest_importances.plot.bar(yerr=std, ax=ax)\n",
    "ax.set_title(\"Feature importances using MDI\")\n",
    "ax.set_ylabel(\"Mean decrease in impurity\")\n",
    "ax.set_xticks([0,1,2,3,4,5]) # values\n",
    "labels = list(data_aux.columns[:-1])\n",
    "ax.set_xticklabels(labels) # labels\n",
    "positions = (1, 2, 3,4, 5)\n",
    "\n",
    "\n",
    "fig.tight_layout()"
   ]
  }
 ],
 "metadata": {
  "kernelspec": {
   "display_name": "Python 3.8.10 64-bit ('tf2.5': conda)",
   "language": "python",
   "name": "python3810jvsc74a57bd020843789c8bb0501c47bf41ec8f34cc8e8803d6ea02edd6aadc3bbb21aeee5b3"
  },
  "language_info": {
   "codemirror_mode": {
    "name": "ipython",
    "version": 3
   },
   "file_extension": ".py",
   "mimetype": "text/x-python",
   "name": "python",
   "nbconvert_exporter": "python",
   "pygments_lexer": "ipython3",
   "version": "3.8.10"
  }
 },
 "nbformat": 4,
 "nbformat_minor": 5
}
