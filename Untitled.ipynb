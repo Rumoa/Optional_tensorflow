{
 "cells": [
  {
   "cell_type": "code",
   "execution_count": 1,
   "id": "ea699ba1-a1cb-4b58-8f74-5814ad220ad2",
   "metadata": {},
   "outputs": [],
   "source": [
    "class Line(object):\n",
    "    def __init__(self, c0, c1):\n",
    "        self.c0 = c0\n",
    "        self.c1 = c1\n",
    "    \n",
    "    def __call__(self, x):\n",
    "        return self.c0 + self.c1*x\n",
    "    \n",
    "    def table(self, L, R, n):\n",
    "        s = ''\n",
    "        import numpy as np\n",
    "        for x in np.linspace(L, R, n):\n",
    "            y = self(x)\n",
    "            s += '%12g %12g\\n' % (x, y)\n",
    "        return s"
   ]
  },
  {
   "cell_type": "code",
   "execution_count": 3,
   "id": "528c4765-bd26-4d27-8b33-863d565bd66c",
   "metadata": {},
   "outputs": [],
   "source": [
    "a = Line(0, 1)"
   ]
  },
  {
   "cell_type": "code",
   "execution_count": 7,
   "id": "f1a78ae8-331e-43e7-b9bc-065354eba6a6",
   "metadata": {},
   "outputs": [
    {
     "name": "stdout",
     "output_type": "stream",
     "text": [
      "          -1           -1\n",
      "         0.5          0.5\n",
      "           2            2\n",
      "\n"
     ]
    }
   ],
   "source": [
    "print(a.table(-1, 2, 3))"
   ]
  },
  {
   "cell_type": "code",
   "execution_count": 8,
   "id": "0f8bd00b-f821-4b8e-9295-fe744f7c38cd",
   "metadata": {},
   "outputs": [],
   "source": [
    "class Parabola(Line):\n",
    "    def __init__(self, c0, c1, c2):\n",
    "        Line.__init__(self, c0, c1)\n",
    "        self.c2 = c2\n",
    "        \n",
    "    def __call__(self, x):\n",
    "        return Line.__call__(self, x) + self.c2*x**2"
   ]
  },
  {
   "cell_type": "code",
   "execution_count": 9,
   "id": "096d9f8c-ec6c-4a15-bdac-de4fa70e55e0",
   "metadata": {},
   "outputs": [],
   "source": [
    "a = Parabola(0, 1, 2)"
   ]
  },
  {
   "cell_type": "code",
   "execution_count": 10,
   "id": "a0def139-47ad-41b4-8b3e-a4b8d964c5ca",
   "metadata": {},
   "outputs": [
    {
     "data": {
      "text/plain": [
       "21"
      ]
     },
     "execution_count": 10,
     "metadata": {},
     "output_type": "execute_result"
    }
   ],
   "source": [
    "a(3)"
   ]
  },
  {
   "cell_type": "code",
   "execution_count": 13,
   "id": "23766038-ebcd-4347-8799-45e9275fbcb3",
   "metadata": {},
   "outputs": [
    {
     "data": {
      "text/plain": [
       "__main__.Parabola"
      ]
     },
     "execution_count": 13,
     "metadata": {},
     "output_type": "execute_result"
    }
   ],
   "source": [
    "a.__class__"
   ]
  },
  {
   "cell_type": "code",
   "execution_count": null,
   "id": "bfa35bd2-7b08-4e76-abbb-e73e9ea1cbf4",
   "metadata": {},
   "outputs": [],
   "source": []
  }
 ],
 "metadata": {
  "kernelspec": {
   "display_name": "Python 3.7.10 64-bit ('tf_gpu': conda)",
   "language": "python",
   "name": "python3710jvsc74a57bd03498809ad0933a938773cf5296d2f109940af130e065f95298c4036d7f924fb9"
  },
  "language_info": {
   "codemirror_mode": {
    "name": "ipython",
    "version": 3
   },
   "file_extension": ".py",
   "mimetype": "text/x-python",
   "name": "python",
   "nbconvert_exporter": "python",
   "pygments_lexer": "ipython3",
   "version": "3.7.10"
  }
 },
 "nbformat": 4,
 "nbformat_minor": 5
}
