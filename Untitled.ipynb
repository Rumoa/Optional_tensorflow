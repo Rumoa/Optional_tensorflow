{
 "cells": [
  {
   "cell_type": "code",
   "execution_count": 2,
   "metadata": {},
   "outputs": [],
   "source": [
    "import pandas as pd\n",
    "import numpy as np"
   ]
  },
  {
   "cell_type": "code",
   "execution_count": 3,
   "metadata": {},
   "outputs": [],
   "source": [
    "data = pd.read_csv(\"krkopt.data\", header=None)"
   ]
  },
  {
   "cell_type": "code",
   "execution_count": 4,
   "metadata": {},
   "outputs": [],
   "source": [
    "data.columns = [\"wkc\", \"wkr\", \"wrc\", \"wrr\", \"bkc\", \"bkr\", \"opt rank\" ]"
   ]
  },
  {
   "cell_type": "code",
   "execution_count": 5,
   "metadata": {},
   "outputs": [
    {
     "output_type": "execute_result",
     "data": {
      "text/plain": [
       "      wkc  wkr wrc  wrr bkc  bkr opt rank\n",
       "0       a    1   b    3   c    2     draw\n",
       "1       a    1   c    1   c    2     draw\n",
       "2       a    1   c    1   d    1     draw\n",
       "3       a    1   c    1   d    2     draw\n",
       "4       a    1   c    2   c    1     draw\n",
       "...    ..  ...  ..  ...  ..  ...      ...\n",
       "28051   b    1   g    7   e    5  sixteen\n",
       "28052   b    1   g    7   e    6  sixteen\n",
       "28053   b    1   g    7   e    7  sixteen\n",
       "28054   b    1   g    7   f    5  sixteen\n",
       "28055   b    1   g    7   g    5  sixteen\n",
       "\n",
       "[28056 rows x 7 columns]"
      ],
      "text/html": "<div>\n<style scoped>\n    .dataframe tbody tr th:only-of-type {\n        vertical-align: middle;\n    }\n\n    .dataframe tbody tr th {\n        vertical-align: top;\n    }\n\n    .dataframe thead th {\n        text-align: right;\n    }\n</style>\n<table border=\"1\" class=\"dataframe\">\n  <thead>\n    <tr style=\"text-align: right;\">\n      <th></th>\n      <th>wkc</th>\n      <th>wkr</th>\n      <th>wrc</th>\n      <th>wrr</th>\n      <th>bkc</th>\n      <th>bkr</th>\n      <th>opt rank</th>\n    </tr>\n  </thead>\n  <tbody>\n    <tr>\n      <th>0</th>\n      <td>a</td>\n      <td>1</td>\n      <td>b</td>\n      <td>3</td>\n      <td>c</td>\n      <td>2</td>\n      <td>draw</td>\n    </tr>\n    <tr>\n      <th>1</th>\n      <td>a</td>\n      <td>1</td>\n      <td>c</td>\n      <td>1</td>\n      <td>c</td>\n      <td>2</td>\n      <td>draw</td>\n    </tr>\n    <tr>\n      <th>2</th>\n      <td>a</td>\n      <td>1</td>\n      <td>c</td>\n      <td>1</td>\n      <td>d</td>\n      <td>1</td>\n      <td>draw</td>\n    </tr>\n    <tr>\n      <th>3</th>\n      <td>a</td>\n      <td>1</td>\n      <td>c</td>\n      <td>1</td>\n      <td>d</td>\n      <td>2</td>\n      <td>draw</td>\n    </tr>\n    <tr>\n      <th>4</th>\n      <td>a</td>\n      <td>1</td>\n      <td>c</td>\n      <td>2</td>\n      <td>c</td>\n      <td>1</td>\n      <td>draw</td>\n    </tr>\n    <tr>\n      <th>...</th>\n      <td>...</td>\n      <td>...</td>\n      <td>...</td>\n      <td>...</td>\n      <td>...</td>\n      <td>...</td>\n      <td>...</td>\n    </tr>\n    <tr>\n      <th>28051</th>\n      <td>b</td>\n      <td>1</td>\n      <td>g</td>\n      <td>7</td>\n      <td>e</td>\n      <td>5</td>\n      <td>sixteen</td>\n    </tr>\n    <tr>\n      <th>28052</th>\n      <td>b</td>\n      <td>1</td>\n      <td>g</td>\n      <td>7</td>\n      <td>e</td>\n      <td>6</td>\n      <td>sixteen</td>\n    </tr>\n    <tr>\n      <th>28053</th>\n      <td>b</td>\n      <td>1</td>\n      <td>g</td>\n      <td>7</td>\n      <td>e</td>\n      <td>7</td>\n      <td>sixteen</td>\n    </tr>\n    <tr>\n      <th>28054</th>\n      <td>b</td>\n      <td>1</td>\n      <td>g</td>\n      <td>7</td>\n      <td>f</td>\n      <td>5</td>\n      <td>sixteen</td>\n    </tr>\n    <tr>\n      <th>28055</th>\n      <td>b</td>\n      <td>1</td>\n      <td>g</td>\n      <td>7</td>\n      <td>g</td>\n      <td>5</td>\n      <td>sixteen</td>\n    </tr>\n  </tbody>\n</table>\n<p>28056 rows × 7 columns</p>\n</div>"
     },
     "metadata": {},
     "execution_count": 5
    }
   ],
   "source": [
    "data"
   ]
  },
  {
   "cell_type": "code",
   "execution_count": 6,
   "metadata": {},
   "outputs": [],
   "source": [
    "X = data.iloc[:, 0:6]\n",
    "y = data['opt rank']"
   ]
  },
  {
   "cell_type": "code",
   "execution_count": 7,
   "metadata": {},
   "outputs": [
    {
     "output_type": "execute_result",
     "data": {
      "text/plain": [
       "      wkc  wkr wrc  wrr bkc  bkr\n",
       "0       a    1   b    3   c    2\n",
       "1       a    1   c    1   c    2\n",
       "2       a    1   c    1   d    1\n",
       "3       a    1   c    1   d    2\n",
       "4       a    1   c    2   c    1\n",
       "...    ..  ...  ..  ...  ..  ...\n",
       "28051   b    1   g    7   e    5\n",
       "28052   b    1   g    7   e    6\n",
       "28053   b    1   g    7   e    7\n",
       "28054   b    1   g    7   f    5\n",
       "28055   b    1   g    7   g    5\n",
       "\n",
       "[28056 rows x 6 columns]"
      ],
      "text/html": "<div>\n<style scoped>\n    .dataframe tbody tr th:only-of-type {\n        vertical-align: middle;\n    }\n\n    .dataframe tbody tr th {\n        vertical-align: top;\n    }\n\n    .dataframe thead th {\n        text-align: right;\n    }\n</style>\n<table border=\"1\" class=\"dataframe\">\n  <thead>\n    <tr style=\"text-align: right;\">\n      <th></th>\n      <th>wkc</th>\n      <th>wkr</th>\n      <th>wrc</th>\n      <th>wrr</th>\n      <th>bkc</th>\n      <th>bkr</th>\n    </tr>\n  </thead>\n  <tbody>\n    <tr>\n      <th>0</th>\n      <td>a</td>\n      <td>1</td>\n      <td>b</td>\n      <td>3</td>\n      <td>c</td>\n      <td>2</td>\n    </tr>\n    <tr>\n      <th>1</th>\n      <td>a</td>\n      <td>1</td>\n      <td>c</td>\n      <td>1</td>\n      <td>c</td>\n      <td>2</td>\n    </tr>\n    <tr>\n      <th>2</th>\n      <td>a</td>\n      <td>1</td>\n      <td>c</td>\n      <td>1</td>\n      <td>d</td>\n      <td>1</td>\n    </tr>\n    <tr>\n      <th>3</th>\n      <td>a</td>\n      <td>1</td>\n      <td>c</td>\n      <td>1</td>\n      <td>d</td>\n      <td>2</td>\n    </tr>\n    <tr>\n      <th>4</th>\n      <td>a</td>\n      <td>1</td>\n      <td>c</td>\n      <td>2</td>\n      <td>c</td>\n      <td>1</td>\n    </tr>\n    <tr>\n      <th>...</th>\n      <td>...</td>\n      <td>...</td>\n      <td>...</td>\n      <td>...</td>\n      <td>...</td>\n      <td>...</td>\n    </tr>\n    <tr>\n      <th>28051</th>\n      <td>b</td>\n      <td>1</td>\n      <td>g</td>\n      <td>7</td>\n      <td>e</td>\n      <td>5</td>\n    </tr>\n    <tr>\n      <th>28052</th>\n      <td>b</td>\n      <td>1</td>\n      <td>g</td>\n      <td>7</td>\n      <td>e</td>\n      <td>6</td>\n    </tr>\n    <tr>\n      <th>28053</th>\n      <td>b</td>\n      <td>1</td>\n      <td>g</td>\n      <td>7</td>\n      <td>e</td>\n      <td>7</td>\n    </tr>\n    <tr>\n      <th>28054</th>\n      <td>b</td>\n      <td>1</td>\n      <td>g</td>\n      <td>7</td>\n      <td>f</td>\n      <td>5</td>\n    </tr>\n    <tr>\n      <th>28055</th>\n      <td>b</td>\n      <td>1</td>\n      <td>g</td>\n      <td>7</td>\n      <td>g</td>\n      <td>5</td>\n    </tr>\n  </tbody>\n</table>\n<p>28056 rows × 6 columns</p>\n</div>"
     },
     "metadata": {},
     "execution_count": 7
    }
   ],
   "source": [
    "X"
   ]
  },
  {
   "cell_type": "code",
   "execution_count": 8,
   "metadata": {},
   "outputs": [],
   "source": [
    "X[\"wkc\"]=X[\"wkc\"].astype('category')\n",
    "X[\"wrc\"]=X[\"wrc\"].astype('category')\n",
    "X[\"bkc\"]=X[\"bkc\"].astype('category')"
   ]
  },
  {
   "cell_type": "code",
   "execution_count": 9,
   "metadata": {},
   "outputs": [],
   "source": [
    "X[\"wkc\"]=X[\"wkc\"].cat.codes\n",
    "X[\"wrc\"]=X[\"wrc\"].cat.codes\n",
    "X[\"bkc\"]=X[\"bkc\"].cat.codes\n"
   ]
  },
  {
   "cell_type": "code",
   "execution_count": 10,
   "metadata": {},
   "outputs": [
    {
     "output_type": "execute_result",
     "data": {
      "text/plain": [
       "       wkc  wkr  wrc  wrr  bkc  bkr\n",
       "0        0    1    1    3    2    2\n",
       "1        0    1    2    1    2    2\n",
       "2        0    1    2    1    3    1\n",
       "3        0    1    2    1    3    2\n",
       "4        0    1    2    2    2    1\n",
       "...    ...  ...  ...  ...  ...  ...\n",
       "28051    1    1    6    7    4    5\n",
       "28052    1    1    6    7    4    6\n",
       "28053    1    1    6    7    4    7\n",
       "28054    1    1    6    7    5    5\n",
       "28055    1    1    6    7    6    5\n",
       "\n",
       "[28056 rows x 6 columns]"
      ],
      "text/html": "<div>\n<style scoped>\n    .dataframe tbody tr th:only-of-type {\n        vertical-align: middle;\n    }\n\n    .dataframe tbody tr th {\n        vertical-align: top;\n    }\n\n    .dataframe thead th {\n        text-align: right;\n    }\n</style>\n<table border=\"1\" class=\"dataframe\">\n  <thead>\n    <tr style=\"text-align: right;\">\n      <th></th>\n      <th>wkc</th>\n      <th>wkr</th>\n      <th>wrc</th>\n      <th>wrr</th>\n      <th>bkc</th>\n      <th>bkr</th>\n    </tr>\n  </thead>\n  <tbody>\n    <tr>\n      <th>0</th>\n      <td>0</td>\n      <td>1</td>\n      <td>1</td>\n      <td>3</td>\n      <td>2</td>\n      <td>2</td>\n    </tr>\n    <tr>\n      <th>1</th>\n      <td>0</td>\n      <td>1</td>\n      <td>2</td>\n      <td>1</td>\n      <td>2</td>\n      <td>2</td>\n    </tr>\n    <tr>\n      <th>2</th>\n      <td>0</td>\n      <td>1</td>\n      <td>2</td>\n      <td>1</td>\n      <td>3</td>\n      <td>1</td>\n    </tr>\n    <tr>\n      <th>3</th>\n      <td>0</td>\n      <td>1</td>\n      <td>2</td>\n      <td>1</td>\n      <td>3</td>\n      <td>2</td>\n    </tr>\n    <tr>\n      <th>4</th>\n      <td>0</td>\n      <td>1</td>\n      <td>2</td>\n      <td>2</td>\n      <td>2</td>\n      <td>1</td>\n    </tr>\n    <tr>\n      <th>...</th>\n      <td>...</td>\n      <td>...</td>\n      <td>...</td>\n      <td>...</td>\n      <td>...</td>\n      <td>...</td>\n    </tr>\n    <tr>\n      <th>28051</th>\n      <td>1</td>\n      <td>1</td>\n      <td>6</td>\n      <td>7</td>\n      <td>4</td>\n      <td>5</td>\n    </tr>\n    <tr>\n      <th>28052</th>\n      <td>1</td>\n      <td>1</td>\n      <td>6</td>\n      <td>7</td>\n      <td>4</td>\n      <td>6</td>\n    </tr>\n    <tr>\n      <th>28053</th>\n      <td>1</td>\n      <td>1</td>\n      <td>6</td>\n      <td>7</td>\n      <td>4</td>\n      <td>7</td>\n    </tr>\n    <tr>\n      <th>28054</th>\n      <td>1</td>\n      <td>1</td>\n      <td>6</td>\n      <td>7</td>\n      <td>5</td>\n      <td>5</td>\n    </tr>\n    <tr>\n      <th>28055</th>\n      <td>1</td>\n      <td>1</td>\n      <td>6</td>\n      <td>7</td>\n      <td>6</td>\n      <td>5</td>\n    </tr>\n  </tbody>\n</table>\n<p>28056 rows × 6 columns</p>\n</div>"
     },
     "metadata": {},
     "execution_count": 10
    }
   ],
   "source": [
    "X"
   ]
  },
  {
   "cell_type": "code",
   "execution_count": 11,
   "metadata": {},
   "outputs": [],
   "source": [
    "y = y.astype('category')\n",
    "y = y.cat.codes"
   ]
  },
  {
   "cell_type": "code",
   "execution_count": 12,
   "metadata": {},
   "outputs": [],
   "source": [
    "from sklearn.preprocessing import OneHotEncoder, LabelEncoder\n",
    "from sklearn.model_selection import train_test_split"
   ]
  },
  {
   "cell_type": "code",
   "execution_count": 13,
   "metadata": {},
   "outputs": [],
   "source": [
    "import keras\n",
    "from keras.utils import to_categorical\n",
    "y = to_categorical(y)"
   ]
  },
  {
   "cell_type": "code",
   "execution_count": 14,
   "metadata": {},
   "outputs": [],
   "source": [
    "\n",
    "X_train, X_test, y_train, y_test = train_test_split(X,\n",
    "                                                   y, test_size=0.2,\n",
    "                                                   random_state = 1)"
   ]
  },
  {
   "cell_type": "code",
   "execution_count": 15,
   "metadata": {},
   "outputs": [],
   "source": [
    "from sklearn.preprocessing import StandardScaler\n",
    "\n",
    "scaler = StandardScaler().fit(X_train)\n",
    "X_train = scaler.transform(X_train)\n",
    "X_test = scaler.transform(X_test)"
   ]
  },
  {
   "cell_type": "code",
   "execution_count": 16,
   "metadata": {},
   "outputs": [],
   "source": [
    "from keras.models import Sequential\n",
    "from keras.layers import Dense"
   ]
  },
  {
   "cell_type": "code",
   "execution_count": 17,
   "metadata": {},
   "outputs": [],
   "source": [
    "def make_my_model_multi( units_per_layer, input_s, output_s, activation_='relu'):\n",
    "    model = Sequential()\n",
    "    depth = len(units_per_layer)\n",
    "    model.add(Dense(units_per_layer[0], activation=activation_, input_shape=(input_s,)))\n",
    "    for i in range(1, depth):\n",
    "        model.add(Dense(units_per_layer[i], activation=activation_))\n",
    "    model.add(Dense(output_s, activation = 'softmax'))   \n",
    "    \n",
    "    return model\n",
    "#En este caso, usamos categorical_crossentropy como función de coste y \n",
    "#permitimos elegir otro batch para poder hacer uso de \n",
    "def compile_fit_multiclass(model, X_train, X_test, y_train, batch, epochs, verbose=0):\n",
    "    model.compile(loss='categorical_crossentropy',\n",
    "             optimizer='adam',\n",
    "             metrics=['accuracy'])\n",
    "    model.fit(X_train, y_train, epochs=epochs, batch_size=batch, verbose=verbose)\n",
    "    predictions = model.predict(X_test)\n",
    "    return predictions\n",
    "\n",
    "def compute_metrics_multiclass(y_test, y_pred):\n",
    "    results=[]\n",
    "    results.append(precision_score(y_test, np.round(y_pred), average=\"micro\"))\n",
    "    results.append(recall_score(y_test, np.round(y_pred), average=\"micro\"))\n",
    "    results.append(f1_score(y_test, np.round(y_pred), average=\"micro\"))\n",
    "    results.append(cohen_kappa_score(y_test, np.round(y_pred)))\n",
    "    return results"
   ]
  },
  {
   "cell_type": "code",
   "execution_count": 18,
   "metadata": {},
   "outputs": [
    {
     "output_type": "execute_result",
     "data": {
      "text/plain": [
       "(28056, 18)"
      ]
     },
     "metadata": {},
     "execution_count": 18
    }
   ],
   "source": [
    "y.shape"
   ]
  },
  {
   "cell_type": "code",
   "execution_count": 19,
   "metadata": {},
   "outputs": [],
   "source": [
    "model = make_my_model_multi([100, 100, 100, 100], 6, 18, activation_='relu' )"
   ]
  },
  {
   "cell_type": "code",
   "execution_count": 20,
   "metadata": {
    "tags": [
     "outputPrepend"
    ]
   },
   "outputs": [
    {
     "output_type": "stream",
     "name": "stdout",
     "text": [
      "0.2026\n",
      "Epoch 2/200\n",
      "88/88 [==============================] - 0s 2ms/step - loss: 1.6478 - accuracy: 0.3967\n",
      "Epoch 3/200\n",
      "88/88 [==============================] - 0s 2ms/step - loss: 1.4182 - accuracy: 0.4634\n",
      "Epoch 4/200\n",
      "88/88 [==============================] - 0s 2ms/step - loss: 1.2849 - accuracy: 0.5053\n",
      "Epoch 5/200\n",
      "88/88 [==============================] - 0s 2ms/step - loss: 1.2383 - accuracy: 0.5128\n",
      "Epoch 6/200\n",
      "88/88 [==============================] - 0s 2ms/step - loss: 1.1818 - accuracy: 0.5307\n",
      "Epoch 7/200\n",
      "88/88 [==============================] - 0s 2ms/step - loss: 1.1375 - accuracy: 0.5467\n",
      "Epoch 8/200\n",
      "88/88 [==============================] - 0s 2ms/step - loss: 1.0923 - accuracy: 0.5620\n",
      "Epoch 9/200\n",
      "88/88 [==============================] - 0s 2ms/step - loss: 1.0710 - accuracy: 0.5679\n",
      "Epoch 10/200\n",
      "88/88 [==============================] - 0s 2ms/step - loss: 1.0359 - accuracy: 0.5791\n",
      "Epoch 11/200\n",
      "88/88 [==============================] - 0s 2ms/step - loss: 1.0085 - accuracy: 0.5873\n",
      "Epoch 12/200\n",
      "88/88 [==============================] - 0s 2ms/step - loss: 0.9794 - accuracy: 0.5946\n",
      "Epoch 13/200\n",
      "88/88 [==============================] - 0s 2ms/step - loss: 0.9343 - accuracy: 0.6152\n",
      "Epoch 14/200\n",
      "88/88 [==============================] - 0s 2ms/step - loss: 0.9182 - accuracy: 0.6193\n",
      "Epoch 15/200\n",
      "88/88 [==============================] - 0s 2ms/step - loss: 0.8885 - accuracy: 0.6365\n",
      "Epoch 16/200\n",
      "88/88 [==============================] - 0s 2ms/step - loss: 0.8776 - accuracy: 0.6346\n",
      "Epoch 17/200\n",
      "88/88 [==============================] - 0s 2ms/step - loss: 0.8462 - accuracy: 0.6551\n",
      "Epoch 18/200\n",
      "88/88 [==============================] - 0s 2ms/step - loss: 0.8377 - accuracy: 0.6546\n",
      "Epoch 19/200\n",
      "88/88 [==============================] - 0s 2ms/step - loss: 0.8337 - accuracy: 0.6562\n",
      "Epoch 20/200\n",
      "88/88 [==============================] - 0s 2ms/step - loss: 0.8020 - accuracy: 0.6702\n",
      "Epoch 21/200\n",
      "88/88 [==============================] - 0s 2ms/step - loss: 0.7697 - accuracy: 0.6853\n",
      "Epoch 22/200\n",
      "88/88 [==============================] - 0s 2ms/step - loss: 0.7558 - accuracy: 0.6920\n",
      "Epoch 23/200\n",
      "88/88 [==============================] - 0s 2ms/step - loss: 0.7489 - accuracy: 0.6958\n",
      "Epoch 24/200\n",
      "88/88 [==============================] - 0s 2ms/step - loss: 0.7315 - accuracy: 0.6989\n",
      "Epoch 25/200\n",
      "88/88 [==============================] - 0s 2ms/step - loss: 0.7114 - accuracy: 0.7080\n",
      "Epoch 26/200\n",
      "88/88 [==============================] - 0s 2ms/step - loss: 0.7125 - accuracy: 0.7059\n",
      "Epoch 27/200\n",
      "88/88 [==============================] - 0s 2ms/step - loss: 0.6930 - accuracy: 0.7240\n",
      "Epoch 28/200\n",
      "88/88 [==============================] - 0s 3ms/step - loss: 0.6698 - accuracy: 0.7294\n",
      "Epoch 29/200\n",
      "88/88 [==============================] - 0s 2ms/step - loss: 0.6575 - accuracy: 0.7340\n",
      "Epoch 30/200\n",
      "88/88 [==============================] - 0s 2ms/step - loss: 0.6572 - accuracy: 0.7281\n",
      "Epoch 31/200\n",
      "88/88 [==============================] - 0s 2ms/step - loss: 0.6429 - accuracy: 0.7382\n",
      "Epoch 32/200\n",
      "88/88 [==============================] - 0s 2ms/step - loss: 0.6376 - accuracy: 0.7396\n",
      "Epoch 33/200\n",
      "88/88 [==============================] - 0s 2ms/step - loss: 0.6276 - accuracy: 0.7439\n",
      "Epoch 34/200\n",
      "88/88 [==============================] - 0s 2ms/step - loss: 0.6262 - accuracy: 0.7462\n",
      "Epoch 35/200\n",
      "88/88 [==============================] - 0s 2ms/step - loss: 0.6015 - accuracy: 0.7580\n",
      "Epoch 36/200\n",
      "88/88 [==============================] - 0s 2ms/step - loss: 0.6057 - accuracy: 0.7525\n",
      "Epoch 37/200\n",
      "88/88 [==============================] - 0s 2ms/step - loss: 0.6153 - accuracy: 0.7536\n",
      "Epoch 38/200\n",
      "88/88 [==============================] - 0s 2ms/step - loss: 0.5764 - accuracy: 0.7639\n",
      "Epoch 39/200\n",
      "88/88 [==============================] - 0s 2ms/step - loss: 0.5898 - accuracy: 0.7590\n",
      "Epoch 40/200\n",
      "88/88 [==============================] - 0s 2ms/step - loss: 0.5713 - accuracy: 0.7657\n",
      "Epoch 41/200\n",
      "88/88 [==============================] - 0s 2ms/step - loss: 0.5600 - accuracy: 0.7728\n",
      "Epoch 42/200\n",
      "88/88 [==============================] - 0s 2ms/step - loss: 0.5558 - accuracy: 0.7706\n",
      "Epoch 43/200\n",
      "88/88 [==============================] - 0s 2ms/step - loss: 0.5621 - accuracy: 0.7726\n",
      "Epoch 44/200\n",
      "88/88 [==============================] - 0s 2ms/step - loss: 0.5518 - accuracy: 0.7756\n",
      "Epoch 45/200\n",
      "88/88 [==============================] - 0s 2ms/step - loss: 0.5356 - accuracy: 0.7835\n",
      "Epoch 46/200\n",
      "88/88 [==============================] - 0s 2ms/step - loss: 0.5331 - accuracy: 0.7848\n",
      "Epoch 47/200\n",
      "88/88 [==============================] - 0s 2ms/step - loss: 0.5374 - accuracy: 0.7785\n",
      "Epoch 48/200\n",
      "88/88 [==============================] - 0s 2ms/step - loss: 0.5259 - accuracy: 0.7871\n",
      "Epoch 49/200\n",
      "88/88 [==============================] - 0s 2ms/step - loss: 0.5173 - accuracy: 0.7879\n",
      "Epoch 50/200\n",
      "88/88 [==============================] - 0s 2ms/step - loss: 0.5108 - accuracy: 0.7941\n",
      "Epoch 51/200\n",
      "88/88 [==============================] - 0s 2ms/step - loss: 0.5172 - accuracy: 0.7890\n",
      "Epoch 52/200\n",
      "88/88 [==============================] - 0s 2ms/step - loss: 0.5116 - accuracy: 0.7933\n",
      "Epoch 53/200\n",
      "88/88 [==============================] - 0s 2ms/step - loss: 0.4957 - accuracy: 0.7981\n",
      "Epoch 54/200\n",
      "88/88 [==============================] - 0s 2ms/step - loss: 0.4866 - accuracy: 0.8013\n",
      "Epoch 55/200\n",
      "88/88 [==============================] - 0s 2ms/step - loss: 0.5073 - accuracy: 0.7940\n",
      "Epoch 56/200\n",
      "88/88 [==============================] - 0s 2ms/step - loss: 0.4795 - accuracy: 0.8049\n",
      "Epoch 57/200\n",
      "88/88 [==============================] - 0s 2ms/step - loss: 0.4740 - accuracy: 0.8072\n",
      "Epoch 58/200\n",
      "88/88 [==============================] - 0s 2ms/step - loss: 0.4779 - accuracy: 0.8077\n",
      "Epoch 59/200\n",
      "88/88 [==============================] - 0s 2ms/step - loss: 0.4843 - accuracy: 0.8006\n",
      "Epoch 60/200\n",
      "88/88 [==============================] - 0s 2ms/step - loss: 0.4608 - accuracy: 0.8153\n",
      "Epoch 61/200\n",
      "88/88 [==============================] - 0s 2ms/step - loss: 0.4708 - accuracy: 0.8074\n",
      "Epoch 62/200\n",
      "88/88 [==============================] - 0s 2ms/step - loss: 0.4606 - accuracy: 0.8104\n",
      "Epoch 63/200\n",
      "88/88 [==============================] - 0s 2ms/step - loss: 0.4653 - accuracy: 0.8104\n",
      "Epoch 64/200\n",
      "88/88 [==============================] - 0s 2ms/step - loss: 0.4545 - accuracy: 0.8165\n",
      "Epoch 65/200\n",
      "88/88 [==============================] - 0s 2ms/step - loss: 0.4441 - accuracy: 0.8234\n",
      "Epoch 66/200\n",
      "88/88 [==============================] - 0s 2ms/step - loss: 0.4546 - accuracy: 0.8146\n",
      "Epoch 67/200\n",
      "88/88 [==============================] - 0s 2ms/step - loss: 0.4402 - accuracy: 0.8210\n",
      "Epoch 68/200\n",
      "88/88 [==============================] - 0s 2ms/step - loss: 0.4486 - accuracy: 0.8160\n",
      "Epoch 69/200\n",
      "88/88 [==============================] - 0s 2ms/step - loss: 0.4382 - accuracy: 0.8250\n",
      "Epoch 70/200\n",
      "88/88 [==============================] - 0s 2ms/step - loss: 0.4420 - accuracy: 0.8228\n",
      "Epoch 71/200\n",
      "88/88 [==============================] - 0s 2ms/step - loss: 0.4280 - accuracy: 0.8267\n",
      "Epoch 72/200\n",
      "88/88 [==============================] - 0s 2ms/step - loss: 0.4266 - accuracy: 0.8290\n",
      "Epoch 73/200\n",
      "88/88 [==============================] - 0s 2ms/step - loss: 0.4241 - accuracy: 0.8256\n",
      "Epoch 74/200\n",
      "88/88 [==============================] - 0s 2ms/step - loss: 0.4288 - accuracy: 0.8266\n",
      "Epoch 75/200\n",
      "88/88 [==============================] - 0s 2ms/step - loss: 0.4091 - accuracy: 0.8350\n",
      "Epoch 76/200\n",
      "88/88 [==============================] - 0s 2ms/step - loss: 0.4113 - accuracy: 0.8316\n",
      "Epoch 77/200\n",
      "88/88 [==============================] - 0s 2ms/step - loss: 0.4183 - accuracy: 0.8314\n",
      "Epoch 78/200\n",
      "88/88 [==============================] - 0s 2ms/step - loss: 0.4133 - accuracy: 0.8335\n",
      "Epoch 79/200\n",
      "88/88 [==============================] - 0s 2ms/step - loss: 0.3992 - accuracy: 0.8416\n",
      "Epoch 80/200\n",
      "88/88 [==============================] - 0s 2ms/step - loss: 0.4126 - accuracy: 0.8316\n",
      "Epoch 81/200\n",
      "88/88 [==============================] - 0s 2ms/step - loss: 0.3932 - accuracy: 0.8432\n",
      "Epoch 82/200\n",
      "88/88 [==============================] - 0s 2ms/step - loss: 0.4047 - accuracy: 0.8393\n",
      "Epoch 83/200\n",
      "88/88 [==============================] - 0s 2ms/step - loss: 0.3883 - accuracy: 0.8458\n",
      "Epoch 84/200\n",
      "88/88 [==============================] - 0s 2ms/step - loss: 0.3869 - accuracy: 0.8477\n",
      "Epoch 85/200\n",
      "88/88 [==============================] - 0s 2ms/step - loss: 0.3927 - accuracy: 0.8394\n",
      "Epoch 86/200\n",
      "88/88 [==============================] - 0s 2ms/step - loss: 0.3867 - accuracy: 0.8479\n",
      "Epoch 87/200\n",
      "88/88 [==============================] - 0s 2ms/step - loss: 0.3803 - accuracy: 0.8443\n",
      "Epoch 88/200\n",
      "88/88 [==============================] - 0s 2ms/step - loss: 0.3853 - accuracy: 0.8455\n",
      "Epoch 89/200\n",
      "88/88 [==============================] - 0s 2ms/step - loss: 0.3907 - accuracy: 0.8434\n",
      "Epoch 90/200\n",
      "88/88 [==============================] - 0s 2ms/step - loss: 0.3874 - accuracy: 0.8425\n",
      "Epoch 91/200\n",
      "88/88 [==============================] - 0s 2ms/step - loss: 0.3759 - accuracy: 0.8526\n",
      "Epoch 92/200\n",
      "88/88 [==============================] - 0s 2ms/step - loss: 0.3710 - accuracy: 0.8541\n",
      "Epoch 93/200\n",
      "88/88 [==============================] - 0s 2ms/step - loss: 0.3607 - accuracy: 0.8543\n",
      "Epoch 94/200\n",
      "88/88 [==============================] - 0s 2ms/step - loss: 0.3607 - accuracy: 0.8550\n",
      "Epoch 95/200\n",
      "88/88 [==============================] - 0s 2ms/step - loss: 0.3734 - accuracy: 0.8493\n",
      "Epoch 96/200\n",
      "88/88 [==============================] - 0s 2ms/step - loss: 0.3505 - accuracy: 0.8613\n",
      "Epoch 97/200\n",
      "88/88 [==============================] - 0s 2ms/step - loss: 0.3560 - accuracy: 0.8603\n",
      "Epoch 98/200\n",
      "88/88 [==============================] - 0s 2ms/step - loss: 0.3564 - accuracy: 0.8570\n",
      "Epoch 99/200\n",
      "88/88 [==============================] - 0s 2ms/step - loss: 0.3624 - accuracy: 0.8520\n",
      "Epoch 100/200\n",
      "88/88 [==============================] - 0s 2ms/step - loss: 0.3452 - accuracy: 0.8648\n",
      "Epoch 101/200\n",
      "88/88 [==============================] - 0s 2ms/step - loss: 0.3475 - accuracy: 0.8617\n",
      "Epoch 102/200\n",
      "88/88 [==============================] - 0s 2ms/step - loss: 0.3512 - accuracy: 0.8587\n",
      "Epoch 103/200\n",
      "88/88 [==============================] - 0s 2ms/step - loss: 0.3418 - accuracy: 0.8631\n",
      "Epoch 104/200\n",
      "88/88 [==============================] - 0s 2ms/step - loss: 0.3501 - accuracy: 0.8618\n",
      "Epoch 105/200\n",
      "88/88 [==============================] - 0s 2ms/step - loss: 0.3471 - accuracy: 0.8610\n",
      "Epoch 106/200\n",
      "88/88 [==============================] - 0s 2ms/step - loss: 0.3382 - accuracy: 0.8641\n",
      "Epoch 107/200\n",
      "88/88 [==============================] - 0s 2ms/step - loss: 0.3678 - accuracy: 0.8519\n",
      "Epoch 108/200\n",
      "88/88 [==============================] - 0s 2ms/step - loss: 0.3352 - accuracy: 0.8650\n",
      "Epoch 109/200\n",
      "88/88 [==============================] - 0s 2ms/step - loss: 0.3424 - accuracy: 0.8600\n",
      "Epoch 110/200\n",
      "88/88 [==============================] - 0s 2ms/step - loss: 0.3311 - accuracy: 0.8674\n",
      "Epoch 111/200\n",
      "88/88 [==============================] - 0s 2ms/step - loss: 0.3338 - accuracy: 0.8676\n",
      "Epoch 112/200\n",
      "88/88 [==============================] - 0s 2ms/step - loss: 0.3252 - accuracy: 0.8669\n",
      "Epoch 113/200\n",
      "88/88 [==============================] - 0s 2ms/step - loss: 0.3220 - accuracy: 0.8693\n",
      "Epoch 114/200\n",
      "88/88 [==============================] - 0s 2ms/step - loss: 0.3187 - accuracy: 0.8755\n",
      "Epoch 115/200\n",
      "88/88 [==============================] - 0s 2ms/step - loss: 0.3330 - accuracy: 0.8685\n",
      "Epoch 116/200\n",
      "88/88 [==============================] - 0s 2ms/step - loss: 0.3357 - accuracy: 0.8625\n",
      "Epoch 117/200\n",
      "88/88 [==============================] - 0s 2ms/step - loss: 0.3416 - accuracy: 0.8608\n",
      "Epoch 118/200\n",
      "88/88 [==============================] - 0s 2ms/step - loss: 0.3200 - accuracy: 0.8728\n",
      "Epoch 119/200\n",
      "88/88 [==============================] - 0s 2ms/step - loss: 0.3117 - accuracy: 0.8793\n",
      "Epoch 120/200\n",
      "88/88 [==============================] - 0s 2ms/step - loss: 0.3224 - accuracy: 0.8730\n",
      "Epoch 121/200\n",
      "88/88 [==============================] - 0s 2ms/step - loss: 0.3016 - accuracy: 0.8804\n",
      "Epoch 122/200\n",
      "88/88 [==============================] - 0s 2ms/step - loss: 0.3130 - accuracy: 0.8762\n",
      "Epoch 123/200\n",
      "88/88 [==============================] - 0s 2ms/step - loss: 0.3124 - accuracy: 0.8732\n",
      "Epoch 124/200\n",
      "88/88 [==============================] - 0s 2ms/step - loss: 0.2956 - accuracy: 0.8837\n",
      "Epoch 125/200\n",
      "88/88 [==============================] - 0s 2ms/step - loss: 0.3122 - accuracy: 0.8743\n",
      "Epoch 126/200\n",
      "88/88 [==============================] - 0s 2ms/step - loss: 0.3040 - accuracy: 0.8776\n",
      "Epoch 127/200\n",
      "88/88 [==============================] - 0s 2ms/step - loss: 0.2951 - accuracy: 0.8847\n",
      "Epoch 128/200\n",
      "88/88 [==============================] - 0s 2ms/step - loss: 0.3029 - accuracy: 0.8803\n",
      "Epoch 129/200\n",
      "88/88 [==============================] - 0s 2ms/step - loss: 0.2853 - accuracy: 0.8898\n",
      "Epoch 130/200\n",
      "88/88 [==============================] - 0s 2ms/step - loss: 0.2914 - accuracy: 0.8891\n",
      "Epoch 131/200\n",
      "88/88 [==============================] - 0s 2ms/step - loss: 0.2844 - accuracy: 0.8909\n",
      "Epoch 132/200\n",
      "88/88 [==============================] - 0s 2ms/step - loss: 0.3105 - accuracy: 0.8722\n",
      "Epoch 133/200\n",
      "88/88 [==============================] - 0s 2ms/step - loss: 0.2891 - accuracy: 0.8855\n",
      "Epoch 134/200\n",
      "88/88 [==============================] - 0s 2ms/step - loss: 0.2848 - accuracy: 0.8864\n",
      "Epoch 135/200\n",
      "88/88 [==============================] - 0s 2ms/step - loss: 0.2856 - accuracy: 0.8857\n",
      "Epoch 136/200\n",
      "88/88 [==============================] - 0s 2ms/step - loss: 0.3232 - accuracy: 0.8687\n",
      "Epoch 137/200\n",
      "88/88 [==============================] - 0s 2ms/step - loss: 0.2786 - accuracy: 0.8902\n",
      "Epoch 138/200\n",
      "88/88 [==============================] - 0s 2ms/step - loss: 0.2887 - accuracy: 0.8873\n",
      "Epoch 139/200\n",
      "88/88 [==============================] - 0s 2ms/step - loss: 0.3023 - accuracy: 0.8796\n",
      "Epoch 140/200\n",
      "88/88 [==============================] - 0s 2ms/step - loss: 0.2696 - accuracy: 0.8935\n",
      "Epoch 141/200\n",
      "88/88 [==============================] - 0s 2ms/step - loss: 0.2843 - accuracy: 0.8874\n",
      "Epoch 142/200\n",
      "88/88 [==============================] - 0s 2ms/step - loss: 0.2816 - accuracy: 0.8909\n",
      "Epoch 143/200\n",
      "88/88 [==============================] - 0s 2ms/step - loss: 0.2781 - accuracy: 0.8899\n",
      "Epoch 144/200\n",
      "88/88 [==============================] - 0s 2ms/step - loss: 0.2684 - accuracy: 0.8945\n",
      "Epoch 145/200\n",
      "88/88 [==============================] - 0s 2ms/step - loss: 0.2813 - accuracy: 0.8864\n",
      "Epoch 146/200\n",
      "88/88 [==============================] - 0s 2ms/step - loss: 0.2685 - accuracy: 0.8924\n",
      "Epoch 147/200\n",
      "88/88 [==============================] - 0s 2ms/step - loss: 0.2690 - accuracy: 0.8977\n",
      "Epoch 148/200\n",
      "88/88 [==============================] - 0s 2ms/step - loss: 0.2651 - accuracy: 0.8979\n",
      "Epoch 149/200\n",
      "88/88 [==============================] - 0s 2ms/step - loss: 0.2642 - accuracy: 0.8978\n",
      "Epoch 150/200\n",
      "88/88 [==============================] - 0s 2ms/step - loss: 0.2606 - accuracy: 0.8965\n",
      "Epoch 151/200\n",
      "88/88 [==============================] - 0s 2ms/step - loss: 0.2633 - accuracy: 0.8983\n",
      "Epoch 152/200\n",
      "88/88 [==============================] - 0s 2ms/step - loss: 0.2674 - accuracy: 0.8946\n",
      "Epoch 153/200\n",
      "88/88 [==============================] - 0s 2ms/step - loss: 0.2578 - accuracy: 0.8961\n",
      "Epoch 154/200\n",
      "88/88 [==============================] - 0s 2ms/step - loss: 0.2756 - accuracy: 0.8921\n",
      "Epoch 155/200\n",
      "88/88 [==============================] - 0s 2ms/step - loss: 0.2579 - accuracy: 0.8982\n",
      "Epoch 156/200\n",
      "88/88 [==============================] - 0s 2ms/step - loss: 0.2583 - accuracy: 0.8984\n",
      "Epoch 157/200\n",
      "88/88 [==============================] - 0s 2ms/step - loss: 0.2709 - accuracy: 0.8921\n",
      "Epoch 158/200\n",
      "88/88 [==============================] - 0s 2ms/step - loss: 0.2511 - accuracy: 0.9022\n",
      "Epoch 159/200\n",
      "88/88 [==============================] - 0s 2ms/step - loss: 0.2692 - accuracy: 0.8886\n",
      "Epoch 160/200\n",
      "88/88 [==============================] - 0s 2ms/step - loss: 0.2566 - accuracy: 0.9003\n",
      "Epoch 161/200\n",
      "88/88 [==============================] - 0s 2ms/step - loss: 0.2475 - accuracy: 0.9026\n",
      "Epoch 162/200\n",
      "88/88 [==============================] - 0s 2ms/step - loss: 0.2610 - accuracy: 0.8964\n",
      "Epoch 163/200\n",
      "88/88 [==============================] - 0s 2ms/step - loss: 0.2509 - accuracy: 0.9020\n",
      "Epoch 164/200\n",
      "88/88 [==============================] - 0s 2ms/step - loss: 0.2495 - accuracy: 0.9033\n",
      "Epoch 165/200\n",
      "88/88 [==============================] - 0s 2ms/step - loss: 0.2384 - accuracy: 0.9068\n",
      "Epoch 166/200\n",
      "88/88 [==============================] - 0s 2ms/step - loss: 0.2383 - accuracy: 0.9060\n",
      "Epoch 167/200\n",
      "88/88 [==============================] - 0s 2ms/step - loss: 0.2584 - accuracy: 0.9000\n",
      "Epoch 168/200\n",
      "88/88 [==============================] - 0s 2ms/step - loss: 0.2327 - accuracy: 0.9087\n",
      "Epoch 169/200\n",
      "88/88 [==============================] - 0s 2ms/step - loss: 0.2438 - accuracy: 0.9047\n",
      "Epoch 170/200\n",
      "88/88 [==============================] - 0s 2ms/step - loss: 0.2498 - accuracy: 0.8995\n",
      "Epoch 171/200\n",
      "88/88 [==============================] - 0s 2ms/step - loss: 0.2343 - accuracy: 0.9078\n",
      "Epoch 172/200\n",
      "88/88 [==============================] - 0s 2ms/step - loss: 0.2378 - accuracy: 0.9043\n",
      "Epoch 173/200\n",
      "88/88 [==============================] - 0s 2ms/step - loss: 0.2285 - accuracy: 0.9135\n",
      "Epoch 174/200\n",
      "88/88 [==============================] - 0s 2ms/step - loss: 0.2300 - accuracy: 0.9095\n",
      "Epoch 175/200\n",
      "88/88 [==============================] - 0s 2ms/step - loss: 0.2284 - accuracy: 0.9107\n",
      "Epoch 176/200\n",
      "88/88 [==============================] - 0s 2ms/step - loss: 0.2316 - accuracy: 0.9092\n",
      "Epoch 177/200\n",
      "88/88 [==============================] - 0s 2ms/step - loss: 0.2245 - accuracy: 0.9099\n",
      "Epoch 178/200\n",
      "88/88 [==============================] - 0s 2ms/step - loss: 0.2256 - accuracy: 0.9097\n",
      "Epoch 179/200\n",
      "88/88 [==============================] - 0s 2ms/step - loss: 0.2390 - accuracy: 0.9050\n",
      "Epoch 180/200\n",
      "88/88 [==============================] - 0s 2ms/step - loss: 0.2214 - accuracy: 0.9122\n",
      "Epoch 181/200\n",
      "88/88 [==============================] - 0s 2ms/step - loss: 0.2256 - accuracy: 0.9131\n",
      "Epoch 182/200\n",
      "88/88 [==============================] - 0s 2ms/step - loss: 0.2182 - accuracy: 0.9150\n",
      "Epoch 183/200\n",
      "88/88 [==============================] - 0s 2ms/step - loss: 0.2330 - accuracy: 0.9086\n",
      "Epoch 184/200\n",
      "88/88 [==============================] - 0s 2ms/step - loss: 0.2262 - accuracy: 0.9111\n",
      "Epoch 185/200\n",
      "88/88 [==============================] - 0s 2ms/step - loss: 0.2290 - accuracy: 0.9104\n",
      "Epoch 186/200\n",
      "88/88 [==============================] - 0s 2ms/step - loss: 0.2182 - accuracy: 0.9147\n",
      "Epoch 187/200\n",
      "88/88 [==============================] - 0s 2ms/step - loss: 0.2142 - accuracy: 0.9149\n",
      "Epoch 188/200\n",
      "88/88 [==============================] - 0s 2ms/step - loss: 0.2276 - accuracy: 0.9102\n",
      "Epoch 189/200\n",
      "88/88 [==============================] - 0s 2ms/step - loss: 0.2179 - accuracy: 0.9129\n",
      "Epoch 190/200\n",
      "88/88 [==============================] - 0s 2ms/step - loss: 0.2129 - accuracy: 0.9181\n",
      "Epoch 191/200\n",
      "88/88 [==============================] - 0s 2ms/step - loss: 0.2037 - accuracy: 0.9234\n",
      "Epoch 192/200\n",
      "88/88 [==============================] - 0s 2ms/step - loss: 0.2217 - accuracy: 0.9157\n",
      "Epoch 193/200\n",
      "88/88 [==============================] - 0s 2ms/step - loss: 0.2366 - accuracy: 0.9086\n",
      "Epoch 194/200\n",
      "88/88 [==============================] - 0s 2ms/step - loss: 0.2097 - accuracy: 0.9159\n",
      "Epoch 195/200\n",
      "88/88 [==============================] - 0s 2ms/step - loss: 0.2054 - accuracy: 0.9205\n",
      "Epoch 196/200\n",
      "88/88 [==============================] - 0s 2ms/step - loss: 0.2157 - accuracy: 0.9162\n",
      "Epoch 197/200\n",
      "88/88 [==============================] - 0s 2ms/step - loss: 0.2094 - accuracy: 0.9171\n",
      "Epoch 198/200\n",
      "88/88 [==============================] - 0s 2ms/step - loss: 0.2130 - accuracy: 0.9160\n",
      "Epoch 199/200\n",
      "88/88 [==============================] - 0s 2ms/step - loss: 0.2070 - accuracy: 0.9211\n",
      "Epoch 200/200\n",
      "88/88 [==============================] - 0s 2ms/step - loss: 0.2058 - accuracy: 0.9219\n"
     ]
    }
   ],
   "source": [
    "y_pred = compile_fit_multiclass(model, X_train, X_test, y_train, 256, 200, verbose=1)"
   ]
  },
  {
   "cell_type": "code",
   "execution_count": 23,
   "metadata": {},
   "outputs": [
    {
     "output_type": "stream",
     "name": "stdout",
     "text": [
      "[[570   0   0   0   0   0   0   0   0   2   1   0   0   0   0   0   1   0]\n [  1 211   0   0   1   0   0  27   2  33   2   0   5   0   0   0   0   0]\n [  1   1 457   0   0   0   2  12   0   1   0   0  84  10   0  65   0   0]\n [  3   0   0 373   0   0  30   0   0   0   0   6   0   0   0   0   0   0]\n [  1   0   0   0  72   9   0   0   0   1  10   0   0   0   2   0   0   0]\n [  0   0   0   0   0  31   0   0   0   0   0   0   0   0   2   0   0   0]\n [  4   0   1  50   0   0 806   0   0   0   0   0   0  77   0  12   0   0]\n [  0  34   4   0   2   0   0 244   0   5   0   0  28   0   0   0   0   0]\n [  2   0   0   0   0   0   0   0   4   0   0   0   0   0   0   0   0   1]\n [  2  16   0   0   0   0   0   2   1 113  14   0   0   0   0   0   0   0]\n [  1   2   0   0   5   2   0   0   0   6  93   0   0   0   0   0   1   1]\n [  1   0   0  16   0   0   0   0   0   0   0  63   0   0   0   0   0   0]\n [  1   7  24   0   0   0   0  44   0   3   1   0 261   1   0   3   0   0]\n [  1   0   7   0   0   0  63   0   0   0   0   0   1 681   0  76   0   0]\n [  1   0   0   0   0   1   0   0   1   0   0   0   0   0   9   0   0   0]\n [  0   0  78   0   0   0   8   2   0   0   0   0   5  69   0 559   0   0]\n [  1   0   0   0   0   0   0   0   2   0   0   0   0   0   2   0  52   0]\n [  0   0   0   0   0   0   0   0   1   0   0   0   0   0   0   0   0   5]]\n"
     ]
    }
   ],
   "source": [
    "from sklearn.metrics import confusion_matrix, precision_score, \\\n",
    "f1_score, cohen_kappa_score, recall_score\n",
    "\n",
    "confusion = confusion_matrix(np.argmax(y_pred, axis = 1), np.argmax(y_test, axis = 1))\n",
    "print(confusion)"
   ]
  },
  {
   "cell_type": "code",
   "execution_count": 22,
   "metadata": {},
   "outputs": [
    {
     "output_type": "execute_result",
     "data": {
      "text/plain": [
       "[0.8203848895224519, 0.8203848895224519, 0.8203848895224519, 0.799189772455146]"
      ]
     },
     "metadata": {},
     "execution_count": 22
    }
   ],
   "source": [
    "compute_metrics_multiclass(np.argmax(y_pred, axis = 1), np.argmax(y_test, axis = 1))"
   ]
  },
  {
   "cell_type": "code",
   "execution_count": null,
   "metadata": {},
   "outputs": [],
   "source": []
  }
 ],
 "metadata": {
  "kernelspec": {
   "name": "python3710jvsc74a57bd03498809ad0933a938773cf5296d2f109940af130e065f95298c4036d7f924fb9",
   "display_name": "Python 3.7.10 64-bit ('tf_gpu': conda)"
  },
  "language_info": {
   "codemirror_mode": {
    "name": "ipython",
    "version": 3
   },
   "file_extension": ".py",
   "mimetype": "text/x-python",
   "name": "python",
   "nbconvert_exporter": "python",
   "pygments_lexer": "ipython3",
   "version": "3.7.10"
  },
  "metadata": {
   "interpreter": {
    "hash": "3498809ad0933a938773cf5296d2f109940af130e065f95298c4036d7f924fb9"
   }
  }
 },
 "nbformat": 4,
 "nbformat_minor": 4
}