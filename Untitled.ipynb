{
 "cells": [
  {
   "cell_type": "code",
   "execution_count": 1,
   "id": "3d1a53f7-f989-4835-a875-5f52d00aaef5",
   "metadata": {},
   "outputs": [],
   "source": [
    "a = [1, \"2\"]"
   ]
  },
  {
   "cell_type": "code",
   "execution_count": 2,
   "id": "e7c92b38-f29c-4300-a710-a97d559f40ce",
   "metadata": {},
   "outputs": [
    {
     "data": {
      "text/plain": [
       "True"
      ]
     },
     "execution_count": 2,
     "metadata": {},
     "output_type": "execute_result"
    }
   ],
   "source": [
    "isinstance(a[0], int)"
   ]
  },
  {
   "cell_type": "code",
   "execution_count": 4,
   "id": "bab42ffa-3fbf-4092-b10b-b6af901bfe5e",
   "metadata": {},
   "outputs": [
    {
     "data": {
      "text/plain": [
       "True"
      ]
     },
     "execution_count": 4,
     "metadata": {},
     "output_type": "execute_result"
    }
   ],
   "source": [
    "isinstance(a[1], str)"
   ]
  },
  {
   "cell_type": "code",
   "execution_count": 9,
   "id": "464f6690-b15d-4572-b238-564988b358db",
   "metadata": {},
   "outputs": [],
   "source": [
    "a = \"d0.3\""
   ]
  },
  {
   "cell_type": "code",
   "execution_count": 11,
   "id": "37fc799a-5619-46ed-93ca-4d7bab053e61",
   "metadata": {},
   "outputs": [
    {
     "data": {
      "text/plain": [
       "0.3"
      ]
     },
     "execution_count": 11,
     "metadata": {},
     "output_type": "execute_result"
    }
   ],
   "source": [
    "float(a[1:])"
   ]
  },
  {
   "cell_type": "code",
   "execution_count": null,
   "id": "c1c9ba0e-bc83-4e99-90ae-924afad7232f",
   "metadata": {},
   "outputs": [],
   "source": []
  },
  {
   "cell_type": "code",
   "execution_count": null,
   "id": "197fb44a-c5cc-47a9-a3fd-76bb0b796890",
   "metadata": {},
   "outputs": [],
   "source": [
    "result = [None]*(len(list1)+len(list2))\n",
    "result[::2] = list1\n",
    "result[1::2] = list2"
   ]
  }
 ],
 "metadata": {
  "kernelspec": {
   "display_name": "Python 3.7.10 64-bit ('tf_gpu': conda)",
   "language": "python",
   "name": "python3710jvsc74a57bd03498809ad0933a938773cf5296d2f109940af130e065f95298c4036d7f924fb9"
  },
  "language_info": {
   "codemirror_mode": {
    "name": "ipython",
    "version": 3
   },
   "file_extension": ".py",
   "mimetype": "text/x-python",
   "name": "python",
   "nbconvert_exporter": "python",
   "pygments_lexer": "ipython3",
   "version": "3.7.10"
  }
 },
 "nbformat": 4,
 "nbformat_minor": 5
}
